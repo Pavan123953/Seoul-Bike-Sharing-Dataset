{
 "cells": [
  {
   "cell_type": "code",
   "execution_count": 1,
   "id": "1ad79625",
   "metadata": {},
   "outputs": [],
   "source": [
    "import pandas as pd\n",
    "import numpy as np\n",
    "import matplotlib.pyplot as plt\n",
    "import seaborn as sns\n",
    "import pickle\n",
    "import warnings\n",
    "warnings.filterwarnings('ignore')"
   ]
  },
  {
   "cell_type": "code",
   "execution_count": 2,
   "id": "743ba6db",
   "metadata": {},
   "outputs": [
    {
     "data": {
      "text/html": [
       "<div>\n",
       "<style scoped>\n",
       "    .dataframe tbody tr th:only-of-type {\n",
       "        vertical-align: middle;\n",
       "    }\n",
       "\n",
       "    .dataframe tbody tr th {\n",
       "        vertical-align: top;\n",
       "    }\n",
       "\n",
       "    .dataframe thead th {\n",
       "        text-align: right;\n",
       "    }\n",
       "</style>\n",
       "<table border=\"1\" class=\"dataframe\">\n",
       "  <thead>\n",
       "    <tr style=\"text-align: right;\">\n",
       "      <th></th>\n",
       "      <th>Unnamed: 0</th>\n",
       "      <th>Rented Bike Count</th>\n",
       "      <th>Hour</th>\n",
       "      <th>Temperature(C)</th>\n",
       "      <th>Humidity(%)</th>\n",
       "      <th>Wind speed (m/s)</th>\n",
       "      <th>Visibility (10m)</th>\n",
       "      <th>Solar Radiation (MJ/m2)</th>\n",
       "      <th>Rainfall(mm)</th>\n",
       "      <th>Snowfall (cm)</th>\n",
       "      <th>is_Winter</th>\n",
       "      <th>is_Spring</th>\n",
       "      <th>is_Summer</th>\n",
       "      <th>is_Autumn</th>\n",
       "      <th>is_Holiday</th>\n",
       "      <th>is_Functioning_day</th>\n",
       "      <th>Month</th>\n",
       "      <th>Day</th>\n",
       "      <th>int_date</th>\n",
       "    </tr>\n",
       "  </thead>\n",
       "  <tbody>\n",
       "    <tr>\n",
       "      <th>0</th>\n",
       "      <td>0</td>\n",
       "      <td>254</td>\n",
       "      <td>0</td>\n",
       "      <td>-5.2</td>\n",
       "      <td>37</td>\n",
       "      <td>2.2</td>\n",
       "      <td>2000</td>\n",
       "      <td>0.0</td>\n",
       "      <td>0.0</td>\n",
       "      <td>0.0</td>\n",
       "      <td>True</td>\n",
       "      <td>False</td>\n",
       "      <td>False</td>\n",
       "      <td>False</td>\n",
       "      <td>False</td>\n",
       "      <td>True</td>\n",
       "      <td>12.0</td>\n",
       "      <td>0</td>\n",
       "      <td>43068.0</td>\n",
       "    </tr>\n",
       "    <tr>\n",
       "      <th>1</th>\n",
       "      <td>1</td>\n",
       "      <td>204</td>\n",
       "      <td>1</td>\n",
       "      <td>-5.5</td>\n",
       "      <td>38</td>\n",
       "      <td>0.8</td>\n",
       "      <td>2000</td>\n",
       "      <td>0.0</td>\n",
       "      <td>0.0</td>\n",
       "      <td>0.0</td>\n",
       "      <td>True</td>\n",
       "      <td>False</td>\n",
       "      <td>False</td>\n",
       "      <td>False</td>\n",
       "      <td>False</td>\n",
       "      <td>True</td>\n",
       "      <td>12.0</td>\n",
       "      <td>0</td>\n",
       "      <td>43068.0</td>\n",
       "    </tr>\n",
       "    <tr>\n",
       "      <th>2</th>\n",
       "      <td>2</td>\n",
       "      <td>173</td>\n",
       "      <td>2</td>\n",
       "      <td>-6.0</td>\n",
       "      <td>39</td>\n",
       "      <td>1.0</td>\n",
       "      <td>2000</td>\n",
       "      <td>0.0</td>\n",
       "      <td>0.0</td>\n",
       "      <td>0.0</td>\n",
       "      <td>True</td>\n",
       "      <td>False</td>\n",
       "      <td>False</td>\n",
       "      <td>False</td>\n",
       "      <td>False</td>\n",
       "      <td>True</td>\n",
       "      <td>12.0</td>\n",
       "      <td>0</td>\n",
       "      <td>43068.0</td>\n",
       "    </tr>\n",
       "    <tr>\n",
       "      <th>3</th>\n",
       "      <td>3</td>\n",
       "      <td>107</td>\n",
       "      <td>3</td>\n",
       "      <td>-6.2</td>\n",
       "      <td>40</td>\n",
       "      <td>0.9</td>\n",
       "      <td>2000</td>\n",
       "      <td>0.0</td>\n",
       "      <td>0.0</td>\n",
       "      <td>0.0</td>\n",
       "      <td>True</td>\n",
       "      <td>False</td>\n",
       "      <td>False</td>\n",
       "      <td>False</td>\n",
       "      <td>False</td>\n",
       "      <td>True</td>\n",
       "      <td>12.0</td>\n",
       "      <td>0</td>\n",
       "      <td>43068.0</td>\n",
       "    </tr>\n",
       "    <tr>\n",
       "      <th>4</th>\n",
       "      <td>4</td>\n",
       "      <td>78</td>\n",
       "      <td>4</td>\n",
       "      <td>-6.0</td>\n",
       "      <td>36</td>\n",
       "      <td>2.3</td>\n",
       "      <td>2000</td>\n",
       "      <td>0.0</td>\n",
       "      <td>0.0</td>\n",
       "      <td>0.0</td>\n",
       "      <td>True</td>\n",
       "      <td>False</td>\n",
       "      <td>False</td>\n",
       "      <td>False</td>\n",
       "      <td>False</td>\n",
       "      <td>True</td>\n",
       "      <td>12.0</td>\n",
       "      <td>0</td>\n",
       "      <td>43068.0</td>\n",
       "    </tr>\n",
       "  </tbody>\n",
       "</table>\n",
       "</div>"
      ],
      "text/plain": [
       "   Unnamed: 0  Rented Bike Count  Hour  Temperature(C)  Humidity(%)  \\\n",
       "0           0                254     0            -5.2           37   \n",
       "1           1                204     1            -5.5           38   \n",
       "2           2                173     2            -6.0           39   \n",
       "3           3                107     3            -6.2           40   \n",
       "4           4                 78     4            -6.0           36   \n",
       "\n",
       "   Wind speed (m/s)  Visibility (10m)  Solar Radiation (MJ/m2)  Rainfall(mm)  \\\n",
       "0               2.2              2000                      0.0           0.0   \n",
       "1               0.8              2000                      0.0           0.0   \n",
       "2               1.0              2000                      0.0           0.0   \n",
       "3               0.9              2000                      0.0           0.0   \n",
       "4               2.3              2000                      0.0           0.0   \n",
       "\n",
       "   Snowfall (cm)  is_Winter  is_Spring  is_Summer  is_Autumn  is_Holiday  \\\n",
       "0            0.0       True      False      False      False       False   \n",
       "1            0.0       True      False      False      False       False   \n",
       "2            0.0       True      False      False      False       False   \n",
       "3            0.0       True      False      False      False       False   \n",
       "4            0.0       True      False      False      False       False   \n",
       "\n",
       "   is_Functioning_day  Month  Day  int_date  \n",
       "0                True   12.0    0   43068.0  \n",
       "1                True   12.0    0   43068.0  \n",
       "2                True   12.0    0   43068.0  \n",
       "3                True   12.0    0   43068.0  \n",
       "4                True   12.0    0   43068.0  "
      ]
     },
     "execution_count": 2,
     "metadata": {},
     "output_type": "execute_result"
    }
   ],
   "source": [
    "df = pd.read_csv(\"Group_5_data_cleaned.csv\")\n",
    "df.head()"
   ]
  },
  {
   "cell_type": "code",
   "execution_count": 3,
   "id": "aa0aaf6f",
   "metadata": {},
   "outputs": [],
   "source": [
    "df = df.drop(['Unnamed: 0'],axis=1)"
   ]
  },
  {
   "cell_type": "code",
   "execution_count": 4,
   "id": "7b1dd501",
   "metadata": {},
   "outputs": [],
   "source": [
    "X = df.drop('Rented Bike Count',axis=1)\n",
    "y = df['Rented Bike Count']"
   ]
  },
  {
   "cell_type": "code",
   "execution_count": 5,
   "id": "60f2dd90",
   "metadata": {},
   "outputs": [],
   "source": [
    "#Min Max scaling \n",
    "from sklearn.preprocessing import MinMaxScaler\n",
    "from sklearn.preprocessing import StandardScaler, MinMaxScaler, RobustScaler \n",
    "from sklearn.metrics import r2_score\n",
    "\n",
    "scaler = MinMaxScaler()\n",
    "model=scaler.fit(X)\n",
    "scaled_X=model.transform(X)\n",
    "\n",
    "y = y.values.reshape(-1, 1)\n",
    "model1=scaler.fit(y)\n",
    "scaled_y=model1.transform(y)"
   ]
  },
  {
   "cell_type": "code",
   "execution_count": 6,
   "id": "fc3c3a04",
   "metadata": {},
   "outputs": [],
   "source": [
    "from sklearn.model_selection import train_test_split\n",
    "from sklearn import metrics\n",
    "#splitting data into train,validation and test datasets\n",
    "X_train, X_rem, y_train, y_rem = train_test_split(scaled_X,scaled_y, train_size=0.80,random_state=1111)"
   ]
  },
  {
   "cell_type": "code",
   "execution_count": 7,
   "id": "eae920e3",
   "metadata": {},
   "outputs": [],
   "source": [
    "X_valid, X_test, y_valid, y_test = train_test_split(X_rem,y_rem, test_size=0.5,random_state=1111)"
   ]
  },
  {
   "cell_type": "code",
   "execution_count": 8,
   "id": "58406d41",
   "metadata": {},
   "outputs": [
    {
     "name": "stdout",
     "output_type": "stream",
     "text": [
      "(7008, 17)\n",
      "(7008, 1)\n",
      "(876, 17)\n",
      "(876, 1)\n",
      "(876, 17)\n",
      "(876, 1)\n"
     ]
    },
    {
     "data": {
      "text/plain": [
       "(None, None)"
      ]
     },
     "execution_count": 8,
     "metadata": {},
     "output_type": "execute_result"
    }
   ],
   "source": [
    "# shapes of train,validation and  test split\n",
    "print(X_train.shape), print(y_train.shape)\n",
    "print(X_valid.shape), print(y_valid.shape)\n",
    "print(X_test.shape), print(y_test.shape)"
   ]
  },
  {
   "cell_type": "markdown",
   "id": "46b731d3",
   "metadata": {},
   "source": [
    "# SVM with linear kernel"
   ]
  },
  {
   "cell_type": "code",
   "execution_count": 9,
   "id": "2115fc89",
   "metadata": {},
   "outputs": [],
   "source": [
    "from sklearn.model_selection import GridSearchCV\n",
    "from sklearn.svm import SVR\n",
    "from sklearn.metrics import r2_score"
   ]
  },
  {
   "cell_type": "code",
   "execution_count": 10,
   "id": "eb9546b7",
   "metadata": {},
   "outputs": [
    {
     "data": {
      "text/plain": [
       "SVR(kernel='linear')"
      ]
     },
     "execution_count": 10,
     "metadata": {},
     "output_type": "execute_result"
    }
   ],
   "source": [
    "model = SVR(kernel=\"linear\")\n",
    "model.fit(X_train,y_train)"
   ]
  },
  {
   "cell_type": "code",
   "execution_count": 11,
   "id": "80d8e819",
   "metadata": {},
   "outputs": [],
   "source": [
    "y_test_pred = model.predict(X_test)"
   ]
  },
  {
   "cell_type": "code",
   "execution_count": 12,
   "id": "c563909b",
   "metadata": {},
   "outputs": [
    {
     "name": "stdout",
     "output_type": "stream",
     "text": [
      "MSE: 0.015256137740196695\n"
     ]
    }
   ],
   "source": [
    "from sklearn.metrics import mean_squared_error\n",
    "mse = mean_squared_error(y_test_pred, y_test)\n",
    "print(\"MSE:\", mse)"
   ]
  },
  {
   "cell_type": "code",
   "execution_count": 13,
   "id": "7feabe1a",
   "metadata": {},
   "outputs": [
    {
     "data": {
      "text/plain": [
       "0.5553359237748904"
      ]
     },
     "execution_count": 13,
     "metadata": {},
     "output_type": "execute_result"
    }
   ],
   "source": [
    "model.score(X_test, y_test)"
   ]
  },
  {
   "cell_type": "code",
   "execution_count": 14,
   "id": "0b9207e0",
   "metadata": {},
   "outputs": [
    {
     "name": "stdout",
     "output_type": "stream",
     "text": [
      "The mean squared error is 0.014811153422639053\n",
      "The mean absolute error is 0.09087244333723549\n",
      "The root mean sqaured error is 0.12170108225746824\n"
     ]
    }
   ],
   "source": [
    "y_train_pred = model.predict(X_train)\n",
    "MSE = metrics.mean_squared_error(y_train_pred, y_train)\n",
    "MAE =  metrics.mean_absolute_error(y_train_pred, y_train)\n",
    "RMSE = MSE**0.5\n",
    "print(f\"The mean squared error is {MSE}\")\n",
    "print(f\"The mean absolute error is {MAE}\")\n",
    "print(f\"The root mean sqaured error is {RMSE}\")"
   ]
  },
  {
   "cell_type": "code",
   "execution_count": 15,
   "id": "eede6cb7",
   "metadata": {},
   "outputs": [
    {
     "name": "stdout",
     "output_type": "stream",
     "text": [
      "The mean squared error is 0.012824440822983762\n",
      "The mean absolute error is 0.08600131040863511\n",
      "The root mean sqaured error is 0.11324504767531232\n"
     ]
    }
   ],
   "source": [
    "#model on the validation dataset\n",
    "y_valid_pred = model.predict(X_valid)\n",
    "MSE = metrics.mean_squared_error(y_valid_pred, y_valid)\n",
    "MAE =  metrics.mean_absolute_error(y_valid_pred, y_valid)\n",
    "RMSE = MSE**0.5\n",
    "print(f\"The mean squared error is {MSE}\")\n",
    "print(f\"The mean absolute error is {MAE}\")\n",
    "print(f\"The root mean sqaured error is {RMSE}\")"
   ]
  },
  {
   "cell_type": "code",
   "execution_count": 16,
   "id": "98882189",
   "metadata": {},
   "outputs": [
    {
     "name": "stdout",
     "output_type": "stream",
     "text": [
      "The mean squared error is 0.015256137740196695\n",
      "The mean absolute error is 0.09285999321283496\n",
      "The root mean sqaured error is 0.12351573883597465\n"
     ]
    }
   ],
   "source": [
    "y_test_pred = model.predict(X_test)\n",
    "MSE = metrics.mean_squared_error(y_test_pred, y_test)\n",
    "MAE =  metrics.mean_absolute_error(y_test_pred, y_test)\n",
    "RMSE = MSE**0.5\n",
    "print(f\"The mean squared error is {MSE}\")\n",
    "print(f\"The mean absolute error is {MAE}\")\n",
    "print(f\"The root mean sqaured error is {RMSE}\")"
   ]
  },
  {
   "cell_type": "code",
   "execution_count": 17,
   "id": "31c251d1",
   "metadata": {},
   "outputs": [
    {
     "name": "stdout",
     "output_type": "stream",
     "text": [
      "R^2 is 0.5553359237748904\n",
      "RMSE is: 0.12351573883597465\n"
     ]
    },
    {
     "data": {
      "image/png": "[encoded data removed]",
      "text/plain": [
       "<Figure size 640x480 with 1 Axes>"
      ]
     },
     "metadata": {},
     "output_type": "display_data"
    }
   ],
   "source": [
    "plt.scatter(y_test_pred,y_test,color='b')\n",
    "plt.xlabel('Predicted')\n",
    "plt.ylabel('Actual')\n",
    "print(f'R^2 is {model.score(X_test,y_test)}\\nRMSE is: {metrics.mean_squared_error(y_test_pred,y_test,squared=False)}')"
   ]
  },
  {
   "cell_type": "markdown",
   "id": "17b79366",
   "metadata": {},
   "source": [
    "# Hyperparameters"
   ]
  },
  {
   "cell_type": "code",
   "execution_count": 18,
   "id": "c9abf7e3",
   "metadata": {},
   "outputs": [
    {
     "name": "stdout",
     "output_type": "stream",
     "text": [
      "Fitting 5 folds for each of 6 candidates, totalling 30 fits\n",
      "[CV 1/5] END .....C=0.1, gamma=1, kernel=linear;, score=0.560 total time=   0.7s\n",
      "[CV 2/5] END .....C=0.1, gamma=1, kernel=linear;, score=0.528 total time=   0.6s\n",
      "[CV 3/5] END .....C=0.1, gamma=1, kernel=linear;, score=0.539 total time=   0.6s\n",
      "[CV 4/5] END .....C=0.1, gamma=1, kernel=linear;, score=0.543 total time=   0.5s\n",
      "[CV 5/5] END .....C=0.1, gamma=1, kernel=linear;, score=0.575 total time=   0.6s\n",
      "[CV 1/5] END ...C=0.1, gamma=0.1, kernel=linear;, score=0.560 total time=   0.5s\n",
      "[CV 2/5] END ...C=0.1, gamma=0.1, kernel=linear;, score=0.528 total time=   0.5s\n",
      "[CV 3/5] END ...C=0.1, gamma=0.1, kernel=linear;, score=0.539 total time=   0.5s\n",
      "[CV 4/5] END ...C=0.1, gamma=0.1, kernel=linear;, score=0.543 total time=   0.5s\n",
      "[CV 5/5] END ...C=0.1, gamma=0.1, kernel=linear;, score=0.575 total time=   0.6s\n",
      "[CV 1/5] END ..C=0.1, gamma=0.01, kernel=linear;, score=0.560 total time=   0.6s\n",
      "[CV 2/5] END ..C=0.1, gamma=0.01, kernel=linear;, score=0.528 total time=   0.6s\n",
      "[CV 3/5] END ..C=0.1, gamma=0.01, kernel=linear;, score=0.539 total time=   0.5s\n",
      "[CV 4/5] END ..C=0.1, gamma=0.01, kernel=linear;, score=0.543 total time=   0.5s\n",
      "[CV 5/5] END ..C=0.1, gamma=0.01, kernel=linear;, score=0.575 total time=   0.6s\n",
      "[CV 1/5] END .......C=1, gamma=1, kernel=linear;, score=0.561 total time=   0.7s\n",
      "[CV 2/5] END .......C=1, gamma=1, kernel=linear;, score=0.529 total time=   0.7s\n",
      "[CV 3/5] END .......C=1, gamma=1, kernel=linear;, score=0.540 total time=   0.7s\n",
      "[CV 4/5] END .......C=1, gamma=1, kernel=linear;, score=0.545 total time=   0.7s\n",
      "[CV 5/5] END .......C=1, gamma=1, kernel=linear;, score=0.577 total time=   0.7s\n",
      "[CV 1/5] END .....C=1, gamma=0.1, kernel=linear;, score=0.561 total time=   0.7s\n",
      "[CV 2/5] END .....C=1, gamma=0.1, kernel=linear;, score=0.529 total time=   0.7s\n",
      "[CV 3/5] END .....C=1, gamma=0.1, kernel=linear;, score=0.540 total time=   0.7s\n",
      "[CV 4/5] END .....C=1, gamma=0.1, kernel=linear;, score=0.545 total time=   0.7s\n",
      "[CV 5/5] END .....C=1, gamma=0.1, kernel=linear;, score=0.577 total time=   0.7s\n",
      "[CV 1/5] END ....C=1, gamma=0.01, kernel=linear;, score=0.561 total time=   0.7s\n",
      "[CV 2/5] END ....C=1, gamma=0.01, kernel=linear;, score=0.529 total time=   0.7s\n",
      "[CV 3/5] END ....C=1, gamma=0.01, kernel=linear;, score=0.540 total time=   0.7s\n",
      "[CV 4/5] END ....C=1, gamma=0.01, kernel=linear;, score=0.545 total time=   1.2s\n",
      "[CV 5/5] END ....C=1, gamma=0.01, kernel=linear;, score=0.577 total time=   1.3s\n"
     ]
    },
    {
     "data": {
      "text/plain": [
       "GridSearchCV(estimator=SVR(),\n",
       "             param_grid={'C': [0.1, 1], 'gamma': [1, 0.1, 0.01],\n",
       "                         'kernel': ['linear']},\n",
       "             verbose=3)"
      ]
     },
     "execution_count": 18,
     "metadata": {},
     "output_type": "execute_result"
    }
   ],
   "source": [
    "from sklearn.model_selection import GridSearchCV\n",
    "\n",
    "parameters_grid = {'C': [0.1, 1], \n",
    "              'gamma': [1, 0.1, 0.01],\n",
    "              'kernel': ['linear']} \n",
    "\n",
    "grid = GridSearchCV(SVR(), \n",
    "                    parameters_grid, \n",
    "                    refit = True, \n",
    "                    verbose = 3\n",
    "                   )\n",
    "\n",
    "grid.fit(X_train,y_train)"
   ]
  },
  {
   "cell_type": "code",
   "execution_count": 19,
   "id": "4d06ef27",
   "metadata": {},
   "outputs": [
    {
     "data": {
      "text/plain": [
       "{'C': 1, 'gamma': 1, 'kernel': 'linear'}"
      ]
     },
     "execution_count": 19,
     "metadata": {},
     "output_type": "execute_result"
    }
   ],
   "source": [
    "grid.best_params_"
   ]
  },
  {
   "cell_type": "code",
   "execution_count": 20,
   "id": "57fd4b07",
   "metadata": {},
   "outputs": [],
   "source": [
    "# best model \n",
    "best_model_linear = SVR(kernel=\"linear\",C=1,gamma=1)\n",
    "best_model_linear.fit(X_train,y_train)\n",
    "filename = 'svm_lin_co.sav'\n",
    "pickle.dump(best_model_linear, open(filename, 'wb'))"
   ]
  },
  {
   "cell_type": "code",
   "execution_count": 21,
   "id": "7c03b97b",
   "metadata": {},
   "outputs": [
    {
     "name": "stdout",
     "output_type": "stream",
     "text": [
      "The mean squared error is 0.012824440822983762\n",
      "The mean absolute error is 0.08600131040863511\n",
      "The root mean sqaured error is 0.11324504767531232\n",
      "The regression score is 0.2677449271258193\n"
     ]
    }
   ],
   "source": [
    "# best model on validation data\n",
    "y_valid_pred = best_model_linear.predict(X_valid)\n",
    "MSE = metrics.mean_squared_error(y_valid_pred, y_valid)\n",
    "MAE =  metrics.mean_absolute_error(y_valid_pred, y_valid)\n",
    "r2_score = metrics.r2_score(y_valid_pred,y_valid)\n",
    "RMSE = MSE**0.5\n",
    "print(f\"The mean squared error is {MSE}\")\n",
    "print(f\"The mean absolute error is {MAE}\")\n",
    "print(f\"The root mean sqaured error is {RMSE}\")\n",
    "print(f\"The regression score is {r2_score}\")"
   ]
  },
  {
   "cell_type": "code",
   "execution_count": 22,
   "id": "c2086c3f",
   "metadata": {},
   "outputs": [
    {
     "name": "stdout",
     "output_type": "stream",
     "text": [
      "The mean squared error is 0.015256137740196695\n",
      "The mean absolute error is 0.09285999321283496\n",
      "The root mean sqaured error is 0.12351573883597465\n",
      "The regression score is 0.07172551431090768\n"
     ]
    }
   ],
   "source": [
    "# best model on test data\n",
    "y_test_pred = best_model_linear.predict(X_test)\n",
    "MSE = metrics.mean_squared_error(y_test_pred, y_test)\n",
    "MAE =  metrics.mean_absolute_error(y_test_pred, y_test)\n",
    "r2_score = metrics.r2_score(y_test_pred,y_test)\n",
    "RMSE = MSE**0.5\n",
    "print(f\"The mean squared error is {MSE}\")\n",
    "print(f\"The mean absolute error is {MAE}\")\n",
    "print(f\"The root mean sqaured error is {RMSE}\")\n",
    "print(f\"The regression score is {r2_score}\")"
   ]
  },
  {
   "cell_type": "markdown",
   "id": "f685ad75",
   "metadata": {},
   "source": [
    "# SVM with nonlinear kernel"
   ]
  },
  {
   "cell_type": "code",
   "execution_count": 23,
   "id": "ee1d700a",
   "metadata": {},
   "outputs": [
    {
     "data": {
      "text/plain": [
       "SVR(kernel='poly')"
      ]
     },
     "execution_count": 23,
     "metadata": {},
     "output_type": "execute_result"
    }
   ],
   "source": [
    "model = SVR(kernel=\"poly\")\n",
    "model.fit(X_train,y_train)"
   ]
  },
  {
   "cell_type": "code",
   "execution_count": 24,
   "id": "69979178",
   "metadata": {},
   "outputs": [],
   "source": [
    "y_test_pred = model.predict(X_test)"
   ]
  },
  {
   "cell_type": "code",
   "execution_count": 25,
   "id": "afd5c370",
   "metadata": {},
   "outputs": [
    {
     "name": "stdout",
     "output_type": "stream",
     "text": [
      "MSE: 0.00869012265481351\n"
     ]
    }
   ],
   "source": [
    "from sklearn.metrics import mean_squared_error\n",
    "mse = mean_squared_error(y_test_pred, y_test)\n",
    "print(\"MSE:\", mse)"
   ]
  },
  {
   "cell_type": "code",
   "execution_count": 26,
   "id": "2e0add2f",
   "metadata": {},
   "outputs": [
    {
     "data": {
      "text/plain": [
       "0.7467127376279361"
      ]
     },
     "execution_count": 26,
     "metadata": {},
     "output_type": "execute_result"
    }
   ],
   "source": [
    "model.score(X_test, y_test)"
   ]
  },
  {
   "cell_type": "code",
   "execution_count": 27,
   "id": "f8ea0dad",
   "metadata": {},
   "outputs": [
    {
     "name": "stdout",
     "output_type": "stream",
     "text": [
      "The mean squared error is 0.007753219294623688\n",
      "The mean absolute error is 0.06523672376946675\n",
      "The root mean sqaured error is 0.08805236677468521\n"
     ]
    }
   ],
   "source": [
    "y_train_pred = model.predict(X_train)\n",
    "MSE = metrics.mean_squared_error(y_train_pred, y_train)\n",
    "MAE =  metrics.mean_absolute_error(y_train_pred, y_train)\n",
    "RMSE = MSE**0.5\n",
    "print(f\"The mean squared error is {MSE}\")\n",
    "print(f\"The mean absolute error is {MAE}\")\n",
    "print(f\"The root mean sqaured error is {RMSE}\")"
   ]
  },
  {
   "cell_type": "code",
   "execution_count": 28,
   "id": "c4a9dacb",
   "metadata": {},
   "outputs": [
    {
     "name": "stdout",
     "output_type": "stream",
     "text": [
      "The mean squared error is 0.007076995604392567\n",
      "The mean absolute error is 0.06303238036440541\n",
      "The root mean sqaured error is 0.08412488100670673\n"
     ]
    }
   ],
   "source": [
    "#model on the validation dataset\n",
    "y_valid_pred = model.predict(X_valid)\n",
    "MSE = metrics.mean_squared_error(y_valid_pred, y_valid)\n",
    "MAE =  metrics.mean_absolute_error(y_valid_pred, y_valid)\n",
    "RMSE = MSE**0.5\n",
    "print(f\"The mean squared error is {MSE}\")\n",
    "print(f\"The mean absolute error is {MAE}\")\n",
    "print(f\"The root mean sqaured error is {RMSE}\")"
   ]
  },
  {
   "cell_type": "code",
   "execution_count": 29,
   "id": "180624bf",
   "metadata": {},
   "outputs": [
    {
     "name": "stdout",
     "output_type": "stream",
     "text": [
      "The mean squared error is 0.00869012265481351\n",
      "The mean absolute error is 0.06984734760497383\n",
      "The root mean sqaured error is 0.09322082736606402\n"
     ]
    }
   ],
   "source": [
    "y_test_pred = model.predict(X_test)\n",
    "MSE = metrics.mean_squared_error(y_test_pred, y_test)\n",
    "MAE =  metrics.mean_absolute_error(y_test_pred, y_test)\n",
    "RMSE = MSE**0.5\n",
    "print(f\"The mean squared error is {MSE}\")\n",
    "print(f\"The mean absolute error is {MAE}\")\n",
    "print(f\"The root mean sqaured error is {RMSE}\")"
   ]
  },
  {
   "cell_type": "code",
   "execution_count": 30,
   "id": "03ff1d8a",
   "metadata": {},
   "outputs": [
    {
     "name": "stdout",
     "output_type": "stream",
     "text": [
      "R^2 is 0.7467127376279361\n",
      "RMSE is: 0.09322082736606402\n"
     ]
    },
    {
     "data": {
      "image/png": "[encoded data removed]",
      "text/plain": [
       "<Figure size 640x480 with 1 Axes>"
      ]
     },
     "metadata": {},
     "output_type": "display_data"
    }
   ],
   "source": [
    "plt.scatter(y_test_pred,y_test,color='b')\n",
    "plt.xlabel('Predicted')\n",
    "plt.ylabel('Actual')\n",
    "print(f'R^2 is {model.score(X_test,y_test)}\\nRMSE is: {metrics.mean_squared_error(y_test_pred,y_test,squared=False)}')"
   ]
  },
  {
   "cell_type": "markdown",
   "id": "1271fdbe",
   "metadata": {},
   "source": [
    "# Hyper parameters selection"
   ]
  },
  {
   "cell_type": "code",
   "execution_count": 31,
   "id": "735cb01a",
   "metadata": {},
   "outputs": [
    {
     "name": "stdout",
     "output_type": "stream",
     "text": [
      "Fitting 5 folds for each of 3 candidates, totalling 15 fits\n",
      "[CV 1/5] END ......C=0.1, degree=1, kernel=poly;, score=0.556 total time=   1.0s\n",
      "[CV 2/5] END ......C=0.1, degree=1, kernel=poly;, score=0.524 total time=   1.0s\n",
      "[CV 3/5] END ......C=0.1, degree=1, kernel=poly;, score=0.537 total time=   1.0s\n",
      "[CV 4/5] END ......C=0.1, degree=1, kernel=poly;, score=0.539 total time=   0.9s\n",
      "[CV 5/5] END ......C=0.1, degree=1, kernel=poly;, score=0.573 total time=   1.1s\n",
      "[CV 1/5] END ........C=1, degree=1, kernel=poly;, score=0.561 total time=   1.1s\n",
      "[CV 2/5] END ........C=1, degree=1, kernel=poly;, score=0.529 total time=   0.7s\n",
      "[CV 3/5] END ........C=1, degree=1, kernel=poly;, score=0.540 total time=   0.7s\n",
      "[CV 4/5] END ........C=1, degree=1, kernel=poly;, score=0.545 total time=   0.7s\n",
      "[CV 5/5] END ........C=1, degree=1, kernel=poly;, score=0.577 total time=   0.7s\n",
      "[CV 1/5] END .......C=10, degree=1, kernel=poly;, score=0.561 total time=   1.1s\n",
      "[CV 2/5] END .......C=10, degree=1, kernel=poly;, score=0.529 total time=   1.0s\n",
      "[CV 3/5] END .......C=10, degree=1, kernel=poly;, score=0.539 total time=   1.0s\n",
      "[CV 4/5] END .......C=10, degree=1, kernel=poly;, score=0.545 total time=   1.0s\n",
      "[CV 5/5] END .......C=10, degree=1, kernel=poly;, score=0.577 total time=   1.1s\n"
     ]
    },
    {
     "data": {
      "text/plain": [
       "GridSearchCV(estimator=SVR(),\n",
       "             param_grid={'C': [0.1, 1, 10], 'degree': [1], 'kernel': ['poly']},\n",
       "             verbose=3)"
      ]
     },
     "execution_count": 31,
     "metadata": {},
     "output_type": "execute_result"
    }
   ],
   "source": [
    "from sklearn.model_selection import GridSearchCV\n",
    "parameters_grid = { 'C' :[0.1,1,10],\n",
    "              'degree': [1],\n",
    "              'kernel': ['poly']} \n",
    "grid = GridSearchCV(SVR(), parameters_grid, refit = True, verbose = 3)\n",
    "grid.fit(X_train,y_train)"
   ]
  },
  {
   "cell_type": "code",
   "execution_count": 32,
   "id": "50dd706d",
   "metadata": {},
   "outputs": [
    {
     "data": {
      "text/plain": [
       "{'C': 10, 'degree': 1, 'kernel': 'poly'}"
      ]
     },
     "execution_count": 32,
     "metadata": {},
     "output_type": "execute_result"
    }
   ],
   "source": [
    "grid.best_params_"
   ]
  },
  {
   "cell_type": "code",
   "execution_count": 33,
   "id": "527ceee1",
   "metadata": {},
   "outputs": [],
   "source": [
    "# best model \n",
    "best_model_non_linear = SVR(kernel=\"poly\",C=10,degree=1)\n",
    "best_model_non_linear.fit(X_train,y_train)\n",
    "filename = 'svm_non_lin_co.sav'\n",
    "pickle.dump(best_model_non_linear, open(filename, 'wb'))"
   ]
  },
  {
   "cell_type": "code",
   "execution_count": 34,
   "id": "834cd1ff",
   "metadata": {},
   "outputs": [
    {
     "name": "stdout",
     "output_type": "stream",
     "text": [
      "The mean squared error is 0.012818269618165751\n",
      "The mean absolute error is 0.08599254688592693\n",
      "The root mean sqaured error is 0.11321779726776948\n",
      "The regression score is 0.2707896900012926\n"
     ]
    }
   ],
   "source": [
    "# best model on validation data\n",
    "y_valid_pred = best_model_non_linear.predict(X_valid)\n",
    "MSE = metrics.mean_squared_error(y_valid_pred, y_valid)\n",
    "MAE =  metrics.mean_absolute_error(y_valid_pred, y_valid)\n",
    "r2_score = metrics.r2_score(y_valid_pred,y_valid)\n",
    "RMSE = MSE**0.5\n",
    "print(f\"The mean squared error is {MSE}\")\n",
    "print(f\"The mean absolute error is {MAE}\")\n",
    "print(f\"The root mean sqaured error is {RMSE}\")\n",
    "print(f\"The regression score is {r2_score}\")"
   ]
  },
  {
   "cell_type": "code",
   "execution_count": 35,
   "id": "90090eb9",
   "metadata": {},
   "outputs": [
    {
     "name": "stdout",
     "output_type": "stream",
     "text": [
      "The mean squared error is 0.015247701447414731\n",
      "The mean absolute error is 0.09283853954732617\n",
      "The root mean sqaured error is 0.12348158343418962\n",
      "The regression score is 0.07639046078232259\n"
     ]
    }
   ],
   "source": [
    "# best model on test data\n",
    "y_test_pred = best_model_non_linear.predict(X_test)\n",
    "MSE = metrics.mean_squared_error(y_test_pred, y_test)\n",
    "MAE =  metrics.mean_absolute_error(y_test_pred, y_test)\n",
    "r2_score = metrics.r2_score(y_test_pred,y_test)\n",
    "RMSE = MSE**0.5\n",
    "print(f\"The mean squared error is {MSE}\")\n",
    "print(f\"The mean absolute error is {MAE}\")\n",
    "print(f\"The root mean sqaured error is {RMSE}\")\n",
    "print(f\"The regression score is {r2_score}\")"
   ]
  },
  {
   "cell_type": "markdown",
   "id": "ddfd490c",
   "metadata": {},
   "source": [
    "# Deep Learning model"
   ]
  },
  {
   "cell_type": "code",
   "execution_count": 36,
   "id": "9ac41bf5",
   "metadata": {},
   "outputs": [],
   "source": [
    "from keras.models import Sequential\n",
    "from keras.layers import Dense"
   ]
  },
  {
   "cell_type": "code",
   "execution_count": 37,
   "id": "69b53164",
   "metadata": {},
   "outputs": [],
   "source": [
    "X_train, X_test, y_train, y_test = train_test_split(scaled_X,scaled_y, test_size = 0.2, random_state = 1111)"
   ]
  },
  {
   "cell_type": "code",
   "execution_count": 38,
   "id": "ceb0f96b",
   "metadata": {},
   "outputs": [
    {
     "name": "stdout",
     "output_type": "stream",
     "text": [
      "Model: \"sequential\"\n",
      "_________________________________________________________________\n",
      " Layer (type)                Output Shape              Param #   \n",
      "=================================================================\n",
      " dense (Dense)               (None, 128)               2304      \n",
      "                                                                 \n",
      " dense_1 (Dense)             (None, 64)                8256      \n",
      "                                                                 \n",
      " dense_2 (Dense)             (None, 1)                 65        \n",
      "                                                                 \n",
      "=================================================================\n",
      "Total params: 10,625\n",
      "Trainable params: 10,625\n",
      "Non-trainable params: 0\n",
      "_________________________________________________________________\n",
      "Epoch 1/100\n",
      "176/176 [==============================] - 0s 900us/step - loss: 0.0176 - mae: 0.0945 - val_loss: 0.0099 - val_mae: 0.0720\n",
      "Epoch 2/100\n",
      "176/176 [==============================] - 0s 582us/step - loss: 0.0114 - mae: 0.0752 - val_loss: 0.0088 - val_mae: 0.0664\n",
      "Epoch 3/100\n",
      "176/176 [==============================] - 0s 587us/step - loss: 0.0101 - mae: 0.0708 - val_loss: 0.0076 - val_mae: 0.0625\n",
      "Epoch 4/100\n",
      "176/176 [==============================] - 0s 567us/step - loss: 0.0095 - mae: 0.0685 - val_loss: 0.0092 - val_mae: 0.0729\n",
      "Epoch 5/100\n",
      "176/176 [==============================] - 0s 562us/step - loss: 0.0086 - mae: 0.0647 - val_loss: 0.0069 - val_mae: 0.0568\n",
      "Epoch 6/100\n",
      "176/176 [==============================] - 0s 570us/step - loss: 0.0081 - mae: 0.0628 - val_loss: 0.0066 - val_mae: 0.0550\n",
      "Epoch 7/100\n",
      "176/176 [==============================] - 0s 594us/step - loss: 0.0079 - mae: 0.0611 - val_loss: 0.0066 - val_mae: 0.0559\n",
      "Epoch 8/100\n",
      "176/176 [==============================] - 0s 598us/step - loss: 0.0072 - mae: 0.0574 - val_loss: 0.0072 - val_mae: 0.0626\n",
      "Epoch 9/100\n",
      "176/176 [==============================] - 0s 587us/step - loss: 0.0070 - mae: 0.0571 - val_loss: 0.0056 - val_mae: 0.0511\n",
      "Epoch 10/100\n",
      "176/176 [==============================] - 0s 599us/step - loss: 0.0066 - mae: 0.0553 - val_loss: 0.0065 - val_mae: 0.0573\n",
      "Epoch 11/100\n",
      "176/176 [==============================] - 0s 576us/step - loss: 0.0062 - mae: 0.0535 - val_loss: 0.0052 - val_mae: 0.0489\n",
      "Epoch 12/100\n",
      "176/176 [==============================] - 0s 580us/step - loss: 0.0061 - mae: 0.0520 - val_loss: 0.0053 - val_mae: 0.0487\n",
      "Epoch 13/100\n",
      "176/176 [==============================] - 0s 628us/step - loss: 0.0061 - mae: 0.0524 - val_loss: 0.0050 - val_mae: 0.0481\n",
      "Epoch 14/100\n",
      "176/176 [==============================] - 0s 629us/step - loss: 0.0059 - mae: 0.0518 - val_loss: 0.0047 - val_mae: 0.0452\n",
      "Epoch 15/100\n",
      "176/176 [==============================] - 0s 631us/step - loss: 0.0054 - mae: 0.0486 - val_loss: 0.0049 - val_mae: 0.0468\n",
      "Epoch 16/100\n",
      "176/176 [==============================] - 0s 720us/step - loss: 0.0056 - mae: 0.0503 - val_loss: 0.0050 - val_mae: 0.0480\n",
      "Epoch 17/100\n",
      "176/176 [==============================] - 0s 581us/step - loss: 0.0052 - mae: 0.0483 - val_loss: 0.0046 - val_mae: 0.0452\n",
      "Epoch 18/100\n",
      "176/176 [==============================] - 0s 575us/step - loss: 0.0051 - mae: 0.0474 - val_loss: 0.0043 - val_mae: 0.0438\n",
      "Epoch 19/100\n",
      "176/176 [==============================] - 0s 566us/step - loss: 0.0050 - mae: 0.0483 - val_loss: 0.0049 - val_mae: 0.0477\n",
      "Epoch 20/100\n",
      "176/176 [==============================] - 0s 561us/step - loss: 0.0049 - mae: 0.0468 - val_loss: 0.0049 - val_mae: 0.0474\n",
      "Epoch 21/100\n",
      "176/176 [==============================] - 0s 572us/step - loss: 0.0048 - mae: 0.0463 - val_loss: 0.0043 - val_mae: 0.0444\n",
      "Epoch 22/100\n",
      "176/176 [==============================] - 0s 575us/step - loss: 0.0047 - mae: 0.0461 - val_loss: 0.0046 - val_mae: 0.0464\n",
      "Epoch 23/100\n",
      "176/176 [==============================] - 0s 588us/step - loss: 0.0044 - mae: 0.0444 - val_loss: 0.0043 - val_mae: 0.0444\n",
      "Epoch 24/100\n",
      "176/176 [==============================] - 0s 588us/step - loss: 0.0043 - mae: 0.0437 - val_loss: 0.0046 - val_mae: 0.0463\n",
      "Epoch 25/100\n",
      "176/176 [==============================] - 0s 590us/step - loss: 0.0044 - mae: 0.0445 - val_loss: 0.0043 - val_mae: 0.0447\n",
      "Epoch 26/100\n",
      "176/176 [==============================] - 0s 592us/step - loss: 0.0043 - mae: 0.0440 - val_loss: 0.0045 - val_mae: 0.0452\n",
      "Epoch 27/100\n",
      "176/176 [==============================] - 0s 597us/step - loss: 0.0043 - mae: 0.0436 - val_loss: 0.0039 - val_mae: 0.0412\n",
      "Epoch 28/100\n",
      "176/176 [==============================] - 0s 595us/step - loss: 0.0042 - mae: 0.0430 - val_loss: 0.0054 - val_mae: 0.0519\n",
      "Epoch 29/100\n",
      "176/176 [==============================] - 0s 784us/step - loss: 0.0042 - mae: 0.0436 - val_loss: 0.0048 - val_mae: 0.0468\n",
      "Epoch 30/100\n",
      "176/176 [==============================] - 0s 584us/step - loss: 0.0041 - mae: 0.0421 - val_loss: 0.0043 - val_mae: 0.0443\n",
      "Epoch 31/100\n",
      "176/176 [==============================] - 0s 587us/step - loss: 0.0039 - mae: 0.0412 - val_loss: 0.0038 - val_mae: 0.0414\n",
      "Epoch 32/100\n",
      "176/176 [==============================] - 0s 613us/step - loss: 0.0038 - mae: 0.0406 - val_loss: 0.0037 - val_mae: 0.0411\n",
      "Epoch 33/100\n",
      "176/176 [==============================] - 0s 645us/step - loss: 0.0038 - mae: 0.0408 - val_loss: 0.0038 - val_mae: 0.0427\n",
      "Epoch 34/100\n",
      "176/176 [==============================] - 0s 608us/step - loss: 0.0037 - mae: 0.0408 - val_loss: 0.0034 - val_mae: 0.0385\n",
      "Epoch 35/100\n",
      "176/176 [==============================] - 0s 654us/step - loss: 0.0037 - mae: 0.0404 - val_loss: 0.0035 - val_mae: 0.0392\n",
      "Epoch 36/100\n",
      "176/176 [==============================] - 0s 572us/step - loss: 0.0035 - mae: 0.0385 - val_loss: 0.0039 - val_mae: 0.0417\n",
      "Epoch 37/100\n",
      "176/176 [==============================] - 0s 562us/step - loss: 0.0036 - mae: 0.0401 - val_loss: 0.0042 - val_mae: 0.0444\n",
      "Epoch 38/100\n",
      "176/176 [==============================] - 0s 563us/step - loss: 0.0036 - mae: 0.0400 - val_loss: 0.0033 - val_mae: 0.0383\n",
      "Epoch 39/100\n",
      "176/176 [==============================] - 0s 564us/step - loss: 0.0036 - mae: 0.0403 - val_loss: 0.0040 - val_mae: 0.0450\n",
      "Epoch 40/100\n",
      "176/176 [==============================] - 0s 562us/step - loss: 0.0035 - mae: 0.0392 - val_loss: 0.0040 - val_mae: 0.0425\n",
      "Epoch 41/100\n",
      "176/176 [==============================] - 0s 558us/step - loss: 0.0035 - mae: 0.0391 - val_loss: 0.0036 - val_mae: 0.0405\n",
      "Epoch 42/100\n",
      "176/176 [==============================] - 0s 570us/step - loss: 0.0032 - mae: 0.0374 - val_loss: 0.0036 - val_mae: 0.0394\n",
      "Epoch 43/100\n",
      "176/176 [==============================] - 0s 571us/step - loss: 0.0034 - mae: 0.0386 - val_loss: 0.0039 - val_mae: 0.0427\n",
      "Epoch 44/100\n",
      "176/176 [==============================] - 0s 573us/step - loss: 0.0032 - mae: 0.0379 - val_loss: 0.0033 - val_mae: 0.0376\n",
      "Epoch 45/100\n",
      "176/176 [==============================] - 0s 569us/step - loss: 0.0032 - mae: 0.0374 - val_loss: 0.0031 - val_mae: 0.0378\n",
      "Epoch 46/100\n",
      "176/176 [==============================] - 0s 582us/step - loss: 0.0031 - mae: 0.0366 - val_loss: 0.0032 - val_mae: 0.0386\n",
      "Epoch 47/100\n",
      "176/176 [==============================] - 0s 573us/step - loss: 0.0033 - mae: 0.0382 - val_loss: 0.0033 - val_mae: 0.0370\n",
      "Epoch 48/100\n",
      "176/176 [==============================] - 0s 573us/step - loss: 0.0032 - mae: 0.0376 - val_loss: 0.0038 - val_mae: 0.0409\n",
      "Epoch 49/100\n",
      "176/176 [==============================] - 0s 579us/step - loss: 0.0031 - mae: 0.0366 - val_loss: 0.0033 - val_mae: 0.0390\n",
      "Epoch 50/100\n",
      "176/176 [==============================] - 0s 579us/step - loss: 0.0032 - mae: 0.0375 - val_loss: 0.0031 - val_mae: 0.0373\n",
      "Epoch 51/100\n",
      "176/176 [==============================] - 0s 656us/step - loss: 0.0030 - mae: 0.0364 - val_loss: 0.0031 - val_mae: 0.0380\n",
      "Epoch 52/100\n",
      "176/176 [==============================] - 0s 588us/step - loss: 0.0029 - mae: 0.0356 - val_loss: 0.0034 - val_mae: 0.0387\n",
      "Epoch 53/100\n",
      "176/176 [==============================] - 0s 575us/step - loss: 0.0033 - mae: 0.0387 - val_loss: 0.0034 - val_mae: 0.0399\n",
      "Epoch 54/100\n",
      "176/176 [==============================] - 0s 571us/step - loss: 0.0029 - mae: 0.0354 - val_loss: 0.0028 - val_mae: 0.0362\n",
      "Epoch 55/100\n"
     ]
    },
    {
     "name": "stdout",
     "output_type": "stream",
     "text": [
      "176/176 [==============================] - 0s 584us/step - loss: 0.0030 - mae: 0.0362 - val_loss: 0.0032 - val_mae: 0.0382\n",
      "Epoch 56/100\n",
      "176/176 [==============================] - 0s 576us/step - loss: 0.0028 - mae: 0.0345 - val_loss: 0.0027 - val_mae: 0.0339\n",
      "Epoch 57/100\n",
      "176/176 [==============================] - 0s 579us/step - loss: 0.0027 - mae: 0.0344 - val_loss: 0.0028 - val_mae: 0.0347\n",
      "Epoch 58/100\n",
      "176/176 [==============================] - 0s 577us/step - loss: 0.0028 - mae: 0.0348 - val_loss: 0.0028 - val_mae: 0.0355\n",
      "Epoch 59/100\n",
      "176/176 [==============================] - 0s 582us/step - loss: 0.0029 - mae: 0.0359 - val_loss: 0.0028 - val_mae: 0.0361\n",
      "Epoch 60/100\n",
      "176/176 [==============================] - 0s 596us/step - loss: 0.0027 - mae: 0.0340 - val_loss: 0.0031 - val_mae: 0.0352\n",
      "Epoch 61/100\n",
      "176/176 [==============================] - 0s 587us/step - loss: 0.0027 - mae: 0.0343 - val_loss: 0.0030 - val_mae: 0.0368\n",
      "Epoch 62/100\n",
      "176/176 [==============================] - 0s 583us/step - loss: 0.0027 - mae: 0.0337 - val_loss: 0.0030 - val_mae: 0.0379\n",
      "Epoch 63/100\n",
      "176/176 [==============================] - 0s 575us/step - loss: 0.0027 - mae: 0.0341 - val_loss: 0.0034 - val_mae: 0.0400\n",
      "Epoch 64/100\n",
      "176/176 [==============================] - 0s 573us/step - loss: 0.0029 - mae: 0.0363 - val_loss: 0.0029 - val_mae: 0.0363\n",
      "Epoch 65/100\n",
      "176/176 [==============================] - 0s 574us/step - loss: 0.0026 - mae: 0.0339 - val_loss: 0.0029 - val_mae: 0.0369\n",
      "Epoch 66/100\n",
      "176/176 [==============================] - 0s 641us/step - loss: 0.0025 - mae: 0.0329 - val_loss: 0.0029 - val_mae: 0.0359\n",
      "Epoch 67/100\n",
      "176/176 [==============================] - 0s 590us/step - loss: 0.0026 - mae: 0.0335 - val_loss: 0.0026 - val_mae: 0.0336\n",
      "Epoch 68/100\n",
      "176/176 [==============================] - 0s 574us/step - loss: 0.0025 - mae: 0.0331 - val_loss: 0.0031 - val_mae: 0.0382\n",
      "Epoch 69/100\n",
      "176/176 [==============================] - 0s 573us/step - loss: 0.0026 - mae: 0.0330 - val_loss: 0.0025 - val_mae: 0.0342\n",
      "Epoch 70/100\n",
      "176/176 [==============================] - 0s 574us/step - loss: 0.0025 - mae: 0.0330 - val_loss: 0.0029 - val_mae: 0.0351\n",
      "Epoch 71/100\n",
      "176/176 [==============================] - 0s 571us/step - loss: 0.0025 - mae: 0.0331 - val_loss: 0.0026 - val_mae: 0.0336\n",
      "Epoch 72/100\n",
      "176/176 [==============================] - 0s 573us/step - loss: 0.0025 - mae: 0.0335 - val_loss: 0.0036 - val_mae: 0.0426\n",
      "Epoch 73/100\n",
      "176/176 [==============================] - 0s 573us/step - loss: 0.0026 - mae: 0.0337 - val_loss: 0.0026 - val_mae: 0.0333\n",
      "Epoch 74/100\n",
      "176/176 [==============================] - 0s 570us/step - loss: 0.0025 - mae: 0.0329 - val_loss: 0.0033 - val_mae: 0.0393\n",
      "Epoch 75/100\n",
      "176/176 [==============================] - 0s 572us/step - loss: 0.0025 - mae: 0.0327 - val_loss: 0.0027 - val_mae: 0.0339\n",
      "Epoch 76/100\n",
      "176/176 [==============================] - 0s 575us/step - loss: 0.0024 - mae: 0.0324 - val_loss: 0.0027 - val_mae: 0.0340\n",
      "Epoch 77/100\n",
      "176/176 [==============================] - 0s 572us/step - loss: 0.0024 - mae: 0.0317 - val_loss: 0.0027 - val_mae: 0.0354\n",
      "Epoch 78/100\n",
      "176/176 [==============================] - 0s 574us/step - loss: 0.0025 - mae: 0.0329 - val_loss: 0.0028 - val_mae: 0.0355\n",
      "Epoch 79/100\n",
      "176/176 [==============================] - 0s 565us/step - loss: 0.0025 - mae: 0.0328 - val_loss: 0.0027 - val_mae: 0.0360\n",
      "Epoch 80/100\n",
      "176/176 [==============================] - 0s 568us/step - loss: 0.0025 - mae: 0.0328 - val_loss: 0.0024 - val_mae: 0.0327\n",
      "Epoch 81/100\n",
      "176/176 [==============================] - 0s 561us/step - loss: 0.0025 - mae: 0.0326 - val_loss: 0.0025 - val_mae: 0.0338\n",
      "Epoch 82/100\n",
      "176/176 [==============================] - 0s 660us/step - loss: 0.0023 - mae: 0.0317 - val_loss: 0.0024 - val_mae: 0.0319\n",
      "Epoch 83/100\n",
      "176/176 [==============================] - 0s 591us/step - loss: 0.0023 - mae: 0.0306 - val_loss: 0.0023 - val_mae: 0.0317\n",
      "Epoch 84/100\n",
      "176/176 [==============================] - 0s 592us/step - loss: 0.0022 - mae: 0.0304 - val_loss: 0.0028 - val_mae: 0.0351\n",
      "Epoch 85/100\n",
      "176/176 [==============================] - 0s 632us/step - loss: 0.0024 - mae: 0.0318 - val_loss: 0.0024 - val_mae: 0.0322\n",
      "Epoch 86/100\n",
      "176/176 [==============================] - 0s 574us/step - loss: 0.0023 - mae: 0.0317 - val_loss: 0.0029 - val_mae: 0.0355\n",
      "Epoch 87/100\n",
      "176/176 [==============================] - 0s 571us/step - loss: 0.0024 - mae: 0.0323 - val_loss: 0.0026 - val_mae: 0.0337\n",
      "Epoch 88/100\n",
      "176/176 [==============================] - 0s 570us/step - loss: 0.0024 - mae: 0.0319 - val_loss: 0.0026 - val_mae: 0.0339\n",
      "Epoch 89/100\n",
      "176/176 [==============================] - 0s 585us/step - loss: 0.0021 - mae: 0.0299 - val_loss: 0.0026 - val_mae: 0.0336\n",
      "Epoch 90/100\n",
      "176/176 [==============================] - 0s 579us/step - loss: 0.0022 - mae: 0.0305 - val_loss: 0.0023 - val_mae: 0.0322\n",
      "Epoch 91/100\n",
      "176/176 [==============================] - 0s 571us/step - loss: 0.0021 - mae: 0.0303 - val_loss: 0.0026 - val_mae: 0.0351\n",
      "Epoch 92/100\n",
      "176/176 [==============================] - 0s 587us/step - loss: 0.0023 - mae: 0.0318 - val_loss: 0.0033 - val_mae: 0.0390\n",
      "Epoch 93/100\n",
      "176/176 [==============================] - 0s 583us/step - loss: 0.0022 - mae: 0.0308 - val_loss: 0.0024 - val_mae: 0.0323\n",
      "Epoch 94/100\n",
      "176/176 [==============================] - 0s 589us/step - loss: 0.0022 - mae: 0.0305 - val_loss: 0.0027 - val_mae: 0.0351\n",
      "Epoch 95/100\n",
      "176/176 [==============================] - 0s 590us/step - loss: 0.0021 - mae: 0.0302 - val_loss: 0.0027 - val_mae: 0.0353\n",
      "Epoch 96/100\n",
      "176/176 [==============================] - 0s 590us/step - loss: 0.0022 - mae: 0.0307 - val_loss: 0.0025 - val_mae: 0.0334\n",
      "Epoch 97/100\n",
      "176/176 [==============================] - 0s 589us/step - loss: 0.0022 - mae: 0.0305 - val_loss: 0.0025 - val_mae: 0.0338\n",
      "Epoch 98/100\n",
      "176/176 [==============================] - 0s 577us/step - loss: 0.0021 - mae: 0.0298 - val_loss: 0.0029 - val_mae: 0.0349\n",
      "Epoch 99/100\n",
      "176/176 [==============================] - 0s 573us/step - loss: 0.0021 - mae: 0.0298 - val_loss: 0.0026 - val_mae: 0.0335\n",
      "Epoch 100/100\n",
      "176/176 [==============================] - 0s 580us/step - loss: 0.0022 - mae: 0.0308 - val_loss: 0.0023 - val_mae: 0.0313\n"
     ]
    }
   ],
   "source": [
    "model = Sequential()\n",
    "model.add(Dense(128, input_dim=17, activation='relu'))\n",
    "model.add(Dense(64, activation='relu'))\n",
    "#Output layer\n",
    "model.add(Dense(1, activation='linear'))\n",
    "\n",
    "model.compile(loss='mean_squared_error', optimizer='adam', metrics=['mae'])\n",
    "model.summary()\n",
    "\n",
    "history = model.fit(X_train, y_train, validation_split=0.2, epochs =100)"
   ]
  },
  {
   "cell_type": "code",
   "execution_count": 39,
   "id": "9e570148",
   "metadata": {},
   "outputs": [
    {
     "data": {
      "image/png": "[encoded data removed]",
      "text/plain": [
       "<Figure size 640x480 with 1 Axes>"
      ]
     },
     "metadata": {},
     "output_type": "display_data"
    }
   ],
   "source": [
    "from matplotlib import pyplot as plt\n",
    "#plot the training and validation accuracy and loss at each epoch\n",
    "loss = history.history['loss']\n",
    "val_loss = history.history['val_loss']\n",
    "epochs = range(1, len(loss) + 1)\n",
    "plt.plot(epochs, loss, 'y', label='Training loss')\n",
    "plt.plot(epochs, val_loss, 'r', label='Validation loss')\n",
    "plt.title('Training and validation loss')\n",
    "plt.xlabel('Epochs')\n",
    "plt.ylabel('Loss')\n",
    "plt.legend()\n",
    "plt.show()"
   ]
  },
  {
   "cell_type": "code",
   "execution_count": 40,
   "id": "30f7ab28",
   "metadata": {},
   "outputs": [
    {
     "data": {
      "image/png": "[encoded data removed]",
      "text/plain": [
       "<Figure size 640x480 with 1 Axes>"
      ]
     },
     "metadata": {},
     "output_type": "display_data"
    }
   ],
   "source": [
    "acc = history.history['mae']\n",
    "val_acc = history.history['val_mae']\n",
    "plt.plot(epochs, acc, 'y', label='Training MAE')\n",
    "plt.plot(epochs, val_acc, 'r', label='Validation MAE')\n",
    "plt.title('Training and validation MAE')\n",
    "plt.xlabel('Epochs')\n",
    "plt.ylabel('Mean Absolute Eroor')\n",
    "plt.legend()\n",
    "plt.show()"
   ]
  },
  {
   "cell_type": "code",
   "execution_count": 41,
   "id": "222d28f5",
   "metadata": {},
   "outputs": [
    {
     "name": "stdout",
     "output_type": "stream",
     "text": [
      "1/1 [==============================] - 0s 50ms/step\n",
      "Predicted values are:  [[0.11229841]\n",
      " [0.08164453]\n",
      " [0.09393531]\n",
      " [0.4839936 ]\n",
      " [0.08766687]]\n",
      "Real values are:  [[0.12739033]\n",
      " [0.10461192]\n",
      " [0.12992126]\n",
      " [0.47412823]\n",
      " [0.07367829]]\n"
     ]
    }
   ],
   "source": [
    "#Predict on test data\n",
    "predictions = model.predict(X_test[:5])\n",
    "print(\"Predicted values are: \", predictions)\n",
    "print(\"Real values are: \", y_test[:5])"
   ]
  },
  {
   "cell_type": "code",
   "execution_count": 42,
   "id": "69fb2b12",
   "metadata": {},
   "outputs": [
    {
     "name": "stdout",
     "output_type": "stream",
     "text": [
      "219/219 [==============================] - 0s 334us/step\n",
      "The mean squared error is 0.0018371392918204393\n",
      "The mean absolute error is 0.027715861056878555\n",
      "The root mean sqaured error is 0.04286186290655645\n"
     ]
    }
   ],
   "source": [
    "y_train_pred = model.predict(X_train)\n",
    "MSE = metrics.mean_squared_error(y_train_pred, y_train)\n",
    "MAE =  metrics.mean_absolute_error(y_train_pred, y_train)\n",
    "RMSE = MSE**0.5\n",
    "print(f\"The mean squared error is {MSE}\")\n",
    "print(f\"The mean absolute error is {MAE}\")\n",
    "print(f\"The root mean sqaured error is {RMSE}\")"
   ]
  },
  {
   "cell_type": "code",
   "execution_count": 43,
   "id": "de6d7a24",
   "metadata": {},
   "outputs": [
    {
     "name": "stdout",
     "output_type": "stream",
     "text": [
      "Here is a summary of this model: \n",
      "Model: \"sequential_1\"\n",
      "_________________________________________________________________\n",
      " Layer (type)                Output Shape              Param #   \n",
      "=================================================================\n",
      " dense_3 (Dense)             (None, 32)                576       \n",
      "                                                                 \n",
      " dense_4 (Dense)             (None, 64)                2112      \n",
      "                                                                 \n",
      " dense_5 (Dense)             (None, 64)                4160      \n",
      "                                                                 \n",
      " dense_6 (Dense)             (None, 64)                4160      \n",
      "                                                                 \n",
      " dense_7 (Dense)             (None, 64)                4160      \n",
      "                                                                 \n",
      " dense_8 (Dense)             (None, 64)                4160      \n",
      "                                                                 \n",
      " dense_9 (Dense)             (None, 1)                 65        \n",
      "                                                                 \n",
      "=================================================================\n",
      "Total params: 19,393\n",
      "Trainable params: 19,393\n",
      "Non-trainable params: 0\n",
      "_________________________________________________________________\n",
      "Epoch 1/100\n",
      "176/176 [==============================] - 1s 1ms/step - loss: 0.0173 - mae: 0.0926 - mse: 0.0173 - mape: 2858142.2500 - val_loss: 0.0109 - val_mae: 0.0797 - val_mse: 0.0109 - val_mape: 2114060.5000\n",
      "Epoch 2/100\n",
      "176/176 [==============================] - 0s 716us/step - loss: 0.0121 - mae: 0.0756 - mse: 0.0121 - mape: 896492.0625 - val_loss: 0.0172 - val_mae: 0.1017 - val_mse: 0.0172 - val_mape: 1724236.7500\n",
      "Epoch 3/100\n",
      "176/176 [==============================] - 0s 707us/step - loss: 0.0106 - mae: 0.0701 - mse: 0.0106 - mape: 631370.3125 - val_loss: 0.0082 - val_mae: 0.0615 - val_mse: 0.0082 - val_mape: 421150.1875\n",
      "Epoch 4/100\n",
      "176/176 [==============================] - 0s 704us/step - loss: 0.0092 - mae: 0.0646 - mse: 0.0092 - mape: 436645.9062 - val_loss: 0.0074 - val_mae: 0.0557 - val_mse: 0.0074 - val_mape: 331307.8750\n",
      "Epoch 5/100\n",
      "176/176 [==============================] - 0s 709us/step - loss: 0.0084 - mae: 0.0610 - mse: 0.0084 - mape: 466912.0000 - val_loss: 0.0086 - val_mae: 0.0575 - val_mse: 0.0086 - val_mape: 337105.0938\n",
      "Epoch 6/100\n",
      "176/176 [==============================] - 0s 708us/step - loss: 0.0077 - mae: 0.0581 - mse: 0.0077 - mape: 433793.5000 - val_loss: 0.0098 - val_mae: 0.0639 - val_mse: 0.0098 - val_mape: 371578.6562\n",
      "Epoch 7/100\n",
      "176/176 [==============================] - 0s 725us/step - loss: 0.0072 - mae: 0.0551 - mse: 0.0072 - mape: 434229.1562 - val_loss: 0.0056 - val_mae: 0.0488 - val_mse: 0.0056 - val_mape: 507504.1562\n",
      "Epoch 8/100\n",
      "176/176 [==============================] - 0s 722us/step - loss: 0.0065 - mae: 0.0527 - mse: 0.0065 - mape: 394269.8125 - val_loss: 0.0109 - val_mae: 0.0657 - val_mse: 0.0109 - val_mape: 322667.4062\n",
      "Epoch 9/100\n",
      "176/176 [==============================] - 0s 824us/step - loss: 0.0062 - mae: 0.0512 - mse: 0.0062 - mape: 371898.7188 - val_loss: 0.0058 - val_mae: 0.0519 - val_mse: 0.0058 - val_mape: 359341.9688\n",
      "Epoch 10/100\n",
      "176/176 [==============================] - 0s 723us/step - loss: 0.0057 - mae: 0.0494 - mse: 0.0057 - mape: 377022.5312 - val_loss: 0.0080 - val_mae: 0.0584 - val_mse: 0.0080 - val_mape: 480025.4375\n",
      "Epoch 11/100\n",
      "176/176 [==============================] - 0s 727us/step - loss: 0.0054 - mae: 0.0473 - mse: 0.0054 - mape: 385353.9375 - val_loss: 0.0077 - val_mae: 0.0575 - val_mse: 0.0077 - val_mape: 567380.8125\n",
      "Epoch 12/100\n",
      "176/176 [==============================] - 0s 719us/step - loss: 0.0051 - mae: 0.0462 - mse: 0.0051 - mape: 339202.4688 - val_loss: 0.0061 - val_mae: 0.0516 - val_mse: 0.0061 - val_mape: 526944.7500\n",
      "Epoch 13/100\n",
      "176/176 [==============================] - 0s 722us/step - loss: 0.0048 - mae: 0.0449 - mse: 0.0048 - mape: 378985.0625 - val_loss: 0.0055 - val_mae: 0.0507 - val_mse: 0.0055 - val_mape: 356796.1250\n",
      "Epoch 14/100\n",
      "176/176 [==============================] - 0s 737us/step - loss: 0.0046 - mae: 0.0440 - mse: 0.0046 - mape: 370962.9062 - val_loss: 0.0046 - val_mae: 0.0461 - val_mse: 0.0046 - val_mape: 427107.6562\n",
      "Epoch 15/100\n",
      "176/176 [==============================] - 0s 742us/step - loss: 0.0044 - mae: 0.0433 - mse: 0.0044 - mape: 362966.3438 - val_loss: 0.0036 - val_mae: 0.0397 - val_mse: 0.0036 - val_mape: 284320.6250\n",
      "Epoch 16/100\n",
      "176/176 [==============================] - 0s 717us/step - loss: 0.0041 - mae: 0.0417 - mse: 0.0041 - mape: 314346.8125 - val_loss: 0.0063 - val_mae: 0.0493 - val_mse: 0.0063 - val_mape: 1665756.2500\n",
      "Epoch 17/100\n",
      "176/176 [==============================] - 0s 731us/step - loss: 0.0042 - mae: 0.0417 - mse: 0.0042 - mape: 362543.6875 - val_loss: 0.0039 - val_mae: 0.0406 - val_mse: 0.0039 - val_mape: 302697.2500\n",
      "Epoch 18/100\n",
      "176/176 [==============================] - 0s 707us/step - loss: 0.0041 - mae: 0.0412 - mse: 0.0041 - mape: 302682.6562 - val_loss: 0.0040 - val_mae: 0.0424 - val_mse: 0.0040 - val_mape: 287609.9375\n",
      "Epoch 19/100\n",
      "176/176 [==============================] - 0s 815us/step - loss: 0.0040 - mae: 0.0402 - mse: 0.0040 - mape: 320331.2500 - val_loss: 0.0052 - val_mae: 0.0476 - val_mse: 0.0052 - val_mape: 424642.8750\n",
      "Epoch 20/100\n",
      "176/176 [==============================] - 0s 718us/step - loss: 0.0039 - mae: 0.0394 - mse: 0.0039 - mape: 335057.2188 - val_loss: 0.0059 - val_mae: 0.0497 - val_mse: 0.0059 - val_mape: 557350.5000\n",
      "Epoch 21/100\n",
      "176/176 [==============================] - 0s 729us/step - loss: 0.0036 - mae: 0.0387 - mse: 0.0036 - mape: 324765.5625 - val_loss: 0.0039 - val_mae: 0.0424 - val_mse: 0.0039 - val_mape: 509401.3438\n",
      "Epoch 22/100\n",
      "176/176 [==============================] - 0s 730us/step - loss: 0.0036 - mae: 0.0389 - mse: 0.0036 - mape: 327978.1875 - val_loss: 0.0099 - val_mae: 0.0677 - val_mse: 0.0099 - val_mape: 825865.3750\n",
      "Epoch 23/100\n",
      "176/176 [==============================] - 0s 727us/step - loss: 0.0035 - mae: 0.0384 - mse: 0.0035 - mape: 372829.2812 - val_loss: 0.0056 - val_mae: 0.0501 - val_mse: 0.0056 - val_mape: 212719.5156\n",
      "Epoch 24/100\n",
      "176/176 [==============================] - 0s 758us/step - loss: 0.0035 - mae: 0.0379 - mse: 0.0035 - mape: 301075.6250 - val_loss: 0.0053 - val_mae: 0.0473 - val_mse: 0.0053 - val_mape: 240608.8281\n",
      "Epoch 25/100\n",
      "176/176 [==============================] - 0s 732us/step - loss: 0.0033 - mae: 0.0377 - mse: 0.0033 - mape: 354529.5625 - val_loss: 0.0035 - val_mae: 0.0394 - val_mse: 0.0035 - val_mape: 460382.3125\n",
      "Epoch 26/100\n",
      "176/176 [==============================] - 0s 710us/step - loss: 0.0033 - mae: 0.0367 - mse: 0.0033 - mape: 364304.4375 - val_loss: 0.0035 - val_mae: 0.0385 - val_mse: 0.0035 - val_mape: 201991.4219\n",
      "Epoch 27/100\n",
      "176/176 [==============================] - 0s 735us/step - loss: 0.0032 - mae: 0.0361 - mse: 0.0032 - mape: 323526.1875 - val_loss: 0.0048 - val_mae: 0.0434 - val_mse: 0.0048 - val_mape: 210907.6562\n",
      "Epoch 28/100\n",
      "176/176 [==============================] - 0s 733us/step - loss: 0.0032 - mae: 0.0362 - mse: 0.0032 - mape: 315091.9375 - val_loss: 0.0025 - val_mae: 0.0316 - val_mse: 0.0025 - val_mape: 255806.5156\n",
      "Epoch 29/100\n",
      "176/176 [==============================] - 0s 727us/step - loss: 0.0032 - mae: 0.0355 - mse: 0.0032 - mape: 359065.8438 - val_loss: 0.0038 - val_mae: 0.0413 - val_mse: 0.0038 - val_mape: 315956.8750\n",
      "Epoch 30/100\n",
      "176/176 [==============================] - 0s 711us/step - loss: 0.0031 - mae: 0.0352 - mse: 0.0031 - mape: 333777.9688 - val_loss: 0.0032 - val_mae: 0.0356 - val_mse: 0.0032 - val_mape: 290418.0938\n",
      "Epoch 31/100\n",
      "176/176 [==============================] - 0s 795us/step - loss: 0.0030 - mae: 0.0351 - mse: 0.0030 - mape: 313980.1875 - val_loss: 0.0040 - val_mae: 0.0426 - val_mse: 0.0040 - val_mape: 499088.5625\n",
      "Epoch 32/100\n",
      "176/176 [==============================] - 0s 719us/step - loss: 0.0030 - mae: 0.0350 - mse: 0.0030 - mape: 302237.9688 - val_loss: 0.0063 - val_mae: 0.0505 - val_mse: 0.0063 - val_mape: 416930.2500\n",
      "Epoch 33/100\n"
     ]
    },
    {
     "name": "stdout",
     "output_type": "stream",
     "text": [
      "176/176 [==============================] - 0s 719us/step - loss: 0.0028 - mae: 0.0341 - mse: 0.0028 - mape: 327238.0000 - val_loss: 0.0059 - val_mae: 0.0513 - val_mse: 0.0059 - val_mape: 229123.8594\n",
      "Epoch 34/100\n",
      "176/176 [==============================] - 0s 707us/step - loss: 0.0029 - mae: 0.0341 - mse: 0.0029 - mape: 328829.0625 - val_loss: 0.0058 - val_mae: 0.0515 - val_mse: 0.0058 - val_mape: 225796.0781\n",
      "Epoch 35/100\n",
      "176/176 [==============================] - 0s 705us/step - loss: 0.0028 - mae: 0.0334 - mse: 0.0028 - mape: 312795.3438 - val_loss: 0.0032 - val_mae: 0.0378 - val_mse: 0.0032 - val_mape: 229425.3906\n",
      "Epoch 36/100\n",
      "176/176 [==============================] - 0s 707us/step - loss: 0.0027 - mae: 0.0331 - mse: 0.0027 - mape: 353091.5938 - val_loss: 0.0036 - val_mae: 0.0384 - val_mse: 0.0036 - val_mape: 181994.1094\n",
      "Epoch 37/100\n",
      "176/176 [==============================] - 0s 707us/step - loss: 0.0027 - mae: 0.0329 - mse: 0.0027 - mape: 268884.7812 - val_loss: 0.0041 - val_mae: 0.0427 - val_mse: 0.0041 - val_mape: 280511.5000\n",
      "Epoch 38/100\n",
      "176/176 [==============================] - 0s 705us/step - loss: 0.0027 - mae: 0.0329 - mse: 0.0027 - mape: 281894.9688 - val_loss: 0.0032 - val_mae: 0.0379 - val_mse: 0.0032 - val_mape: 196125.7344\n",
      "Epoch 39/100\n",
      "176/176 [==============================] - 0s 718us/step - loss: 0.0026 - mae: 0.0327 - mse: 0.0026 - mape: 294509.4375 - val_loss: 0.0029 - val_mae: 0.0350 - val_mse: 0.0029 - val_mape: 193206.3750\n",
      "Epoch 40/100\n",
      "176/176 [==============================] - 0s 732us/step - loss: 0.0026 - mae: 0.0323 - mse: 0.0026 - mape: 251395.8281 - val_loss: 0.0034 - val_mae: 0.0372 - val_mse: 0.0034 - val_mape: 345204.5000\n",
      "Epoch 41/100\n",
      "176/176 [==============================] - 0s 770us/step - loss: 0.0026 - mae: 0.0324 - mse: 0.0026 - mape: 299011.3438 - val_loss: 0.0037 - val_mae: 0.0394 - val_mse: 0.0037 - val_mape: 265977.7812\n",
      "Epoch 42/100\n",
      "176/176 [==============================] - 0s 724us/step - loss: 0.0025 - mae: 0.0319 - mse: 0.0025 - mape: 301589.6875 - val_loss: 0.0032 - val_mae: 0.0354 - val_mse: 0.0032 - val_mape: 239057.3438\n",
      "Epoch 43/100\n",
      "176/176 [==============================] - 0s 705us/step - loss: 0.0026 - mae: 0.0320 - mse: 0.0026 - mape: 272176.6562 - val_loss: 0.0038 - val_mae: 0.0390 - val_mse: 0.0038 - val_mape: 236694.7500\n",
      "Epoch 44/100\n",
      "176/176 [==============================] - 0s 705us/step - loss: 0.0025 - mae: 0.0313 - mse: 0.0025 - mape: 276849.7500 - val_loss: 0.0033 - val_mae: 0.0385 - val_mse: 0.0033 - val_mape: 463624.7188\n",
      "Epoch 45/100\n",
      "176/176 [==============================] - 0s 707us/step - loss: 0.0024 - mae: 0.0309 - mse: 0.0024 - mape: 266681.6875 - val_loss: 0.0057 - val_mae: 0.0460 - val_mse: 0.0057 - val_mape: 218711.3906\n",
      "Epoch 46/100\n",
      "176/176 [==============================] - 0s 705us/step - loss: 0.0024 - mae: 0.0311 - mse: 0.0024 - mape: 292223.1250 - val_loss: 0.0033 - val_mae: 0.0351 - val_mse: 0.0033 - val_mape: 224744.4219\n",
      "Epoch 47/100\n",
      "176/176 [==============================] - 0s 704us/step - loss: 0.0024 - mae: 0.0306 - mse: 0.0024 - mape: 311199.1562 - val_loss: 0.0051 - val_mae: 0.0463 - val_mse: 0.0051 - val_mape: 729384.3750\n",
      "Epoch 48/100\n",
      "176/176 [==============================] - 0s 706us/step - loss: 0.0024 - mae: 0.0304 - mse: 0.0024 - mape: 273976.2500 - val_loss: 0.0033 - val_mae: 0.0362 - val_mse: 0.0033 - val_mape: 232771.5781\n",
      "Epoch 49/100\n",
      "176/176 [==============================] - 0s 704us/step - loss: 0.0023 - mae: 0.0301 - mse: 0.0023 - mape: 278910.0312 - val_loss: 0.0037 - val_mae: 0.0391 - val_mse: 0.0037 - val_mape: 291995.9375\n",
      "Epoch 50/100\n",
      "176/176 [==============================] - 0s 721us/step - loss: 0.0023 - mae: 0.0299 - mse: 0.0023 - mape: 299699.2500 - val_loss: 0.0036 - val_mae: 0.0386 - val_mse: 0.0036 - val_mape: 301565.6875\n",
      "Epoch 51/100\n",
      "176/176 [==============================] - 0s 707us/step - loss: 0.0022 - mae: 0.0295 - mse: 0.0022 - mape: 281588.1875 - val_loss: 0.0024 - val_mae: 0.0306 - val_mse: 0.0024 - val_mape: 213259.9844\n",
      "Epoch 52/100\n",
      "176/176 [==============================] - 0s 706us/step - loss: 0.0023 - mae: 0.0302 - mse: 0.0023 - mape: 273954.5938 - val_loss: 0.0027 - val_mae: 0.0323 - val_mse: 0.0027 - val_mape: 322684.4062\n",
      "Epoch 53/100\n",
      "176/176 [==============================] - 0s 705us/step - loss: 0.0022 - mae: 0.0296 - mse: 0.0022 - mape: 248405.4375 - val_loss: 0.0046 - val_mae: 0.0431 - val_mse: 0.0046 - val_mape: 214005.9844\n",
      "Epoch 54/100\n",
      "176/176 [==============================] - 0s 855us/step - loss: 0.0023 - mae: 0.0299 - mse: 0.0023 - mape: 310813.7500 - val_loss: 0.0035 - val_mae: 0.0394 - val_mse: 0.0035 - val_mape: 268138.0000\n",
      "Epoch 55/100\n",
      "176/176 [==============================] - 0s 767us/step - loss: 0.0021 - mae: 0.0286 - mse: 0.0021 - mape: 264414.4375 - val_loss: 0.0032 - val_mae: 0.0352 - val_mse: 0.0032 - val_mape: 507291.1562\n",
      "Epoch 56/100\n",
      "176/176 [==============================] - 0s 738us/step - loss: 0.0021 - mae: 0.0289 - mse: 0.0021 - mape: 287989.7812 - val_loss: 0.0026 - val_mae: 0.0318 - val_mse: 0.0026 - val_mape: 220986.2031\n",
      "Epoch 57/100\n",
      "176/176 [==============================] - 0s 737us/step - loss: 0.0022 - mae: 0.0290 - mse: 0.0022 - mape: 263645.9688 - val_loss: 0.0027 - val_mae: 0.0340 - val_mse: 0.0027 - val_mape: 375000.9375\n",
      "Epoch 58/100\n",
      "176/176 [==============================] - 0s 769us/step - loss: 0.0021 - mae: 0.0285 - mse: 0.0021 - mape: 253416.6406 - val_loss: 0.0037 - val_mae: 0.0413 - val_mse: 0.0037 - val_mape: 309156.1250\n",
      "Epoch 59/100\n",
      "176/176 [==============================] - 0s 748us/step - loss: 0.0021 - mae: 0.0286 - mse: 0.0021 - mape: 271828.6562 - val_loss: 0.0036 - val_mae: 0.0356 - val_mse: 0.0036 - val_mape: 232180.5938\n",
      "Epoch 60/100\n",
      "176/176 [==============================] - 0s 868us/step - loss: 0.0020 - mae: 0.0284 - mse: 0.0020 - mape: 261028.6250 - val_loss: 0.0040 - val_mae: 0.0397 - val_mse: 0.0040 - val_mape: 247680.0000\n",
      "Epoch 61/100\n",
      "176/176 [==============================] - 0s 767us/step - loss: 0.0021 - mae: 0.0286 - mse: 0.0021 - mape: 268219.8750 - val_loss: 0.0029 - val_mae: 0.0322 - val_mse: 0.0029 - val_mape: 448211.3125\n",
      "Epoch 62/100\n",
      "176/176 [==============================] - 0s 857us/step - loss: 0.0021 - mae: 0.0284 - mse: 0.0021 - mape: 248363.5938 - val_loss: 0.0030 - val_mae: 0.0366 - val_mse: 0.0030 - val_mape: 409583.3438\n",
      "Epoch 63/100\n",
      "176/176 [==============================] - 0s 780us/step - loss: 0.0019 - mae: 0.0279 - mse: 0.0019 - mape: 266467.4688 - val_loss: 0.0022 - val_mae: 0.0291 - val_mse: 0.0022 - val_mape: 351084.3438\n",
      "Epoch 64/100\n",
      "176/176 [==============================] - 0s 738us/step - loss: 0.0020 - mae: 0.0280 - mse: 0.0020 - mape: 289047.0000 - val_loss: 0.0028 - val_mae: 0.0334 - val_mse: 0.0028 - val_mape: 211806.4531\n",
      "Epoch 65/100\n",
      "176/176 [==============================] - 0s 717us/step - loss: 0.0020 - mae: 0.0279 - mse: 0.0020 - mape: 245091.8906 - val_loss: 0.0027 - val_mae: 0.0318 - val_mse: 0.0027 - val_mape: 197422.7500\n",
      "Epoch 66/100\n",
      "176/176 [==============================] - 0s 707us/step - loss: 0.0019 - mae: 0.0278 - mse: 0.0019 - mape: 275108.5938 - val_loss: 0.0026 - val_mae: 0.0315 - val_mse: 0.0026 - val_mape: 263486.1875\n",
      "Epoch 67/100\n",
      "176/176 [==============================] - 0s 706us/step - loss: 0.0019 - mae: 0.0277 - mse: 0.0019 - mape: 264776.0000 - val_loss: 0.0022 - val_mae: 0.0285 - val_mse: 0.0022 - val_mape: 275165.8438\n",
      "Epoch 68/100\n",
      "176/176 [==============================] - 0s 708us/step - loss: 0.0020 - mae: 0.0277 - mse: 0.0020 - mape: 230932.7812 - val_loss: 0.0022 - val_mae: 0.0290 - val_mse: 0.0022 - val_mape: 225251.4062\n",
      "Epoch 69/100\n",
      "176/176 [==============================] - 0s 754us/step - loss: 0.0019 - mae: 0.0272 - mse: 0.0019 - mape: 211159.5000 - val_loss: 0.0033 - val_mae: 0.0380 - val_mse: 0.0033 - val_mape: 280893.3438\n",
      "Epoch 70/100\n",
      "176/176 [==============================] - 0s 730us/step - loss: 0.0019 - mae: 0.0271 - mse: 0.0019 - mape: 267349.6562 - val_loss: 0.0050 - val_mae: 0.0453 - val_mse: 0.0050 - val_mape: 255273.8906\n",
      "Epoch 71/100\n",
      "176/176 [==============================] - 0s 732us/step - loss: 0.0018 - mae: 0.0267 - mse: 0.0018 - mape: 250405.7188 - val_loss: 0.0031 - val_mae: 0.0359 - val_mse: 0.0031 - val_mape: 244653.3750\n"
     ]
    },
    {
     "name": "stdout",
     "output_type": "stream",
     "text": [
      "Epoch 72/100\n",
      "176/176 [==============================] - 0s 721us/step - loss: 0.0018 - mae: 0.0267 - mse: 0.0018 - mape: 246586.2188 - val_loss: 0.0025 - val_mae: 0.0318 - val_mse: 0.0025 - val_mape: 191807.7500\n",
      "Epoch 73/100\n",
      "176/176 [==============================] - 0s 731us/step - loss: 0.0018 - mae: 0.0263 - mse: 0.0018 - mape: 221605.7188 - val_loss: 0.0023 - val_mae: 0.0305 - val_mse: 0.0023 - val_mape: 185368.2812\n",
      "Epoch 74/100\n",
      "176/176 [==============================] - 0s 807us/step - loss: 0.0018 - mae: 0.0267 - mse: 0.0018 - mape: 246286.4531 - val_loss: 0.0036 - val_mae: 0.0368 - val_mse: 0.0036 - val_mape: 494242.9062\n",
      "Epoch 75/100\n",
      "176/176 [==============================] - 0s 706us/step - loss: 0.0018 - mae: 0.0261 - mse: 0.0018 - mape: 255640.6406 - val_loss: 0.0027 - val_mae: 0.0332 - val_mse: 0.0027 - val_mape: 224855.7188\n",
      "Epoch 76/100\n",
      "176/176 [==============================] - 0s 707us/step - loss: 0.0017 - mae: 0.0259 - mse: 0.0017 - mape: 276486.7812 - val_loss: 0.0024 - val_mae: 0.0309 - val_mse: 0.0024 - val_mape: 266256.4688\n",
      "Epoch 77/100\n",
      "176/176 [==============================] - 0s 701us/step - loss: 0.0017 - mae: 0.0260 - mse: 0.0017 - mape: 254191.9531 - val_loss: 0.0040 - val_mae: 0.0420 - val_mse: 0.0040 - val_mape: 418094.6875\n",
      "Epoch 78/100\n",
      "176/176 [==============================] - 0s 811us/step - loss: 0.0017 - mae: 0.0257 - mse: 0.0017 - mape: 247368.0156 - val_loss: 0.0022 - val_mae: 0.0307 - val_mse: 0.0022 - val_mape: 500171.4062\n",
      "Epoch 79/100\n",
      "176/176 [==============================] - 0s 731us/step - loss: 0.0017 - mae: 0.0257 - mse: 0.0017 - mape: 224960.2500 - val_loss: 0.0029 - val_mae: 0.0354 - val_mse: 0.0029 - val_mape: 334835.2812\n",
      "Epoch 80/100\n",
      "176/176 [==============================] - 0s 788us/step - loss: 0.0017 - mae: 0.0256 - mse: 0.0017 - mape: 246830.2812 - val_loss: 0.0024 - val_mae: 0.0324 - val_mse: 0.0024 - val_mape: 175339.3750\n",
      "Epoch 81/100\n",
      "176/176 [==============================] - 0s 713us/step - loss: 0.0017 - mae: 0.0255 - mse: 0.0017 - mape: 209706.0625 - val_loss: 0.0027 - val_mae: 0.0323 - val_mse: 0.0027 - val_mape: 311754.8750\n",
      "Epoch 82/100\n",
      "176/176 [==============================] - 0s 708us/step - loss: 0.0017 - mae: 0.0253 - mse: 0.0017 - mape: 264487.0000 - val_loss: 0.0032 - val_mae: 0.0344 - val_mse: 0.0032 - val_mape: 176640.2188\n",
      "Epoch 83/100\n",
      "176/176 [==============================] - 0s 703us/step - loss: 0.0016 - mae: 0.0251 - mse: 0.0016 - mape: 242648.6875 - val_loss: 0.0025 - val_mae: 0.0311 - val_mse: 0.0025 - val_mape: 233912.9688\n",
      "Epoch 84/100\n",
      "176/176 [==============================] - 0s 723us/step - loss: 0.0017 - mae: 0.0257 - mse: 0.0017 - mape: 225189.3750 - val_loss: 0.0023 - val_mae: 0.0295 - val_mse: 0.0023 - val_mape: 168523.3594\n",
      "Epoch 85/100\n",
      "176/176 [==============================] - 0s 719us/step - loss: 0.0016 - mae: 0.0249 - mse: 0.0016 - mape: 225069.4219 - val_loss: 0.0022 - val_mae: 0.0296 - val_mse: 0.0022 - val_mape: 255661.0781\n",
      "Epoch 86/100\n",
      "176/176 [==============================] - 0s 708us/step - loss: 0.0015 - mae: 0.0249 - mse: 0.0015 - mape: 249794.9219 - val_loss: 0.0038 - val_mae: 0.0418 - val_mse: 0.0038 - val_mape: 384471.5000\n",
      "Epoch 87/100\n",
      "176/176 [==============================] - 0s 702us/step - loss: 0.0016 - mae: 0.0250 - mse: 0.0016 - mape: 243072.3906 - val_loss: 0.0023 - val_mae: 0.0302 - val_mse: 0.0023 - val_mape: 230657.5938\n",
      "Epoch 88/100\n",
      "176/176 [==============================] - 0s 711us/step - loss: 0.0016 - mae: 0.0248 - mse: 0.0016 - mape: 238551.2500 - val_loss: 0.0030 - val_mae: 0.0354 - val_mse: 0.0030 - val_mape: 195654.4062\n",
      "Epoch 89/100\n",
      "176/176 [==============================] - 0s 706us/step - loss: 0.0016 - mae: 0.0247 - mse: 0.0016 - mape: 248211.4688 - val_loss: 0.0024 - val_mae: 0.0305 - val_mse: 0.0024 - val_mape: 204636.0938\n",
      "Epoch 90/100\n",
      "176/176 [==============================] - 0s 825us/step - loss: 0.0016 - mae: 0.0245 - mse: 0.0016 - mape: 231108.8438 - val_loss: 0.0028 - val_mae: 0.0361 - val_mse: 0.0028 - val_mape: 161479.0000\n",
      "Epoch 91/100\n",
      "176/176 [==============================] - 0s 729us/step - loss: 0.0016 - mae: 0.0246 - mse: 0.0016 - mape: 269789.6250 - val_loss: 0.0028 - val_mae: 0.0336 - val_mse: 0.0028 - val_mape: 224832.1094\n",
      "Epoch 92/100\n",
      "176/176 [==============================] - 0s 729us/step - loss: 0.0015 - mae: 0.0246 - mse: 0.0015 - mape: 264262.3750 - val_loss: 0.0024 - val_mae: 0.0313 - val_mse: 0.0024 - val_mape: 233570.4375\n",
      "Epoch 93/100\n",
      "176/176 [==============================] - 0s 730us/step - loss: 0.0014 - mae: 0.0241 - mse: 0.0014 - mape: 227801.8906 - val_loss: 0.0027 - val_mae: 0.0323 - val_mse: 0.0027 - val_mape: 340641.6562\n",
      "Epoch 94/100\n",
      "176/176 [==============================] - 0s 810us/step - loss: 0.0016 - mae: 0.0245 - mse: 0.0016 - mape: 264405.8125 - val_loss: 0.0052 - val_mae: 0.0478 - val_mse: 0.0052 - val_mape: 519750.5625\n",
      "Epoch 95/100\n",
      "176/176 [==============================] - 0s 732us/step - loss: 0.0016 - mae: 0.0241 - mse: 0.0016 - mape: 225411.0625 - val_loss: 0.0024 - val_mae: 0.0310 - val_mse: 0.0024 - val_mape: 160794.7031\n",
      "Epoch 96/100\n",
      "176/176 [==============================] - 0s 711us/step - loss: 0.0015 - mae: 0.0237 - mse: 0.0015 - mape: 204766.3281 - val_loss: 0.0020 - val_mae: 0.0281 - val_mse: 0.0020 - val_mape: 171613.5156\n",
      "Epoch 97/100\n",
      "176/176 [==============================] - 0s 705us/step - loss: 0.0015 - mae: 0.0239 - mse: 0.0015 - mape: 228730.3594 - val_loss: 0.0030 - val_mae: 0.0358 - val_mse: 0.0030 - val_mape: 167471.7031\n",
      "Epoch 98/100\n",
      "176/176 [==============================] - 0s 705us/step - loss: 0.0016 - mae: 0.0240 - mse: 0.0016 - mape: 239638.1875 - val_loss: 0.0022 - val_mae: 0.0287 - val_mse: 0.0022 - val_mape: 187152.9531\n",
      "Epoch 99/100\n",
      "176/176 [==============================] - 0s 722us/step - loss: 0.0015 - mae: 0.0238 - mse: 0.0015 - mape: 226214.4688 - val_loss: 0.0023 - val_mae: 0.0302 - val_mse: 0.0023 - val_mape: 262021.0469\n",
      "Epoch 100/100\n",
      "176/176 [==============================] - 0s 718us/step - loss: 0.0014 - mae: 0.0235 - mse: 0.0014 - mape: 236175.7500 - val_loss: 0.0022 - val_mae: 0.0279 - val_mse: 0.0022 - val_mape: 218262.4844\n"
     ]
    }
   ],
   "source": [
    "# We decalred a function for creating a model.\n",
    "from tensorflow.keras.layers import Activation, Dense, BatchNormalization, Dropout\n",
    "from tensorflow.keras import optimizers\n",
    "def build_model3_five_hidden_layers():\n",
    "    \n",
    "    model = Sequential()\n",
    "\n",
    "    model.add(Dense(32, input_shape = (X_train.shape[1],)))    \n",
    "    \n",
    "    model.add(Dense(64,Activation('relu')))                         \n",
    "    \n",
    "    model.add(Dense(64, Activation('relu')))                         \n",
    "    \n",
    "    \n",
    "    model.add(Dense(64, Activation('relu')))                         \n",
    "    \n",
    "    \n",
    "    model.add(Dense(64, Activation('relu')))                         \n",
    "    \n",
    "    \n",
    "    model.add(Dense(64, Activation('relu')))                         \n",
    "\n",
    "    \n",
    "    model.add(Dense(1))                        \n",
    "    learning_rate = 0.001\n",
    "    optimizer = optimizers.RMSprop(learning_rate)\n",
    "    model.compile(loss='mse',\n",
    "                optimizer=optimizer,\n",
    "                metrics=['mae', 'mse', 'mape']) \n",
    "    \n",
    "    return model\n",
    "\n",
    "model3 = build_model3_five_hidden_layers()\n",
    "print('Here is a summary of this model: ')\n",
    "model3.summary()\n",
    "history = model3.fit(X_train, y_train, validation_split=0.2, epochs =100)"
   ]
  },
  {
   "cell_type": "code",
   "execution_count": 44,
   "id": "173d1e5e",
   "metadata": {},
   "outputs": [],
   "source": [
    "model3.save(\"trained.model.h5\")"
   ]
  },
  {
   "cell_type": "code",
   "execution_count": 45,
   "id": "3ac12e7a",
   "metadata": {},
   "outputs": [
    {
     "name": "stdout",
     "output_type": "stream",
     "text": [
      "1/1 [==============================] - 0s 35ms/step\n",
      "Predicted values are:  [[0.12403046]\n",
      " [0.18368074]\n",
      " [0.08022607]\n",
      " [0.06333926]\n",
      " [0.09806548]]\n",
      "Real values are:  [[0.08970754]\n",
      " [0.22131609]\n",
      " [0.06383577]\n",
      " [0.08352081]\n",
      " [0.11051744]]\n"
     ]
    }
   ],
   "source": [
    "#Predict on train data\n",
    "predictions = model3.predict(X_train[:5])\n",
    "print(\"Predicted values are: \", predictions)\n",
    "print(\"Real values are: \", y_train[:5])"
   ]
  },
  {
   "cell_type": "code",
   "execution_count": 46,
   "id": "2fe69048",
   "metadata": {},
   "outputs": [
    {
     "name": "stdout",
     "output_type": "stream",
     "text": [
      "1/1 [==============================] - 0s 9ms/step\n",
      "Predicted values are:  [[0.10957927]\n",
      " [0.08422878]\n",
      " [0.13211928]\n",
      " [0.52948695]\n",
      " [0.08014021]]\n",
      "Real values are:  [[0.12739033]\n",
      " [0.10461192]\n",
      " [0.12992126]\n",
      " [0.47412823]\n",
      " [0.07367829]]\n"
     ]
    }
   ],
   "source": [
    "#Predict on test data\n",
    "predictions = model3.predict(X_test[:5])\n",
    "print(\"Predicted values are: \", predictions)\n",
    "print(\"Real values are: \", y_test[:5])"
   ]
  },
  {
   "cell_type": "code",
   "execution_count": 47,
   "id": "15d83931",
   "metadata": {},
   "outputs": [
    {
     "name": "stdout",
     "output_type": "stream",
     "text": [
      "219/219 [==============================] - 0s 384us/step\n",
      "The mean squared error is 0.0013961273295210357\n",
      "The mean absolute error is 0.022553379935636882\n",
      "The root mean sqaured error is 0.03736478729393539\n"
     ]
    }
   ],
   "source": [
    "y_train_pred = model3.predict(X_train)\n",
    "MSE = metrics.mean_squared_error(y_train_pred, y_train)\n",
    "MAE =  metrics.mean_absolute_error(y_train_pred, y_train)\n",
    "RMSE = MSE**0.5\n",
    "print(f\"The mean squared error is {MSE}\")\n",
    "print(f\"The mean absolute error is {MAE}\")\n",
    "print(f\"The root mean sqaured error is {RMSE}\")"
   ]
  },
  {
   "cell_type": "code",
   "execution_count": 48,
   "id": "75435d1e",
   "metadata": {},
   "outputs": [
    {
     "name": "stdout",
     "output_type": "stream",
     "text": [
      "55/55 [==============================] - 0s 360us/step\n",
      "The mean squared error is 0.0026148365214244346\n",
      "The mean absolute error is 0.02811352093897421\n",
      "The root mean sqaured error is 0.05113547224211814\n"
     ]
    }
   ],
   "source": [
    "y_test_pred = model3.predict(X_test)\n",
    "MSE = metrics.mean_squared_error(y_test_pred, y_test)\n",
    "MAE =  metrics.mean_absolute_error(y_test_pred, y_test)\n",
    "RMSE = MSE**0.5\n",
    "print(f\"The mean squared error is {MSE}\")\n",
    "print(f\"The mean absolute error is {MAE}\")\n",
    "print(f\"The root mean sqaured error is {RMSE}\")"
   ]
  },
  {
   "cell_type": "code",
   "execution_count": 49,
   "id": "cac38777",
   "metadata": {},
   "outputs": [
    {
     "name": "stdout",
     "output_type": "stream",
     "text": [
      "Summary of the results after each epoch: \n"
     ]
    },
    {
     "data": {
      "text/html": [
       "<div>\n",
       "<style scoped>\n",
       "    .dataframe tbody tr th:only-of-type {\n",
       "        vertical-align: middle;\n",
       "    }\n",
       "\n",
       "    .dataframe tbody tr th {\n",
       "        vertical-align: top;\n",
       "    }\n",
       "\n",
       "    .dataframe thead th {\n",
       "        text-align: right;\n",
       "    }\n",
       "</style>\n",
       "<table border=\"1\" class=\"dataframe\">\n",
       "  <thead>\n",
       "    <tr style=\"text-align: right;\">\n",
       "      <th></th>\n",
       "      <th>loss</th>\n",
       "      <th>mae</th>\n",
       "      <th>mse</th>\n",
       "      <th>mape</th>\n",
       "      <th>val_loss</th>\n",
       "      <th>val_mae</th>\n",
       "      <th>val_mse</th>\n",
       "      <th>val_mape</th>\n",
       "      <th>epoch</th>\n",
       "    </tr>\n",
       "  </thead>\n",
       "  <tbody>\n",
       "    <tr>\n",
       "      <th>95</th>\n",
       "      <td>0.001515</td>\n",
       "      <td>0.023665</td>\n",
       "      <td>0.001515</td>\n",
       "      <td>204766.328125</td>\n",
       "      <td>0.002027</td>\n",
       "      <td>0.028091</td>\n",
       "      <td>0.002027</td>\n",
       "      <td>171613.515625</td>\n",
       "      <td>95</td>\n",
       "    </tr>\n",
       "    <tr>\n",
       "      <th>96</th>\n",
       "      <td>0.001496</td>\n",
       "      <td>0.023915</td>\n",
       "      <td>0.001496</td>\n",
       "      <td>228730.359375</td>\n",
       "      <td>0.002965</td>\n",
       "      <td>0.035813</td>\n",
       "      <td>0.002965</td>\n",
       "      <td>167471.703125</td>\n",
       "      <td>96</td>\n",
       "    </tr>\n",
       "    <tr>\n",
       "      <th>97</th>\n",
       "      <td>0.001556</td>\n",
       "      <td>0.024016</td>\n",
       "      <td>0.001556</td>\n",
       "      <td>239638.187500</td>\n",
       "      <td>0.002195</td>\n",
       "      <td>0.028699</td>\n",
       "      <td>0.002195</td>\n",
       "      <td>187152.953125</td>\n",
       "      <td>97</td>\n",
       "    </tr>\n",
       "    <tr>\n",
       "      <th>98</th>\n",
       "      <td>0.001492</td>\n",
       "      <td>0.023836</td>\n",
       "      <td>0.001492</td>\n",
       "      <td>226214.468750</td>\n",
       "      <td>0.002309</td>\n",
       "      <td>0.030182</td>\n",
       "      <td>0.002309</td>\n",
       "      <td>262021.046875</td>\n",
       "      <td>98</td>\n",
       "    </tr>\n",
       "    <tr>\n",
       "      <th>99</th>\n",
       "      <td>0.001433</td>\n",
       "      <td>0.023453</td>\n",
       "      <td>0.001433</td>\n",
       "      <td>236175.750000</td>\n",
       "      <td>0.002227</td>\n",
       "      <td>0.027912</td>\n",
       "      <td>0.002227</td>\n",
       "      <td>218262.484375</td>\n",
       "      <td>99</td>\n",
       "    </tr>\n",
       "  </tbody>\n",
       "</table>\n",
       "</div>"
      ],
      "text/plain": [
       "        loss       mae       mse           mape  val_loss   val_mae   val_mse  \\\n",
       "95  0.001515  0.023665  0.001515  204766.328125  0.002027  0.028091  0.002027   \n",
       "96  0.001496  0.023915  0.001496  228730.359375  0.002965  0.035813  0.002965   \n",
       "97  0.001556  0.024016  0.001556  239638.187500  0.002195  0.028699  0.002195   \n",
       "98  0.001492  0.023836  0.001492  226214.468750  0.002309  0.030182  0.002309   \n",
       "99  0.001433  0.023453  0.001433  236175.750000  0.002227  0.027912  0.002227   \n",
       "\n",
       "         val_mape  epoch  \n",
       "95  171613.515625     95  \n",
       "96  167471.703125     96  \n",
       "97  187152.953125     97  \n",
       "98  262021.046875     98  \n",
       "99  218262.484375     99  "
      ]
     },
     "execution_count": 49,
     "metadata": {},
     "output_type": "execute_result"
    }
   ],
   "source": [
    "print('Summary of the results after each epoch: ')\n",
    "hist = pd.DataFrame(history.history)\n",
    "hist['epoch'] = history.epoch\n",
    "hist.tail()"
   ]
  },
  {
   "cell_type": "code",
   "execution_count": 50,
   "id": "f5829391",
   "metadata": {},
   "outputs": [
    {
     "name": "stdout",
     "output_type": "stream",
     "text": [
      "219/219 [==============================] - 0s 368us/step\n"
     ]
    },
    {
     "data": {
      "text/plain": [
       "(7008, 1)"
      ]
     },
     "execution_count": 50,
     "metadata": {},
     "output_type": "execute_result"
    }
   ],
   "source": [
    "train_predictions = model3.predict(X_train)\n",
    "train_predictions.shape"
   ]
  },
  {
   "cell_type": "code",
   "execution_count": 51,
   "id": "c26e9869",
   "metadata": {},
   "outputs": [
    {
     "data": {
      "text/plain": [
       "(7008, 1)"
      ]
     },
     "execution_count": 51,
     "metadata": {},
     "output_type": "execute_result"
    }
   ],
   "source": [
    "y_train.shape"
   ]
  },
  {
   "cell_type": "code",
   "execution_count": 52,
   "id": "d35dd124",
   "metadata": {},
   "outputs": [
    {
     "name": "stdout",
     "output_type": "stream",
     "text": [
      "219/219 [==============================] - 0s 385us/step\n"
     ]
    },
    {
     "data": {
      "image/png": "[encoded data removed]",
      "text/plain": [
       "<Figure size 640x480 with 1 Axes>"
      ]
     },
     "metadata": {},
     "output_type": "display_data"
    }
   ],
   "source": [
    "train_predictions = model3.predict(X_train)\n",
    "\n",
    "a = plt.axes(aspect='equal')\n",
    "plt.scatter(y_train, train_predictions)\n",
    "plt.xlabel('True Values')\n",
    "plt.ylabel('Predictions')\n",
    "lims = [0, 1]\n",
    "plt.xlim(lims)\n",
    "plt.ylim(lims)\n",
    "_ = plt.plot(lims, lims)"
   ]
  },
  {
   "cell_type": "code",
   "execution_count": 53,
   "id": "d7b2ba32",
   "metadata": {},
   "outputs": [
    {
     "name": "stdout",
     "output_type": "stream",
     "text": [
      "55/55 [==============================] - 0s 351us/step\n"
     ]
    },
    {
     "data": {
      "image/png": "[encoded data removed]",
      "text/plain": [
       "<Figure size 640x480 with 1 Axes>"
      ]
     },
     "metadata": {},
     "output_type": "display_data"
    }
   ],
   "source": [
    "test_predictions = model3.predict(X_test)\n",
    "\n",
    "a = plt.axes(aspect='equal')\n",
    "plt.scatter(y_test, test_predictions)\n",
    "plt.xlabel('True Values')\n",
    "plt.ylabel('Predictions')\n",
    "lims = [0, 1]\n",
    "plt.xlim(lims)\n",
    "plt.ylim(lims)\n",
    "_ = plt.plot(lims, lims)"
   ]
  },
  {
   "cell_type": "markdown",
   "id": "3c9f66c5",
   "metadata": {},
   "source": [
    "# Hyperparameters Tuning"
   ]
  },
  {
   "cell_type": "code",
   "execution_count": 54,
   "id": "b3c98798",
   "metadata": {},
   "outputs": [],
   "source": [
    "import kerastuner as kt"
   ]
  },
  {
   "cell_type": "markdown",
   "id": "e4763f92",
   "metadata": {},
   "source": [
    "# Finding right optimizer"
   ]
  },
  {
   "cell_type": "code",
   "execution_count": 55,
   "id": "382fb5c2",
   "metadata": {},
   "outputs": [],
   "source": [
    "def build_model(hp):\n",
    "    \n",
    "    model = Sequential()\n",
    "    \n",
    "    model.add(Dense(32,activation='relu',input_dim=17))\n",
    "    model.add(Dense(1,activation='sigmoid'))\n",
    "    \n",
    "    optimizer=hp.Choice('optimizer',values=['adam','sgd','rmsprop','adadelta'])\n",
    "    \n",
    "    model.compile(optimizer=optimizer,loss='mse', metrics='mse')\n",
    "                        \n",
    "    return model\n",
    "    "
   ]
  },
  {
   "cell_type": "code",
   "execution_count": 56,
   "id": "158d997d",
   "metadata": {},
   "outputs": [],
   "source": [
    "tuner = kt.RandomSearch(\n",
    "    build_model,\n",
    "    objective='loss',\n",
    "    max_trials=5,\n",
    "    overwrite=True)"
   ]
  },
  {
   "cell_type": "code",
   "execution_count": 57,
   "id": "552102bb",
   "metadata": {},
   "outputs": [],
   "source": [
    "X_train, X_rem, y_train, y_rem = train_test_split(scaled_X,scaled_y, train_size=0.80,random_state=1111)\n",
    "X_valid, X_test, y_valid, y_test = train_test_split(X_rem,y_rem, test_size=0.5,random_state=1111)"
   ]
  },
  {
   "cell_type": "code",
   "execution_count": 58,
   "id": "d1a9845e",
   "metadata": {},
   "outputs": [
    {
     "name": "stdout",
     "output_type": "stream",
     "text": [
      "Trial 4 Complete [00h 00m 01s]\n",
      "loss: 0.014180533587932587\n",
      "\n",
      "Best loss So Far: 0.013096707873046398\n",
      "Total elapsed time: 00h 00m 03s\n",
      "INFO:tensorflow:Oracle triggered exit\n"
     ]
    }
   ],
   "source": [
    "tuner.search(X_train, y_train, epochs=5, validation_data=(X_valid, y_valid))"
   ]
  },
  {
   "cell_type": "code",
   "execution_count": 59,
   "id": "fc2df4df",
   "metadata": {},
   "outputs": [
    {
     "data": {
      "text/plain": [
       "{'optimizer': 'rmsprop'}"
      ]
     },
     "execution_count": 59,
     "metadata": {},
     "output_type": "execute_result"
    }
   ],
   "source": [
    "tuner.get_best_hyperparameters()[0].values"
   ]
  },
  {
   "cell_type": "code",
   "execution_count": 60,
   "id": "218b9197",
   "metadata": {},
   "outputs": [],
   "source": [
    "model = tuner.get_best_models(num_models=1)[0]"
   ]
  },
  {
   "cell_type": "code",
   "execution_count": 61,
   "id": "fd263b43",
   "metadata": {},
   "outputs": [
    {
     "name": "stdout",
     "output_type": "stream",
     "text": [
      "Model: \"sequential\"\n",
      "_________________________________________________________________\n",
      " Layer (type)                Output Shape              Param #   \n",
      "=================================================================\n",
      " dense (Dense)               (None, 32)                576       \n",
      "                                                                 \n",
      " dense_1 (Dense)             (None, 1)                 33        \n",
      "                                                                 \n",
      "=================================================================\n",
      "Total params: 609\n",
      "Trainable params: 609\n",
      "Non-trainable params: 0\n",
      "_________________________________________________________________\n"
     ]
    }
   ],
   "source": [
    "model.summary()"
   ]
  },
  {
   "cell_type": "code",
   "execution_count": 62,
   "id": "f88214cd",
   "metadata": {},
   "outputs": [
    {
     "name": "stdout",
     "output_type": "stream",
     "text": [
      "Epoch 7/100\n",
      "219/219 [==============================] - 0s 623us/step - loss: 0.0124 - mse: 0.0124 - val_loss: 0.0103 - val_mse: 0.0103\n",
      "Epoch 8/100\n",
      "219/219 [==============================] - 0s 433us/step - loss: 0.0119 - mse: 0.0119 - val_loss: 0.0098 - val_mse: 0.0098\n",
      "Epoch 9/100\n",
      "219/219 [==============================] - 0s 424us/step - loss: 0.0114 - mse: 0.0114 - val_loss: 0.0094 - val_mse: 0.0094\n",
      "Epoch 10/100\n",
      "219/219 [==============================] - 0s 434us/step - loss: 0.0110 - mse: 0.0110 - val_loss: 0.0092 - val_mse: 0.0092\n",
      "Epoch 11/100\n",
      "219/219 [==============================] - 0s 434us/step - loss: 0.0107 - mse: 0.0107 - val_loss: 0.0091 - val_mse: 0.0091\n",
      "Epoch 12/100\n",
      "219/219 [==============================] - 0s 474us/step - loss: 0.0104 - mse: 0.0104 - val_loss: 0.0090 - val_mse: 0.0090\n",
      "Epoch 13/100\n",
      "219/219 [==============================] - 0s 430us/step - loss: 0.0102 - mse: 0.0102 - val_loss: 0.0089 - val_mse: 0.0089\n",
      "Epoch 14/100\n",
      "219/219 [==============================] - 0s 427us/step - loss: 0.0100 - mse: 0.0100 - val_loss: 0.0083 - val_mse: 0.0083\n",
      "Epoch 15/100\n",
      "219/219 [==============================] - 0s 440us/step - loss: 0.0097 - mse: 0.0097 - val_loss: 0.0083 - val_mse: 0.0083\n",
      "Epoch 16/100\n",
      "219/219 [==============================] - 0s 429us/step - loss: 0.0096 - mse: 0.0096 - val_loss: 0.0080 - val_mse: 0.0080\n",
      "Epoch 17/100\n",
      "219/219 [==============================] - 0s 426us/step - loss: 0.0094 - mse: 0.0094 - val_loss: 0.0078 - val_mse: 0.0078\n",
      "Epoch 18/100\n",
      "219/219 [==============================] - 0s 440us/step - loss: 0.0092 - mse: 0.0092 - val_loss: 0.0077 - val_mse: 0.0077\n",
      "Epoch 19/100\n",
      "219/219 [==============================] - 0s 427us/step - loss: 0.0091 - mse: 0.0091 - val_loss: 0.0077 - val_mse: 0.0077\n",
      "Epoch 20/100\n",
      "219/219 [==============================] - 0s 424us/step - loss: 0.0089 - mse: 0.0089 - val_loss: 0.0074 - val_mse: 0.0074\n",
      "Epoch 21/100\n",
      "219/219 [==============================] - 0s 502us/step - loss: 0.0088 - mse: 0.0088 - val_loss: 0.0074 - val_mse: 0.0074\n",
      "Epoch 22/100\n",
      "219/219 [==============================] - 0s 428us/step - loss: 0.0087 - mse: 0.0087 - val_loss: 0.0072 - val_mse: 0.0072\n",
      "Epoch 23/100\n",
      "219/219 [==============================] - 0s 425us/step - loss: 0.0085 - mse: 0.0085 - val_loss: 0.0072 - val_mse: 0.0072\n",
      "Epoch 24/100\n",
      "219/219 [==============================] - 0s 438us/step - loss: 0.0085 - mse: 0.0085 - val_loss: 0.0072 - val_mse: 0.0072\n",
      "Epoch 25/100\n",
      "219/219 [==============================] - 0s 431us/step - loss: 0.0084 - mse: 0.0084 - val_loss: 0.0070 - val_mse: 0.0070\n",
      "Epoch 26/100\n",
      "219/219 [==============================] - 0s 422us/step - loss: 0.0083 - mse: 0.0083 - val_loss: 0.0069 - val_mse: 0.0069\n",
      "Epoch 27/100\n",
      "219/219 [==============================] - 0s 420us/step - loss: 0.0082 - mse: 0.0082 - val_loss: 0.0071 - val_mse: 0.0071\n",
      "Epoch 28/100\n",
      "219/219 [==============================] - 0s 419us/step - loss: 0.0081 - mse: 0.0081 - val_loss: 0.0070 - val_mse: 0.0070\n",
      "Epoch 29/100\n",
      "219/219 [==============================] - 0s 427us/step - loss: 0.0081 - mse: 0.0081 - val_loss: 0.0068 - val_mse: 0.0068\n",
      "Epoch 30/100\n",
      "219/219 [==============================] - 0s 425us/step - loss: 0.0080 - mse: 0.0080 - val_loss: 0.0068 - val_mse: 0.0068\n",
      "Epoch 31/100\n",
      "219/219 [==============================] - 0s 431us/step - loss: 0.0079 - mse: 0.0079 - val_loss: 0.0066 - val_mse: 0.0066\n",
      "Epoch 32/100\n",
      "219/219 [==============================] - 0s 438us/step - loss: 0.0079 - mse: 0.0079 - val_loss: 0.0089 - val_mse: 0.0089\n",
      "Epoch 33/100\n",
      "219/219 [==============================] - 0s 427us/step - loss: 0.0079 - mse: 0.0079 - val_loss: 0.0068 - val_mse: 0.0068\n",
      "Epoch 34/100\n",
      "219/219 [==============================] - 0s 445us/step - loss: 0.0078 - mse: 0.0078 - val_loss: 0.0065 - val_mse: 0.0065\n",
      "Epoch 35/100\n",
      "219/219 [==============================] - 0s 440us/step - loss: 0.0077 - mse: 0.0077 - val_loss: 0.0065 - val_mse: 0.0065\n",
      "Epoch 36/100\n",
      "219/219 [==============================] - 0s 438us/step - loss: 0.0077 - mse: 0.0077 - val_loss: 0.0067 - val_mse: 0.0067\n",
      "Epoch 37/100\n",
      "219/219 [==============================] - 0s 497us/step - loss: 0.0076 - mse: 0.0076 - val_loss: 0.0066 - val_mse: 0.0066\n",
      "Epoch 38/100\n",
      "219/219 [==============================] - 0s 439us/step - loss: 0.0076 - mse: 0.0076 - val_loss: 0.0064 - val_mse: 0.0064\n",
      "Epoch 39/100\n",
      "219/219 [==============================] - 0s 432us/step - loss: 0.0076 - mse: 0.0076 - val_loss: 0.0065 - val_mse: 0.0065\n",
      "Epoch 40/100\n",
      "219/219 [==============================] - 0s 441us/step - loss: 0.0076 - mse: 0.0076 - val_loss: 0.0064 - val_mse: 0.0064\n",
      "Epoch 41/100\n",
      "219/219 [==============================] - 0s 431us/step - loss: 0.0075 - mse: 0.0075 - val_loss: 0.0064 - val_mse: 0.0064\n",
      "Epoch 42/100\n",
      "219/219 [==============================] - 0s 437us/step - loss: 0.0074 - mse: 0.0074 - val_loss: 0.0062 - val_mse: 0.0062\n",
      "Epoch 43/100\n",
      "219/219 [==============================] - 0s 430us/step - loss: 0.0075 - mse: 0.0075 - val_loss: 0.0063 - val_mse: 0.0063\n",
      "Epoch 44/100\n",
      "219/219 [==============================] - 0s 422us/step - loss: 0.0074 - mse: 0.0074 - val_loss: 0.0061 - val_mse: 0.0061\n",
      "Epoch 45/100\n",
      "219/219 [==============================] - 0s 428us/step - loss: 0.0074 - mse: 0.0074 - val_loss: 0.0063 - val_mse: 0.0063\n",
      "Epoch 46/100\n",
      "219/219 [==============================] - 0s 433us/step - loss: 0.0073 - mse: 0.0073 - val_loss: 0.0062 - val_mse: 0.0062\n",
      "Epoch 47/100\n",
      "219/219 [==============================] - 0s 428us/step - loss: 0.0073 - mse: 0.0073 - val_loss: 0.0061 - val_mse: 0.0061\n",
      "Epoch 48/100\n",
      "219/219 [==============================] - 0s 437us/step - loss: 0.0072 - mse: 0.0072 - val_loss: 0.0061 - val_mse: 0.0061\n",
      "Epoch 49/100\n",
      "219/219 [==============================] - 0s 429us/step - loss: 0.0072 - mse: 0.0072 - val_loss: 0.0061 - val_mse: 0.0061\n",
      "Epoch 50/100\n",
      "219/219 [==============================] - 0s 421us/step - loss: 0.0072 - mse: 0.0072 - val_loss: 0.0061 - val_mse: 0.0061\n",
      "Epoch 51/100\n",
      "219/219 [==============================] - 0s 426us/step - loss: 0.0072 - mse: 0.0072 - val_loss: 0.0060 - val_mse: 0.0060\n",
      "Epoch 52/100\n",
      "219/219 [==============================] - 0s 439us/step - loss: 0.0071 - mse: 0.0071 - val_loss: 0.0061 - val_mse: 0.0061\n",
      "Epoch 53/100\n",
      "219/219 [==============================] - 0s 438us/step - loss: 0.0071 - mse: 0.0071 - val_loss: 0.0060 - val_mse: 0.0060\n",
      "Epoch 54/100\n",
      "219/219 [==============================] - 0s 503us/step - loss: 0.0071 - mse: 0.0071 - val_loss: 0.0067 - val_mse: 0.0067\n",
      "Epoch 55/100\n",
      "219/219 [==============================] - 0s 433us/step - loss: 0.0071 - mse: 0.0071 - val_loss: 0.0062 - val_mse: 0.0062\n",
      "Epoch 56/100\n",
      "219/219 [==============================] - 0s 471us/step - loss: 0.0071 - mse: 0.0071 - val_loss: 0.0061 - val_mse: 0.0061\n",
      "Epoch 57/100\n",
      "219/219 [==============================] - 0s 438us/step - loss: 0.0071 - mse: 0.0071 - val_loss: 0.0059 - val_mse: 0.0059\n",
      "Epoch 58/100\n",
      "219/219 [==============================] - 0s 433us/step - loss: 0.0070 - mse: 0.0070 - val_loss: 0.0060 - val_mse: 0.0060\n",
      "Epoch 59/100\n",
      "219/219 [==============================] - 0s 494us/step - loss: 0.0070 - mse: 0.0070 - val_loss: 0.0058 - val_mse: 0.0058\n",
      "Epoch 60/100\n",
      "219/219 [==============================] - 0s 436us/step - loss: 0.0070 - mse: 0.0070 - val_loss: 0.0058 - val_mse: 0.0058\n",
      "Epoch 61/100\n",
      "219/219 [==============================] - 0s 422us/step - loss: 0.0070 - mse: 0.0070 - val_loss: 0.0061 - val_mse: 0.0061\n",
      "Epoch 62/100\n",
      "219/219 [==============================] - 0s 435us/step - loss: 0.0070 - mse: 0.0070 - val_loss: 0.0058 - val_mse: 0.0058\n",
      "Epoch 63/100\n",
      "219/219 [==============================] - 0s 445us/step - loss: 0.0069 - mse: 0.0069 - val_loss: 0.0059 - val_mse: 0.0059\n",
      "Epoch 64/100\n",
      "219/219 [==============================] - 0s 416us/step - loss: 0.0069 - mse: 0.0069 - val_loss: 0.0060 - val_mse: 0.0060\n",
      "Epoch 65/100\n",
      "219/219 [==============================] - 0s 437us/step - loss: 0.0069 - mse: 0.0069 - val_loss: 0.0058 - val_mse: 0.0058\n",
      "Epoch 66/100\n",
      "219/219 [==============================] - 0s 449us/step - loss: 0.0069 - mse: 0.0069 - val_loss: 0.0061 - val_mse: 0.0061\n",
      "Epoch 67/100\n"
     ]
    },
    {
     "name": "stdout",
     "output_type": "stream",
     "text": [
      "219/219 [==============================] - 0s 456us/step - loss: 0.0069 - mse: 0.0069 - val_loss: 0.0058 - val_mse: 0.0058\n",
      "Epoch 68/100\n",
      "219/219 [==============================] - 0s 458us/step - loss: 0.0069 - mse: 0.0069 - val_loss: 0.0058 - val_mse: 0.0058\n",
      "Epoch 69/100\n",
      "219/219 [==============================] - 0s 427us/step - loss: 0.0069 - mse: 0.0069 - val_loss: 0.0061 - val_mse: 0.0061\n",
      "Epoch 70/100\n",
      "219/219 [==============================] - 0s 433us/step - loss: 0.0068 - mse: 0.0068 - val_loss: 0.0058 - val_mse: 0.0058\n",
      "Epoch 71/100\n",
      "219/219 [==============================] - 0s 434us/step - loss: 0.0068 - mse: 0.0068 - val_loss: 0.0057 - val_mse: 0.0057\n",
      "Epoch 72/100\n",
      "219/219 [==============================] - 0s 447us/step - loss: 0.0068 - mse: 0.0068 - val_loss: 0.0057 - val_mse: 0.0057\n",
      "Epoch 73/100\n",
      "219/219 [==============================] - 0s 442us/step - loss: 0.0068 - mse: 0.0068 - val_loss: 0.0060 - val_mse: 0.0060\n",
      "Epoch 74/100\n",
      "219/219 [==============================] - 0s 423us/step - loss: 0.0068 - mse: 0.0068 - val_loss: 0.0060 - val_mse: 0.0060\n",
      "Epoch 75/100\n",
      "219/219 [==============================] - 0s 470us/step - loss: 0.0068 - mse: 0.0068 - val_loss: 0.0059 - val_mse: 0.0059\n",
      "Epoch 76/100\n",
      "219/219 [==============================] - 0s 438us/step - loss: 0.0068 - mse: 0.0068 - val_loss: 0.0056 - val_mse: 0.0056\n",
      "Epoch 77/100\n",
      "219/219 [==============================] - 0s 423us/step - loss: 0.0068 - mse: 0.0068 - val_loss: 0.0057 - val_mse: 0.0057\n",
      "Epoch 78/100\n",
      "219/219 [==============================] - 0s 422us/step - loss: 0.0067 - mse: 0.0067 - val_loss: 0.0058 - val_mse: 0.0058\n",
      "Epoch 79/100\n",
      "219/219 [==============================] - 0s 422us/step - loss: 0.0067 - mse: 0.0067 - val_loss: 0.0057 - val_mse: 0.0057\n",
      "Epoch 80/100\n",
      "219/219 [==============================] - 0s 421us/step - loss: 0.0067 - mse: 0.0067 - val_loss: 0.0056 - val_mse: 0.0056\n",
      "Epoch 81/100\n",
      "219/219 [==============================] - 0s 433us/step - loss: 0.0067 - mse: 0.0067 - val_loss: 0.0057 - val_mse: 0.0057\n",
      "Epoch 82/100\n",
      "219/219 [==============================] - 0s 425us/step - loss: 0.0067 - mse: 0.0067 - val_loss: 0.0056 - val_mse: 0.0056\n",
      "Epoch 83/100\n",
      "219/219 [==============================] - 0s 431us/step - loss: 0.0067 - mse: 0.0067 - val_loss: 0.0056 - val_mse: 0.0056\n",
      "Epoch 84/100\n",
      "219/219 [==============================] - 0s 428us/step - loss: 0.0067 - mse: 0.0067 - val_loss: 0.0056 - val_mse: 0.0056\n",
      "Epoch 85/100\n",
      "219/219 [==============================] - 0s 420us/step - loss: 0.0066 - mse: 0.0066 - val_loss: 0.0056 - val_mse: 0.0056\n",
      "Epoch 86/100\n",
      "219/219 [==============================] - 0s 420us/step - loss: 0.0066 - mse: 0.0066 - val_loss: 0.0062 - val_mse: 0.0062\n",
      "Epoch 87/100\n",
      "219/219 [==============================] - 0s 421us/step - loss: 0.0066 - mse: 0.0066 - val_loss: 0.0056 - val_mse: 0.0056\n",
      "Epoch 88/100\n",
      "219/219 [==============================] - 0s 430us/step - loss: 0.0066 - mse: 0.0066 - val_loss: 0.0055 - val_mse: 0.0055\n",
      "Epoch 89/100\n",
      "219/219 [==============================] - 0s 437us/step - loss: 0.0066 - mse: 0.0066 - val_loss: 0.0056 - val_mse: 0.0056\n",
      "Epoch 90/100\n",
      "219/219 [==============================] - 0s 433us/step - loss: 0.0066 - mse: 0.0066 - val_loss: 0.0055 - val_mse: 0.0055\n",
      "Epoch 91/100\n",
      "219/219 [==============================] - 0s 429us/step - loss: 0.0065 - mse: 0.0065 - val_loss: 0.0055 - val_mse: 0.0055\n",
      "Epoch 92/100\n",
      "219/219 [==============================] - 0s 502us/step - loss: 0.0065 - mse: 0.0065 - val_loss: 0.0059 - val_mse: 0.0059\n",
      "Epoch 93/100\n",
      "219/219 [==============================] - 0s 431us/step - loss: 0.0065 - mse: 0.0065 - val_loss: 0.0055 - val_mse: 0.0055\n",
      "Epoch 94/100\n",
      "219/219 [==============================] - 0s 421us/step - loss: 0.0065 - mse: 0.0065 - val_loss: 0.0056 - val_mse: 0.0056\n",
      "Epoch 95/100\n",
      "219/219 [==============================] - 0s 446us/step - loss: 0.0065 - mse: 0.0065 - val_loss: 0.0055 - val_mse: 0.0055\n",
      "Epoch 96/100\n",
      "219/219 [==============================] - 0s 433us/step - loss: 0.0064 - mse: 0.0064 - val_loss: 0.0056 - val_mse: 0.0056\n",
      "Epoch 97/100\n",
      "219/219 [==============================] - 0s 447us/step - loss: 0.0065 - mse: 0.0065 - val_loss: 0.0054 - val_mse: 0.0054\n",
      "Epoch 98/100\n",
      "219/219 [==============================] - 0s 443us/step - loss: 0.0064 - mse: 0.0064 - val_loss: 0.0054 - val_mse: 0.0054\n",
      "Epoch 99/100\n",
      "219/219 [==============================] - 0s 445us/step - loss: 0.0064 - mse: 0.0064 - val_loss: 0.0054 - val_mse: 0.0054\n",
      "Epoch 100/100\n",
      "219/219 [==============================] - 0s 445us/step - loss: 0.0064 - mse: 0.0064 - val_loss: 0.0054 - val_mse: 0.0054\n"
     ]
    },
    {
     "data": {
      "text/plain": [
       "<keras.callbacks.History at 0x7ff5050abb50>"
      ]
     },
     "execution_count": 62,
     "metadata": {},
     "output_type": "execute_result"
    }
   ],
   "source": [
    "model.fit(X_train,y_train,batch_size=32,epochs=100,initial_epoch=6,validation_data=(X_valid,y_valid))"
   ]
  },
  {
   "cell_type": "code",
   "execution_count": 63,
   "id": "cccef982",
   "metadata": {},
   "outputs": [
    {
     "name": "stdout",
     "output_type": "stream",
     "text": [
      "28/28 [==============================] - 0s 422us/step\n",
      "The mean squared error is 0.007151386475555381\n",
      "The mean absolute error is 0.058618060945820304\n",
      "The root mean sqaured error is 0.08456587063086018\n"
     ]
    }
   ],
   "source": [
    "y_test_pred = model.predict(X_test)\n",
    "MSE = metrics.mean_squared_error(y_test_pred, y_test)\n",
    "MAE =  metrics.mean_absolute_error(y_test_pred, y_test)\n",
    "RMSE = MSE**0.5\n",
    "print(f\"The mean squared error is {MSE}\")\n",
    "print(f\"The mean absolute error is {MAE}\")\n",
    "print(f\"The root mean sqaured error is {RMSE}\")"
   ]
  },
  {
   "cell_type": "markdown",
   "id": "a7428e19",
   "metadata": {},
   "source": [
    "# Finding right number of neurons"
   ]
  },
  {
   "cell_type": "code",
   "execution_count": 64,
   "id": "c6b19ac2",
   "metadata": {},
   "outputs": [],
   "source": [
    "def build_model(hp):\n",
    "    \n",
    "    model = Sequential()\n",
    "    \n",
    "    units=hp.Int('units',min_value=8,max_value=128,step=8)\n",
    "    \n",
    "    model.add(Dense(units=units,activation='relu',input_dim=17))\n",
    "    \n",
    "    model.add(Dense(1,activation='sigmoid'))\n",
    "    \n",
    "    model.compile(optimizer='rmsprop',loss='mse', metrics=['mse'])\n",
    "    \n",
    "    return model"
   ]
  },
  {
   "cell_type": "code",
   "execution_count": 65,
   "id": "d4a43e61",
   "metadata": {},
   "outputs": [],
   "source": [
    "tuner = kt.RandomSearch(\n",
    "    build_model,\n",
    "    objective='loss',\n",
    "    max_trials=5,\n",
    "    overwrite=True)"
   ]
  },
  {
   "cell_type": "code",
   "execution_count": 66,
   "id": "db25ae84",
   "metadata": {},
   "outputs": [
    {
     "name": "stdout",
     "output_type": "stream",
     "text": [
      "Trial 5 Complete [00h 00m 01s]\n",
      "loss: 0.010972949676215649\n",
      "\n",
      "Best loss So Far: 0.010972949676215649\n",
      "Total elapsed time: 00h 00m 04s\n",
      "INFO:tensorflow:Oracle triggered exit\n"
     ]
    }
   ],
   "source": [
    "tuner.search(X_train, y_train, epochs=5, validation_data=(X_valid, y_valid))"
   ]
  },
  {
   "cell_type": "code",
   "execution_count": 67,
   "id": "5f7f1ecf",
   "metadata": {},
   "outputs": [
    {
     "data": {
      "text/plain": [
       "{'units': 120}"
      ]
     },
     "execution_count": 67,
     "metadata": {},
     "output_type": "execute_result"
    }
   ],
   "source": [
    "tuner.get_best_hyperparameters()[0].values"
   ]
  },
  {
   "cell_type": "code",
   "execution_count": 68,
   "id": "723e33ef",
   "metadata": {},
   "outputs": [],
   "source": [
    "model = tuner.get_best_models(num_models=1)[0]"
   ]
  },
  {
   "cell_type": "code",
   "execution_count": 69,
   "id": "91e0634d",
   "metadata": {},
   "outputs": [
    {
     "name": "stdout",
     "output_type": "stream",
     "text": [
      "Epoch 7/100\n",
      "219/219 [==============================] - 0s 622us/step - loss: 0.0104 - mse: 0.0104 - val_loss: 0.0085 - val_mse: 0.0085\n",
      "Epoch 8/100\n",
      "219/219 [==============================] - 0s 509us/step - loss: 0.0100 - mse: 0.0100 - val_loss: 0.0083 - val_mse: 0.0083\n",
      "Epoch 9/100\n",
      "219/219 [==============================] - 0s 466us/step - loss: 0.0095 - mse: 0.0095 - val_loss: 0.0085 - val_mse: 0.0085\n",
      "Epoch 10/100\n",
      "219/219 [==============================] - 0s 467us/step - loss: 0.0092 - mse: 0.0092 - val_loss: 0.0078 - val_mse: 0.0078\n",
      "Epoch 11/100\n",
      "219/219 [==============================] - 0s 467us/step - loss: 0.0089 - mse: 0.0089 - val_loss: 0.0076 - val_mse: 0.0076\n",
      "Epoch 12/100\n",
      "219/219 [==============================] - 0s 458us/step - loss: 0.0087 - mse: 0.0087 - val_loss: 0.0090 - val_mse: 0.0090\n",
      "Epoch 13/100\n",
      "219/219 [==============================] - 0s 468us/step - loss: 0.0085 - mse: 0.0085 - val_loss: 0.0073 - val_mse: 0.0073\n",
      "Epoch 14/100\n",
      "219/219 [==============================] - 0s 462us/step - loss: 0.0083 - mse: 0.0083 - val_loss: 0.0071 - val_mse: 0.0071\n",
      "Epoch 15/100\n",
      "219/219 [==============================] - 0s 460us/step - loss: 0.0081 - mse: 0.0081 - val_loss: 0.0070 - val_mse: 0.0070\n",
      "Epoch 16/100\n",
      "219/219 [==============================] - 0s 460us/step - loss: 0.0079 - mse: 0.0079 - val_loss: 0.0067 - val_mse: 0.0067\n",
      "Epoch 17/100\n",
      "219/219 [==============================] - 0s 439us/step - loss: 0.0077 - mse: 0.0077 - val_loss: 0.0068 - val_mse: 0.0068\n",
      "Epoch 18/100\n",
      "219/219 [==============================] - 0s 501us/step - loss: 0.0075 - mse: 0.0075 - val_loss: 0.0063 - val_mse: 0.0063\n",
      "Epoch 19/100\n",
      "219/219 [==============================] - 0s 441us/step - loss: 0.0074 - mse: 0.0074 - val_loss: 0.0067 - val_mse: 0.0067\n",
      "Epoch 20/100\n",
      "219/219 [==============================] - 0s 440us/step - loss: 0.0073 - mse: 0.0073 - val_loss: 0.0061 - val_mse: 0.0061\n",
      "Epoch 21/100\n",
      "219/219 [==============================] - 0s 493us/step - loss: 0.0071 - mse: 0.0071 - val_loss: 0.0060 - val_mse: 0.0060\n",
      "Epoch 22/100\n",
      "219/219 [==============================] - 0s 462us/step - loss: 0.0070 - mse: 0.0070 - val_loss: 0.0058 - val_mse: 0.0058\n",
      "Epoch 23/100\n",
      "219/219 [==============================] - 0s 460us/step - loss: 0.0068 - mse: 0.0068 - val_loss: 0.0066 - val_mse: 0.0066\n",
      "Epoch 24/100\n",
      "219/219 [==============================] - 0s 435us/step - loss: 0.0067 - mse: 0.0067 - val_loss: 0.0057 - val_mse: 0.0057\n",
      "Epoch 25/100\n",
      "219/219 [==============================] - 0s 449us/step - loss: 0.0066 - mse: 0.0066 - val_loss: 0.0056 - val_mse: 0.0056\n",
      "Epoch 26/100\n",
      "219/219 [==============================] - 0s 474us/step - loss: 0.0066 - mse: 0.0066 - val_loss: 0.0054 - val_mse: 0.0054\n",
      "Epoch 27/100\n",
      "219/219 [==============================] - 0s 460us/step - loss: 0.0064 - mse: 0.0064 - val_loss: 0.0057 - val_mse: 0.0057\n",
      "Epoch 28/100\n",
      "219/219 [==============================] - 0s 438us/step - loss: 0.0064 - mse: 0.0064 - val_loss: 0.0064 - val_mse: 0.0064\n",
      "Epoch 29/100\n",
      "219/219 [==============================] - 0s 456us/step - loss: 0.0063 - mse: 0.0063 - val_loss: 0.0052 - val_mse: 0.0052\n",
      "Epoch 30/100\n",
      "219/219 [==============================] - 0s 456us/step - loss: 0.0063 - mse: 0.0063 - val_loss: 0.0051 - val_mse: 0.0051\n",
      "Epoch 31/100\n",
      "219/219 [==============================] - 0s 442us/step - loss: 0.0061 - mse: 0.0061 - val_loss: 0.0051 - val_mse: 0.0051\n",
      "Epoch 32/100\n",
      "219/219 [==============================] - 0s 439us/step - loss: 0.0060 - mse: 0.0060 - val_loss: 0.0051 - val_mse: 0.0051\n",
      "Epoch 33/100\n",
      "219/219 [==============================] - 0s 435us/step - loss: 0.0059 - mse: 0.0059 - val_loss: 0.0060 - val_mse: 0.0060\n",
      "Epoch 34/100\n",
      "219/219 [==============================] - 0s 441us/step - loss: 0.0059 - mse: 0.0059 - val_loss: 0.0049 - val_mse: 0.0049\n",
      "Epoch 35/100\n",
      "219/219 [==============================] - 0s 437us/step - loss: 0.0058 - mse: 0.0058 - val_loss: 0.0048 - val_mse: 0.0048\n",
      "Epoch 36/100\n",
      "219/219 [==============================] - 0s 444us/step - loss: 0.0058 - mse: 0.0058 - val_loss: 0.0047 - val_mse: 0.0047\n",
      "Epoch 37/100\n",
      "219/219 [==============================] - 0s 439us/step - loss: 0.0057 - mse: 0.0057 - val_loss: 0.0052 - val_mse: 0.0052\n",
      "Epoch 38/100\n",
      "219/219 [==============================] - 0s 446us/step - loss: 0.0057 - mse: 0.0057 - val_loss: 0.0048 - val_mse: 0.0048\n",
      "Epoch 39/100\n",
      "219/219 [==============================] - 0s 479us/step - loss: 0.0056 - mse: 0.0056 - val_loss: 0.0047 - val_mse: 0.0047\n",
      "Epoch 40/100\n",
      "219/219 [==============================] - 0s 445us/step - loss: 0.0056 - mse: 0.0056 - val_loss: 0.0045 - val_mse: 0.0045\n",
      "Epoch 41/100\n",
      "219/219 [==============================] - 0s 440us/step - loss: 0.0055 - mse: 0.0055 - val_loss: 0.0057 - val_mse: 0.0057\n",
      "Epoch 42/100\n",
      "219/219 [==============================] - 0s 439us/step - loss: 0.0055 - mse: 0.0055 - val_loss: 0.0044 - val_mse: 0.0044\n",
      "Epoch 43/100\n",
      "219/219 [==============================] - 0s 429us/step - loss: 0.0055 - mse: 0.0055 - val_loss: 0.0049 - val_mse: 0.0049\n",
      "Epoch 44/100\n",
      "219/219 [==============================] - 0s 432us/step - loss: 0.0054 - mse: 0.0054 - val_loss: 0.0044 - val_mse: 0.0044\n",
      "Epoch 45/100\n",
      "219/219 [==============================] - 0s 433us/step - loss: 0.0054 - mse: 0.0054 - val_loss: 0.0051 - val_mse: 0.0051\n",
      "Epoch 46/100\n",
      "219/219 [==============================] - 0s 429us/step - loss: 0.0053 - mse: 0.0053 - val_loss: 0.0045 - val_mse: 0.0045\n",
      "Epoch 47/100\n",
      "219/219 [==============================] - 0s 445us/step - loss: 0.0053 - mse: 0.0053 - val_loss: 0.0044 - val_mse: 0.0044\n",
      "Epoch 48/100\n",
      "219/219 [==============================] - 0s 514us/step - loss: 0.0052 - mse: 0.0052 - val_loss: 0.0050 - val_mse: 0.0050\n",
      "Epoch 49/100\n",
      "219/219 [==============================] - 0s 438us/step - loss: 0.0052 - mse: 0.0052 - val_loss: 0.0048 - val_mse: 0.0048\n",
      "Epoch 50/100\n",
      "219/219 [==============================] - 0s 433us/step - loss: 0.0052 - mse: 0.0052 - val_loss: 0.0041 - val_mse: 0.0041\n",
      "Epoch 51/100\n",
      "219/219 [==============================] - 0s 435us/step - loss: 0.0051 - mse: 0.0051 - val_loss: 0.0043 - val_mse: 0.0043\n",
      "Epoch 52/100\n",
      "219/219 [==============================] - 0s 432us/step - loss: 0.0051 - mse: 0.0051 - val_loss: 0.0042 - val_mse: 0.0042\n",
      "Epoch 53/100\n",
      "219/219 [==============================] - 0s 441us/step - loss: 0.0051 - mse: 0.0051 - val_loss: 0.0041 - val_mse: 0.0041\n",
      "Epoch 54/100\n",
      "219/219 [==============================] - 0s 431us/step - loss: 0.0050 - mse: 0.0050 - val_loss: 0.0041 - val_mse: 0.0041\n",
      "Epoch 55/100\n",
      "219/219 [==============================] - 0s 457us/step - loss: 0.0050 - mse: 0.0050 - val_loss: 0.0043 - val_mse: 0.0043\n",
      "Epoch 56/100\n",
      "219/219 [==============================] - 0s 443us/step - loss: 0.0049 - mse: 0.0049 - val_loss: 0.0045 - val_mse: 0.0045\n",
      "Epoch 57/100\n",
      "219/219 [==============================] - 0s 456us/step - loss: 0.0050 - mse: 0.0050 - val_loss: 0.0040 - val_mse: 0.0040\n",
      "Epoch 58/100\n",
      "219/219 [==============================] - 0s 460us/step - loss: 0.0049 - mse: 0.0049 - val_loss: 0.0043 - val_mse: 0.0043\n",
      "Epoch 59/100\n",
      "219/219 [==============================] - 0s 454us/step - loss: 0.0049 - mse: 0.0049 - val_loss: 0.0043 - val_mse: 0.0043\n",
      "Epoch 60/100\n",
      "219/219 [==============================] - 0s 451us/step - loss: 0.0048 - mse: 0.0048 - val_loss: 0.0039 - val_mse: 0.0039\n",
      "Epoch 61/100\n",
      "219/219 [==============================] - 0s 458us/step - loss: 0.0048 - mse: 0.0048 - val_loss: 0.0050 - val_mse: 0.0050\n",
      "Epoch 62/100\n",
      "219/219 [==============================] - 0s 453us/step - loss: 0.0048 - mse: 0.0048 - val_loss: 0.0041 - val_mse: 0.0041\n",
      "Epoch 63/100\n",
      "219/219 [==============================] - 0s 537us/step - loss: 0.0048 - mse: 0.0048 - val_loss: 0.0038 - val_mse: 0.0038\n",
      "Epoch 64/100\n",
      "219/219 [==============================] - 0s 497us/step - loss: 0.0048 - mse: 0.0048 - val_loss: 0.0039 - val_mse: 0.0039\n",
      "Epoch 65/100\n",
      "219/219 [==============================] - 0s 446us/step - loss: 0.0047 - mse: 0.0047 - val_loss: 0.0042 - val_mse: 0.0042\n",
      "Epoch 66/100\n",
      "219/219 [==============================] - 0s 438us/step - loss: 0.0046 - mse: 0.0046 - val_loss: 0.0041 - val_mse: 0.0041\n",
      "Epoch 67/100\n"
     ]
    },
    {
     "name": "stdout",
     "output_type": "stream",
     "text": [
      "219/219 [==============================] - 0s 432us/step - loss: 0.0046 - mse: 0.0046 - val_loss: 0.0039 - val_mse: 0.0039\n",
      "Epoch 68/100\n",
      "219/219 [==============================] - 0s 476us/step - loss: 0.0047 - mse: 0.0047 - val_loss: 0.0038 - val_mse: 0.0038\n",
      "Epoch 69/100\n",
      "219/219 [==============================] - 0s 434us/step - loss: 0.0046 - mse: 0.0046 - val_loss: 0.0040 - val_mse: 0.0040\n",
      "Epoch 70/100\n",
      "219/219 [==============================] - 0s 430us/step - loss: 0.0046 - mse: 0.0046 - val_loss: 0.0042 - val_mse: 0.0042\n",
      "Epoch 71/100\n",
      "219/219 [==============================] - 0s 466us/step - loss: 0.0046 - mse: 0.0046 - val_loss: 0.0038 - val_mse: 0.0038\n",
      "Epoch 72/100\n",
      "219/219 [==============================] - 0s 460us/step - loss: 0.0045 - mse: 0.0045 - val_loss: 0.0045 - val_mse: 0.0045\n",
      "Epoch 73/100\n",
      "219/219 [==============================] - 0s 441us/step - loss: 0.0046 - mse: 0.0046 - val_loss: 0.0036 - val_mse: 0.0036\n",
      "Epoch 74/100\n",
      "219/219 [==============================] - 0s 431us/step - loss: 0.0045 - mse: 0.0045 - val_loss: 0.0039 - val_mse: 0.0039\n",
      "Epoch 75/100\n",
      "219/219 [==============================] - 0s 449us/step - loss: 0.0045 - mse: 0.0045 - val_loss: 0.0036 - val_mse: 0.0036\n",
      "Epoch 76/100\n",
      "219/219 [==============================] - 0s 439us/step - loss: 0.0045 - mse: 0.0045 - val_loss: 0.0040 - val_mse: 0.0040\n",
      "Epoch 77/100\n",
      "219/219 [==============================] - 0s 430us/step - loss: 0.0044 - mse: 0.0044 - val_loss: 0.0036 - val_mse: 0.0036\n",
      "Epoch 78/100\n",
      "219/219 [==============================] - 0s 428us/step - loss: 0.0044 - mse: 0.0044 - val_loss: 0.0038 - val_mse: 0.0038\n",
      "Epoch 79/100\n",
      "219/219 [==============================] - 0s 430us/step - loss: 0.0043 - mse: 0.0043 - val_loss: 0.0036 - val_mse: 0.0036\n",
      "Epoch 80/100\n",
      "219/219 [==============================] - 0s 475us/step - loss: 0.0043 - mse: 0.0043 - val_loss: 0.0034 - val_mse: 0.0034\n",
      "Epoch 81/100\n",
      "219/219 [==============================] - 0s 429us/step - loss: 0.0043 - mse: 0.0043 - val_loss: 0.0038 - val_mse: 0.0038\n",
      "Epoch 82/100\n",
      "219/219 [==============================] - 0s 431us/step - loss: 0.0043 - mse: 0.0043 - val_loss: 0.0036 - val_mse: 0.0036\n",
      "Epoch 83/100\n",
      "219/219 [==============================] - 0s 430us/step - loss: 0.0043 - mse: 0.0043 - val_loss: 0.0036 - val_mse: 0.0036\n",
      "Epoch 84/100\n",
      "219/219 [==============================] - 0s 430us/step - loss: 0.0043 - mse: 0.0043 - val_loss: 0.0036 - val_mse: 0.0036\n",
      "Epoch 85/100\n",
      "219/219 [==============================] - 0s 429us/step - loss: 0.0043 - mse: 0.0043 - val_loss: 0.0039 - val_mse: 0.0039\n",
      "Epoch 86/100\n",
      "219/219 [==============================] - 0s 441us/step - loss: 0.0042 - mse: 0.0042 - val_loss: 0.0039 - val_mse: 0.0039\n",
      "Epoch 87/100\n",
      "219/219 [==============================] - 0s 439us/step - loss: 0.0042 - mse: 0.0042 - val_loss: 0.0035 - val_mse: 0.0035\n",
      "Epoch 88/100\n",
      "219/219 [==============================] - 0s 421us/step - loss: 0.0042 - mse: 0.0042 - val_loss: 0.0036 - val_mse: 0.0036\n",
      "Epoch 89/100\n",
      "219/219 [==============================] - 0s 435us/step - loss: 0.0042 - mse: 0.0042 - val_loss: 0.0033 - val_mse: 0.0033\n",
      "Epoch 90/100\n",
      "219/219 [==============================] - 0s 437us/step - loss: 0.0041 - mse: 0.0041 - val_loss: 0.0035 - val_mse: 0.0035\n",
      "Epoch 91/100\n",
      "219/219 [==============================] - 0s 433us/step - loss: 0.0041 - mse: 0.0041 - val_loss: 0.0037 - val_mse: 0.0037\n",
      "Epoch 92/100\n",
      "219/219 [==============================] - 0s 459us/step - loss: 0.0041 - mse: 0.0041 - val_loss: 0.0036 - val_mse: 0.0036\n",
      "Epoch 93/100\n",
      "219/219 [==============================] - 0s 437us/step - loss: 0.0041 - mse: 0.0041 - val_loss: 0.0033 - val_mse: 0.0033\n",
      "Epoch 94/100\n",
      "219/219 [==============================] - 0s 443us/step - loss: 0.0041 - mse: 0.0041 - val_loss: 0.0035 - val_mse: 0.0035\n",
      "Epoch 95/100\n",
      "219/219 [==============================] - 0s 444us/step - loss: 0.0041 - mse: 0.0041 - val_loss: 0.0036 - val_mse: 0.0036\n",
      "Epoch 96/100\n",
      "219/219 [==============================] - 0s 527us/step - loss: 0.0041 - mse: 0.0041 - val_loss: 0.0042 - val_mse: 0.0042\n",
      "Epoch 97/100\n",
      "219/219 [==============================] - 0s 437us/step - loss: 0.0040 - mse: 0.0040 - val_loss: 0.0037 - val_mse: 0.0037\n",
      "Epoch 98/100\n",
      "219/219 [==============================] - 0s 431us/step - loss: 0.0040 - mse: 0.0040 - val_loss: 0.0035 - val_mse: 0.0035\n",
      "Epoch 99/100\n",
      "219/219 [==============================] - 0s 431us/step - loss: 0.0040 - mse: 0.0040 - val_loss: 0.0033 - val_mse: 0.0033\n",
      "Epoch 100/100\n",
      "219/219 [==============================] - 0s 431us/step - loss: 0.0040 - mse: 0.0040 - val_loss: 0.0034 - val_mse: 0.0034\n"
     ]
    },
    {
     "data": {
      "text/plain": [
       "<keras.callbacks.History at 0x7ff504e75610>"
      ]
     },
     "execution_count": 69,
     "metadata": {},
     "output_type": "execute_result"
    }
   ],
   "source": [
    "model.fit(X_train,y_train,batch_size=32,epochs=100,initial_epoch=6,validation_data=(X_valid,y_valid))"
   ]
  },
  {
   "cell_type": "code",
   "execution_count": 70,
   "id": "a7d7d0ee",
   "metadata": {},
   "outputs": [
    {
     "name": "stdout",
     "output_type": "stream",
     "text": [
      "28/28 [==============================] - 0s 299us/step\n",
      "The mean squared error is 0.005074156448161975\n",
      "The mean absolute error is 0.04542738274494408\n",
      "The root mean sqaured error is 0.07123311342460033\n"
     ]
    }
   ],
   "source": [
    "y_test_pred = model.predict(X_test)\n",
    "MSE = metrics.mean_squared_error(y_test_pred, y_test)\n",
    "MAE =  metrics.mean_absolute_error(y_test_pred, y_test)\n",
    "RMSE = MSE**0.5\n",
    "print(f\"The mean squared error is {MSE}\")\n",
    "print(f\"The mean absolute error is {MAE}\")\n",
    "print(f\"The root mean sqaured error is {RMSE}\")"
   ]
  },
  {
   "cell_type": "code",
   "execution_count": null,
   "id": "10b59220",
   "metadata": {},
   "outputs": [],
   "source": []
  }
 ],
 "metadata": {
  "kernelspec": {
   "display_name": "Python 3 (ipykernel)",
   "language": "python",
   "name": "python3"
  },
  "language_info": {
   "codemirror_mode": {
    "name": "ipython",
    "version": 3
   },
   "file_extension": ".py",
   "mimetype": "text/x-python",
   "name": "python",
   "nbconvert_exporter": "python",
   "pygments_lexer": "ipython3",
   "version": "3.9.13"
  }
 },
 "nbformat": 4,
 "nbformat_minor": 5
}
