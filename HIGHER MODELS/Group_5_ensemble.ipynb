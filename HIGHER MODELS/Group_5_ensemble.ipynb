{
 "cells": [
  {
   "cell_type": "code",
   "execution_count": 1,
   "id": "2f2224d7",
   "metadata": {},
   "outputs": [],
   "source": [
    "import pandas as pd\n",
    "import numpy as np\n",
    "import matplotlib.pyplot as plt\n",
    "import seaborn as sns\n",
    "import pickle\n",
    "import warnings\n",
    "warnings.filterwarnings('ignore')"
   ]
  },
  {
   "cell_type": "code",
   "execution_count": 2,
   "id": "62290a1c",
   "metadata": {},
   "outputs": [],
   "source": [
    "from sklearn.model_selection import train_test_split\n",
    "from sklearn import metrics\n",
    "from sklearn.metrics import r2_score\n",
    "from sklearn.metrics import mean_squared_error\n",
    "from sklearn.metrics import mean_absolute_error"
   ]
  },
  {
   "cell_type": "code",
   "execution_count": 3,
   "id": "13142633",
   "metadata": {},
   "outputs": [
    {
     "data": {
      "text/html": [
       "<div>\n",
       "<style scoped>\n",
       "    .dataframe tbody tr th:only-of-type {\n",
       "        vertical-align: middle;\n",
       "    }\n",
       "\n",
       "    .dataframe tbody tr th {\n",
       "        vertical-align: top;\n",
       "    }\n",
       "\n",
       "    .dataframe thead th {\n",
       "        text-align: right;\n",
       "    }\n",
       "</style>\n",
       "<table border=\"1\" class=\"dataframe\">\n",
       "  <thead>\n",
       "    <tr style=\"text-align: right;\">\n",
       "      <th></th>\n",
       "      <th>Unnamed: 0</th>\n",
       "      <th>Rented Bike Count</th>\n",
       "      <th>Hour</th>\n",
       "      <th>Temperature(C)</th>\n",
       "      <th>Humidity(%)</th>\n",
       "      <th>Wind speed (m/s)</th>\n",
       "      <th>Visibility (10m)</th>\n",
       "      <th>Solar Radiation (MJ/m2)</th>\n",
       "      <th>Rainfall(mm)</th>\n",
       "      <th>Snowfall (cm)</th>\n",
       "      <th>is_Winter</th>\n",
       "      <th>is_Spring</th>\n",
       "      <th>is_Summer</th>\n",
       "      <th>is_Autumn</th>\n",
       "      <th>is_Holiday</th>\n",
       "      <th>is_Functioning_day</th>\n",
       "      <th>Month</th>\n",
       "      <th>Day</th>\n",
       "      <th>int_date</th>\n",
       "    </tr>\n",
       "  </thead>\n",
       "  <tbody>\n",
       "    <tr>\n",
       "      <th>0</th>\n",
       "      <td>0</td>\n",
       "      <td>254</td>\n",
       "      <td>0</td>\n",
       "      <td>-5.2</td>\n",
       "      <td>37</td>\n",
       "      <td>2.2</td>\n",
       "      <td>2000</td>\n",
       "      <td>0.0</td>\n",
       "      <td>0.0</td>\n",
       "      <td>0.0</td>\n",
       "      <td>True</td>\n",
       "      <td>False</td>\n",
       "      <td>False</td>\n",
       "      <td>False</td>\n",
       "      <td>False</td>\n",
       "      <td>True</td>\n",
       "      <td>12.0</td>\n",
       "      <td>0</td>\n",
       "      <td>43068.0</td>\n",
       "    </tr>\n",
       "    <tr>\n",
       "      <th>1</th>\n",
       "      <td>1</td>\n",
       "      <td>204</td>\n",
       "      <td>1</td>\n",
       "      <td>-5.5</td>\n",
       "      <td>38</td>\n",
       "      <td>0.8</td>\n",
       "      <td>2000</td>\n",
       "      <td>0.0</td>\n",
       "      <td>0.0</td>\n",
       "      <td>0.0</td>\n",
       "      <td>True</td>\n",
       "      <td>False</td>\n",
       "      <td>False</td>\n",
       "      <td>False</td>\n",
       "      <td>False</td>\n",
       "      <td>True</td>\n",
       "      <td>12.0</td>\n",
       "      <td>0</td>\n",
       "      <td>43068.0</td>\n",
       "    </tr>\n",
       "    <tr>\n",
       "      <th>2</th>\n",
       "      <td>2</td>\n",
       "      <td>173</td>\n",
       "      <td>2</td>\n",
       "      <td>-6.0</td>\n",
       "      <td>39</td>\n",
       "      <td>1.0</td>\n",
       "      <td>2000</td>\n",
       "      <td>0.0</td>\n",
       "      <td>0.0</td>\n",
       "      <td>0.0</td>\n",
       "      <td>True</td>\n",
       "      <td>False</td>\n",
       "      <td>False</td>\n",
       "      <td>False</td>\n",
       "      <td>False</td>\n",
       "      <td>True</td>\n",
       "      <td>12.0</td>\n",
       "      <td>0</td>\n",
       "      <td>43068.0</td>\n",
       "    </tr>\n",
       "    <tr>\n",
       "      <th>3</th>\n",
       "      <td>3</td>\n",
       "      <td>107</td>\n",
       "      <td>3</td>\n",
       "      <td>-6.2</td>\n",
       "      <td>40</td>\n",
       "      <td>0.9</td>\n",
       "      <td>2000</td>\n",
       "      <td>0.0</td>\n",
       "      <td>0.0</td>\n",
       "      <td>0.0</td>\n",
       "      <td>True</td>\n",
       "      <td>False</td>\n",
       "      <td>False</td>\n",
       "      <td>False</td>\n",
       "      <td>False</td>\n",
       "      <td>True</td>\n",
       "      <td>12.0</td>\n",
       "      <td>0</td>\n",
       "      <td>43068.0</td>\n",
       "    </tr>\n",
       "    <tr>\n",
       "      <th>4</th>\n",
       "      <td>4</td>\n",
       "      <td>78</td>\n",
       "      <td>4</td>\n",
       "      <td>-6.0</td>\n",
       "      <td>36</td>\n",
       "      <td>2.3</td>\n",
       "      <td>2000</td>\n",
       "      <td>0.0</td>\n",
       "      <td>0.0</td>\n",
       "      <td>0.0</td>\n",
       "      <td>True</td>\n",
       "      <td>False</td>\n",
       "      <td>False</td>\n",
       "      <td>False</td>\n",
       "      <td>False</td>\n",
       "      <td>True</td>\n",
       "      <td>12.0</td>\n",
       "      <td>0</td>\n",
       "      <td>43068.0</td>\n",
       "    </tr>\n",
       "  </tbody>\n",
       "</table>\n",
       "</div>"
      ],
      "text/plain": [
       "   Unnamed: 0  Rented Bike Count  Hour  Temperature(C)  Humidity(%)  \\\n",
       "0           0                254     0            -5.2           37   \n",
       "1           1                204     1            -5.5           38   \n",
       "2           2                173     2            -6.0           39   \n",
       "3           3                107     3            -6.2           40   \n",
       "4           4                 78     4            -6.0           36   \n",
       "\n",
       "   Wind speed (m/s)  Visibility (10m)  Solar Radiation (MJ/m2)  Rainfall(mm)  \\\n",
       "0               2.2              2000                      0.0           0.0   \n",
       "1               0.8              2000                      0.0           0.0   \n",
       "2               1.0              2000                      0.0           0.0   \n",
       "3               0.9              2000                      0.0           0.0   \n",
       "4               2.3              2000                      0.0           0.0   \n",
       "\n",
       "   Snowfall (cm)  is_Winter  is_Spring  is_Summer  is_Autumn  is_Holiday  \\\n",
       "0            0.0       True      False      False      False       False   \n",
       "1            0.0       True      False      False      False       False   \n",
       "2            0.0       True      False      False      False       False   \n",
       "3            0.0       True      False      False      False       False   \n",
       "4            0.0       True      False      False      False       False   \n",
       "\n",
       "   is_Functioning_day  Month  Day  int_date  \n",
       "0                True   12.0    0   43068.0  \n",
       "1                True   12.0    0   43068.0  \n",
       "2                True   12.0    0   43068.0  \n",
       "3                True   12.0    0   43068.0  \n",
       "4                True   12.0    0   43068.0  "
      ]
     },
     "execution_count": 3,
     "metadata": {},
     "output_type": "execute_result"
    }
   ],
   "source": [
    "df = pd.read_csv(\"Group_5_data_cleaned.csv\")\n",
    "df.head()"
   ]
  },
  {
   "cell_type": "code",
   "execution_count": 4,
   "id": "179d03f0",
   "metadata": {},
   "outputs": [],
   "source": [
    "df = df.drop(['Unnamed: 0'],axis=1)"
   ]
  },
  {
   "cell_type": "code",
   "execution_count": 5,
   "id": "276f5b07",
   "metadata": {},
   "outputs": [],
   "source": [
    "X = df.drop('Rented Bike Count',axis=1)\n",
    "y = df['Rented Bike Count']\n",
    "\n",
    "from sklearn.preprocessing import MinMaxScaler\n",
    "from sklearn.preprocessing import StandardScaler, MinMaxScaler, RobustScaler \n",
    "from sklearn.metrics import r2_score\n",
    "\n",
    "scaler = MinMaxScaler()\n",
    "model=scaler.fit(X)\n",
    "scaled_X=model.transform(X)\n",
    "\n",
    "y = y.values.reshape(-1, 1)\n",
    "model1=scaler.fit(y)\n",
    "scaled_y=model1.transform(y)"
   ]
  },
  {
   "cell_type": "code",
   "execution_count": 6,
   "id": "c1b15036",
   "metadata": {},
   "outputs": [],
   "source": [
    "from sklearn.model_selection import train_test_split\n",
    "from sklearn import metrics\n",
    "#splitting data into train,validation and test datasets\n",
    "X_train, X_rem, y_train, y_rem = train_test_split(scaled_X,scaled_y, train_size=0.80,random_state=1111)\n",
    "X_valid, X_test, y_valid, y_test = train_test_split(X_rem,y_rem, test_size=0.5,random_state=1111)"
   ]
  },
  {
   "cell_type": "code",
   "execution_count": 7,
   "id": "97a0ca00",
   "metadata": {},
   "outputs": [
    {
     "name": "stdout",
     "output_type": "stream",
     "text": [
      "(7008, 17)\n",
      "(7008, 1)\n",
      "(876, 17)\n",
      "(876, 1)\n",
      "(876, 17)\n",
      "(876, 1)\n"
     ]
    },
    {
     "data": {
      "text/plain": [
       "(None, None)"
      ]
     },
     "execution_count": 7,
     "metadata": {},
     "output_type": "execute_result"
    }
   ],
   "source": [
    "# shapes of train,validation and  test split\n",
    "print(X_train.shape), print(y_train.shape)\n",
    "print(X_valid.shape), print(y_valid.shape)\n",
    "print(X_test.shape), print(y_test.shape)"
   ]
  },
  {
   "cell_type": "markdown",
   "id": "08d50747",
   "metadata": {},
   "source": [
    "# Single models"
   ]
  },
  {
   "cell_type": "markdown",
   "id": "83da900f",
   "metadata": {},
   "source": [
    "# Linear Regression best model"
   ]
  },
  {
   "cell_type": "code",
   "execution_count": 8,
   "id": "ec60da2b",
   "metadata": {},
   "outputs": [
    {
     "name": "stdout",
     "output_type": "stream",
     "text": [
      "The mean squared error is 0.015124194927750028\n",
      "The mean absolute error is 0.09319428134961334\n",
      "The root mean squared error is 0.12298046563479108\n"
     ]
    }
   ],
   "source": [
    "from sklearn.linear_model import LinearRegression\n",
    "best_linear = LinearRegression(copy_X= True, fit_intercept= True)\n",
    "best_linear.fit(X_train,y_train)\n",
    "\n",
    "y_test_pred = best_linear.predict(X_test)\n",
    "MSE = mean_squared_error(y_test, y_test_pred)\n",
    "MAE =  mean_absolute_error(y_test, y_test_pred)\n",
    "RMSE = MSE**0.5\n",
    "print(f\"The mean squared error is {MSE}\")\n",
    "print(f\"The mean absolute error is {MAE}\")\n",
    "print(f\"The root mean squared error is {RMSE}\")"
   ]
  },
  {
   "cell_type": "markdown",
   "id": "8592362c",
   "metadata": {},
   "source": [
    "# KNN best model"
   ]
  },
  {
   "cell_type": "code",
   "execution_count": 9,
   "id": "5db09c5d",
   "metadata": {},
   "outputs": [
    {
     "name": "stdout",
     "output_type": "stream",
     "text": [
      "The mean squared error is 0.005029254854695782\n",
      "The mean absolute error is 0.04175573171433902\n",
      "The root mean squared error is 0.07091723947458603\n"
     ]
    }
   ],
   "source": [
    "from sklearn.neighbors import KNeighborsRegressor\n",
    "best_knn = KNeighborsRegressor(weights= 'distance', p= 1, n_neighbors= 5)\n",
    "best_knn.fit(X_train,y_train)\n",
    "\n",
    "y_test_pred = best_knn.predict(X_test)\n",
    "MSE = mean_squared_error(y_test, y_test_pred)\n",
    "MAE =  mean_absolute_error(y_test, y_test_pred)\n",
    "RMSE = MSE**0.5\n",
    "print(f\"The mean squared error is {MSE}\")\n",
    "print(f\"The mean absolute error is {MAE}\")\n",
    "print(f\"The root mean squared error is {RMSE}\")"
   ]
  },
  {
   "cell_type": "markdown",
   "id": "77c8458f",
   "metadata": {},
   "source": [
    "# Decision Tree best model"
   ]
  },
  {
   "cell_type": "code",
   "execution_count": 10,
   "id": "eb3c563a",
   "metadata": {},
   "outputs": [
    {
     "name": "stdout",
     "output_type": "stream",
     "text": [
      "The mean squared error is 0.0043683208138366935\n",
      "The mean absolute error is 0.038437627254980414\n",
      "The root mean squared error is 0.06609327358995538\n"
     ]
    }
   ],
   "source": [
    "from sklearn.tree import DecisionTreeRegressor\n",
    "best_dtr = DecisionTreeRegressor(splitter='best', min_samples_split= 4, min_samples_leaf= 5, \n",
    "                                 max_features= 'auto', max_depth= 12)\n",
    "best_dtr.fit(X_train,y_train)\n",
    "\n",
    "y_test_pred = best_dtr.predict(X_test)\n",
    "MSE = mean_squared_error(y_test, y_test_pred)\n",
    "MAE =  mean_absolute_error(y_test, y_test_pred)\n",
    "RMSE = MSE**0.5\n",
    "print(f\"The mean squared error is {MSE}\")\n",
    "print(f\"The mean absolute error is {MAE}\")\n",
    "print(f\"The root mean squared error is {RMSE}\")"
   ]
  },
  {
   "cell_type": "markdown",
   "id": "7be1048f",
   "metadata": {},
   "source": [
    "# Random Forest best model"
   ]
  },
  {
   "cell_type": "code",
   "execution_count": 11,
   "id": "074304ea",
   "metadata": {},
   "outputs": [
    {
     "name": "stdout",
     "output_type": "stream",
     "text": [
      "The mean squared error is 0.003023766933427222\n",
      "The mean absolute error is 0.033869126113723454\n",
      "The root mean squared error is 0.05498878916131198\n"
     ]
    }
   ],
   "source": [
    "from sklearn.ensemble import RandomForestRegressor\n",
    "best_rf = RandomForestRegressor(n_estimators= 300, max_features= 'log2', max_depth= 22,bootstrap=True)\n",
    "best_rf.fit(X_train,y_train)\n",
    "\n",
    "y_test_pred = best_rf.predict(X_test)\n",
    "MSE = mean_squared_error(y_test, y_test_pred)\n",
    "MAE =  mean_absolute_error(y_test, y_test_pred)\n",
    "RMSE = MSE**0.5\n",
    "print(f\"The mean squared error is {MSE}\")\n",
    "print(f\"The mean absolute error is {MAE}\")\n",
    "print(f\"The root mean squared error is {RMSE}\")"
   ]
  },
  {
   "cell_type": "markdown",
   "id": "35bdad09",
   "metadata": {},
   "source": [
    "# SVM with linear kernel best model"
   ]
  },
  {
   "cell_type": "code",
   "execution_count": 12,
   "id": "3c1eb81d",
   "metadata": {},
   "outputs": [
    {
     "name": "stdout",
     "output_type": "stream",
     "text": [
      "The mean squared error is 0.015256137740196695\n",
      "The mean absolute error is 0.09285999321283496\n",
      "The root mean squared error is 0.12351573883597465\n"
     ]
    }
   ],
   "source": [
    "from sklearn.svm import SVR\n",
    "best_svm_linear = SVR(kernel=\"linear\",C=1,gamma=1)\n",
    "best_svm_linear.fit(X_train,y_train)\n",
    "\n",
    "y_test_pred = best_svm_linear.predict(X_test)\n",
    "MSE = mean_squared_error(y_test, y_test_pred)\n",
    "MAE =  mean_absolute_error(y_test, y_test_pred)\n",
    "RMSE = MSE**0.5\n",
    "print(f\"The mean squared error is {MSE}\")\n",
    "print(f\"The mean absolute error is {MAE}\")\n",
    "print(f\"The root mean squared error is {RMSE}\")"
   ]
  },
  {
   "cell_type": "markdown",
   "id": "3230b029",
   "metadata": {},
   "source": [
    "# SVM with non-linear kernel best model"
   ]
  },
  {
   "cell_type": "code",
   "execution_count": 13,
   "id": "db676922",
   "metadata": {},
   "outputs": [
    {
     "name": "stdout",
     "output_type": "stream",
     "text": [
      "The mean squared error is 0.015247701447414731\n",
      "The mean absolute error is 0.09283853954732617\n",
      "The root mean squared error is 0.12348158343418962\n"
     ]
    }
   ],
   "source": [
    "best_svm_non_linear = SVR(kernel=\"poly\",C=10,degree=1)\n",
    "best_svm_non_linear.fit(X_train,y_train)\n",
    "\n",
    "y_test_pred = best_svm_non_linear.predict(X_test)\n",
    "MSE = mean_squared_error(y_test, y_test_pred)\n",
    "MAE =  mean_absolute_error(y_test, y_test_pred)\n",
    "RMSE = MSE**0.5\n",
    "print(f\"The mean squared error is {MSE}\")\n",
    "print(f\"The mean absolute error is {MAE}\")\n",
    "print(f\"The root mean squared error is {RMSE}\")"
   ]
  },
  {
   "cell_type": "markdown",
   "id": "ce08be96",
   "metadata": {},
   "source": [
    "# Ensembling the models and implemeting using Voting Regressor"
   ]
  },
  {
   "cell_type": "code",
   "execution_count": 14,
   "id": "b3d028f9",
   "metadata": {},
   "outputs": [],
   "source": [
    "model_1 = LinearRegression()\n",
    "\n",
    "model_2 = KNeighborsRegressor()\n",
    "\n",
    "model_3 = DecisionTreeRegressor()\n",
    "\n",
    "model_4 = RandomForestRegressor()\n",
    "\n",
    "model_5 = SVR(kernel=\"linear\")\n",
    "\n",
    "model_6 = SVR(kernel=\"poly\")\n",
    "\n",
    "model_7 = LinearRegression(copy_X= True, fit_intercept= True)\n",
    "\n",
    "model_8 = KNeighborsRegressor(weights= 'distance', p= 1, n_neighbors= 5)\n",
    "\n",
    "model_9 = DecisionTreeRegressor(splitter='best', min_samples_split= 4, min_samples_leaf= 5, \n",
    "                                 max_features= 'auto', max_depth= 12)\n",
    "\n",
    "model_10 = RandomForestRegressor(n_estimators= 300, max_features= 'log2', max_depth= 22,bootstrap=True)\n",
    "\n",
    "model_11 = SVR(kernel=\"linear\",C=1,gamma=1)\n",
    "\n",
    "model_12 = SVR(kernel=\"poly\",C=10,degree=1)"
   ]
  },
  {
   "cell_type": "code",
   "execution_count": 15,
   "id": "963d0c69",
   "metadata": {},
   "outputs": [],
   "source": [
    "# Ensemble regression\n",
    "from sklearn.ensemble import VotingRegressor\n",
    "\n",
    "en_reg = VotingRegressor(estimators=[('lr', model_1),('knn', model_2),('dr', model_3),('rf', model_4),\n",
    "                                     ('svr',model_5),('svnr',model_6),('lr_1',model_7),('knn_1',model_8),\n",
    "                                     ('dr_1',model_9),('rf_1',model_10),('svr_1',model_11),('svr_2',model_12)])\n",
    "en_reg = en_reg.fit(X_train,y_train)\n",
    "\n"
   ]
  },
  {
   "cell_type": "code",
   "execution_count": 16,
   "id": "44a944d9",
   "metadata": {},
   "outputs": [
    {
     "data": {
      "text/plain": [
       "0.8297943212079936"
      ]
     },
     "execution_count": 16,
     "metadata": {},
     "output_type": "execute_result"
    }
   ],
   "source": [
    "en_reg.score(X_test, y_test)"
   ]
  },
  {
   "cell_type": "code",
   "execution_count": 17,
   "id": "232a095e",
   "metadata": {},
   "outputs": [
    {
     "name": "stdout",
     "output_type": "stream",
     "text": [
      "The mean squared error is 0.004587196411110085\n",
      "The mean absolute error is 0.049096782957937006\n",
      "The root mean sqaured error is 0.06772884474956062\n"
     ]
    }
   ],
   "source": [
    "# Ensemble model on validation data\n",
    "# best model on validation data\n",
    "y_valid_pred = en_reg.predict(X_valid)\n",
    "MSE = mean_squared_error(y_valid, y_valid_pred)\n",
    "MAE =  mean_absolute_error(y_valid, y_valid_pred)\n",
    "\n",
    "RMSE = MSE**0.5\n",
    "print(f\"The mean squared error is {MSE}\")\n",
    "print(f\"The mean absolute error is {MAE}\")\n",
    "print(f\"The root mean sqaured error is {RMSE}\")\n"
   ]
  },
  {
   "cell_type": "code",
   "execution_count": 18,
   "id": "ecb8a61c",
   "metadata": {},
   "outputs": [
    {
     "name": "stdout",
     "output_type": "stream",
     "text": [
      "The mean squared error is 0.005839647092381631\n",
      "The mean absolute error is 0.05433304173057253\n",
      "The root mean sqaured error is 0.07641758365966324\n"
     ]
    }
   ],
   "source": [
    "# Ensemble model on test data\n",
    "y_test_pred = en_reg.predict(X_test)\n",
    "MSE = mean_squared_error(y_test_pred, y_test)\n",
    "MAE =  mean_absolute_error(y_test_pred, y_test)\n",
    "RMSE = MSE**0.5\n",
    "print(f\"The mean squared error is {MSE}\")\n",
    "print(f\"The mean absolute error is {MAE}\")\n",
    "print(f\"The root mean sqaured error is {RMSE}\")"
   ]
  },
  {
   "cell_type": "code",
   "execution_count": 19,
   "id": "eb08c2ea",
   "metadata": {},
   "outputs": [
    {
     "name": "stdout",
     "output_type": "stream",
     "text": [
      "+-------------------+------------+-----------+-----------+------------+\n",
      "| Model             |        MSE |      RMSE |       MAE |   R2_Score |\n",
      "|-------------------+------------+-----------+-----------+------------|\n",
      "| Linear Regression | 0.0151242  | 0.12298   | 0.0931943 |   0.559182 |\n",
      "| KNN               | 0.00502925 | 0.0709172 | 0.0417557 |   0.853414 |\n",
      "| Decision Tree     | 0.00436832 | 0.0660933 | 0.0384376 |   0.872678 |\n",
      "| Random Forest     | 0.00302377 | 0.0549888 | 0.0338691 |   0.911868 |\n",
      "| SVM Linear        | 0.0152561  | 0.123516  | 0.09286   |   0.555336 |\n",
      "| SVM Non Linear    | 0.0152477  | 0.123482  | 0.0928385 |   0.555582 |\n",
      "| Ensemble model    | 0.00583965 | 0.0764176 | 0.054333  |   0.829794 |\n",
      "+-------------------+------------+-----------+-----------+------------+\n"
     ]
    }
   ],
   "source": [
    "from tabulate import tabulate\n",
    "\n",
    "def metrics(name,x_train,y_test,pred):\n",
    "    MSE=mean_squared_error(y_test,pred)\n",
    "    RMSE=np.sqrt(mean_squared_error(y_test,pred))\n",
    "    MAE = mean_absolute_error(y_test,pred)\n",
    "    R2_Score=r2_score(y_test,pred)\n",
    "    return [name,MSE,RMSE,MAE,R2_Score]\n",
    "\n",
    "\n",
    "header = [\"Model\", \"MSE\",\"RMSE\",\"MAE\",\"R2_Score\"]\n",
    "data=[]\n",
    "data.append(metrics(\"Linear Regression\",X_train,y_test,best_linear.predict(X_test)))\n",
    "data.append(metrics(\"KNN\",X_train,y_test,best_knn.predict(X_test)))\n",
    "data.append(metrics(\"Decision Tree\",X_train,y_test,best_dtr.predict(X_test)))\n",
    "data.append(metrics(\"Random Forest\",X_train,y_test,best_rf.predict(X_test)))\n",
    "data.append(metrics(\"SVM Linear\",X_train,y_test,best_svm_linear.predict(X_test)))\n",
    "data.append(metrics(\"SVM Non Linear\",X_train,y_test,best_svm_non_linear.predict(X_test)))\n",
    "data.append(metrics(\"Ensemble model\",X_train,y_test,en_reg.predict(X_test)))\n",
    "\n",
    "print(tabulate(data, headers=header, tablefmt=\"psql\"))"
   ]
  },
  {
   "cell_type": "code",
   "execution_count": null,
   "id": "0387af89",
   "metadata": {},
   "outputs": [],
   "source": []
  }
 ],
 "metadata": {
  "kernelspec": {
   "display_name": "Python 3 (ipykernel)",
   "language": "python",
   "name": "python3"
  },
  "language_info": {
   "codemirror_mode": {
    "name": "ipython",
    "version": 3
   },
   "file_extension": ".py",
   "mimetype": "text/x-python",
   "name": "python",
   "nbconvert_exporter": "python",
   "pygments_lexer": "ipython3",
   "version": "3.9.13"
  }
 },
 "nbformat": 4,
 "nbformat_minor": 5
}
