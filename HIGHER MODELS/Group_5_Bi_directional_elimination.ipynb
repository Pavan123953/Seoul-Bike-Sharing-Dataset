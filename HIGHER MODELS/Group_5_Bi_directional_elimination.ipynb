{
 "cells": [
  {
   "cell_type": "code",
   "execution_count": 1,
   "id": "b5b40a90",
   "metadata": {},
   "outputs": [],
   "source": [
    "import numpy as np\n",
    "import pandas as pd\n",
    "import matplotlib.pyplot as plt\n",
    "import seaborn as sns\n",
    "import pickle\n",
    "from sklearn.model_selection import train_test_split\n",
    "from sklearn import metrics\n",
    "import warnings\n",
    "warnings.filterwarnings('ignore')"
   ]
  },
  {
   "cell_type": "code",
   "execution_count": 2,
   "id": "b4bf1d0f",
   "metadata": {},
   "outputs": [
    {
     "data": {
      "text/html": [
       "<div>\n",
       "<style scoped>\n",
       "    .dataframe tbody tr th:only-of-type {\n",
       "        vertical-align: middle;\n",
       "    }\n",
       "\n",
       "    .dataframe tbody tr th {\n",
       "        vertical-align: top;\n",
       "    }\n",
       "\n",
       "    .dataframe thead th {\n",
       "        text-align: right;\n",
       "    }\n",
       "</style>\n",
       "<table border=\"1\" class=\"dataframe\">\n",
       "  <thead>\n",
       "    <tr style=\"text-align: right;\">\n",
       "      <th></th>\n",
       "      <th>Unnamed: 0</th>\n",
       "      <th>Rented Bike Count</th>\n",
       "      <th>Hour</th>\n",
       "      <th>Temperature(C)</th>\n",
       "      <th>Humidity(%)</th>\n",
       "      <th>Wind speed (m/s)</th>\n",
       "      <th>Visibility (10m)</th>\n",
       "      <th>Solar Radiation (MJ/m2)</th>\n",
       "      <th>Rainfall(mm)</th>\n",
       "      <th>Snowfall (cm)</th>\n",
       "      <th>is_Winter</th>\n",
       "      <th>is_Spring</th>\n",
       "      <th>is_Summer</th>\n",
       "      <th>is_Autumn</th>\n",
       "      <th>is_Holiday</th>\n",
       "      <th>is_Functioning_day</th>\n",
       "      <th>Month</th>\n",
       "      <th>Day</th>\n",
       "      <th>int_date</th>\n",
       "    </tr>\n",
       "  </thead>\n",
       "  <tbody>\n",
       "    <tr>\n",
       "      <th>0</th>\n",
       "      <td>0</td>\n",
       "      <td>254</td>\n",
       "      <td>0</td>\n",
       "      <td>-5.2</td>\n",
       "      <td>37</td>\n",
       "      <td>2.2</td>\n",
       "      <td>2000</td>\n",
       "      <td>0.0</td>\n",
       "      <td>0.0</td>\n",
       "      <td>0.0</td>\n",
       "      <td>True</td>\n",
       "      <td>False</td>\n",
       "      <td>False</td>\n",
       "      <td>False</td>\n",
       "      <td>False</td>\n",
       "      <td>True</td>\n",
       "      <td>12.0</td>\n",
       "      <td>0</td>\n",
       "      <td>43068.0</td>\n",
       "    </tr>\n",
       "    <tr>\n",
       "      <th>1</th>\n",
       "      <td>1</td>\n",
       "      <td>204</td>\n",
       "      <td>1</td>\n",
       "      <td>-5.5</td>\n",
       "      <td>38</td>\n",
       "      <td>0.8</td>\n",
       "      <td>2000</td>\n",
       "      <td>0.0</td>\n",
       "      <td>0.0</td>\n",
       "      <td>0.0</td>\n",
       "      <td>True</td>\n",
       "      <td>False</td>\n",
       "      <td>False</td>\n",
       "      <td>False</td>\n",
       "      <td>False</td>\n",
       "      <td>True</td>\n",
       "      <td>12.0</td>\n",
       "      <td>0</td>\n",
       "      <td>43068.0</td>\n",
       "    </tr>\n",
       "    <tr>\n",
       "      <th>2</th>\n",
       "      <td>2</td>\n",
       "      <td>173</td>\n",
       "      <td>2</td>\n",
       "      <td>-6.0</td>\n",
       "      <td>39</td>\n",
       "      <td>1.0</td>\n",
       "      <td>2000</td>\n",
       "      <td>0.0</td>\n",
       "      <td>0.0</td>\n",
       "      <td>0.0</td>\n",
       "      <td>True</td>\n",
       "      <td>False</td>\n",
       "      <td>False</td>\n",
       "      <td>False</td>\n",
       "      <td>False</td>\n",
       "      <td>True</td>\n",
       "      <td>12.0</td>\n",
       "      <td>0</td>\n",
       "      <td>43068.0</td>\n",
       "    </tr>\n",
       "    <tr>\n",
       "      <th>3</th>\n",
       "      <td>3</td>\n",
       "      <td>107</td>\n",
       "      <td>3</td>\n",
       "      <td>-6.2</td>\n",
       "      <td>40</td>\n",
       "      <td>0.9</td>\n",
       "      <td>2000</td>\n",
       "      <td>0.0</td>\n",
       "      <td>0.0</td>\n",
       "      <td>0.0</td>\n",
       "      <td>True</td>\n",
       "      <td>False</td>\n",
       "      <td>False</td>\n",
       "      <td>False</td>\n",
       "      <td>False</td>\n",
       "      <td>True</td>\n",
       "      <td>12.0</td>\n",
       "      <td>0</td>\n",
       "      <td>43068.0</td>\n",
       "    </tr>\n",
       "    <tr>\n",
       "      <th>4</th>\n",
       "      <td>4</td>\n",
       "      <td>78</td>\n",
       "      <td>4</td>\n",
       "      <td>-6.0</td>\n",
       "      <td>36</td>\n",
       "      <td>2.3</td>\n",
       "      <td>2000</td>\n",
       "      <td>0.0</td>\n",
       "      <td>0.0</td>\n",
       "      <td>0.0</td>\n",
       "      <td>True</td>\n",
       "      <td>False</td>\n",
       "      <td>False</td>\n",
       "      <td>False</td>\n",
       "      <td>False</td>\n",
       "      <td>True</td>\n",
       "      <td>12.0</td>\n",
       "      <td>0</td>\n",
       "      <td>43068.0</td>\n",
       "    </tr>\n",
       "  </tbody>\n",
       "</table>\n",
       "</div>"
      ],
      "text/plain": [
       "   Unnamed: 0  Rented Bike Count  Hour  Temperature(C)  Humidity(%)  \\\n",
       "0           0                254     0            -5.2           37   \n",
       "1           1                204     1            -5.5           38   \n",
       "2           2                173     2            -6.0           39   \n",
       "3           3                107     3            -6.2           40   \n",
       "4           4                 78     4            -6.0           36   \n",
       "\n",
       "   Wind speed (m/s)  Visibility (10m)  Solar Radiation (MJ/m2)  Rainfall(mm)  \\\n",
       "0               2.2              2000                      0.0           0.0   \n",
       "1               0.8              2000                      0.0           0.0   \n",
       "2               1.0              2000                      0.0           0.0   \n",
       "3               0.9              2000                      0.0           0.0   \n",
       "4               2.3              2000                      0.0           0.0   \n",
       "\n",
       "   Snowfall (cm)  is_Winter  is_Spring  is_Summer  is_Autumn  is_Holiday  \\\n",
       "0            0.0       True      False      False      False       False   \n",
       "1            0.0       True      False      False      False       False   \n",
       "2            0.0       True      False      False      False       False   \n",
       "3            0.0       True      False      False      False       False   \n",
       "4            0.0       True      False      False      False       False   \n",
       "\n",
       "   is_Functioning_day  Month  Day  int_date  \n",
       "0                True   12.0    0   43068.0  \n",
       "1                True   12.0    0   43068.0  \n",
       "2                True   12.0    0   43068.0  \n",
       "3                True   12.0    0   43068.0  \n",
       "4                True   12.0    0   43068.0  "
      ]
     },
     "execution_count": 2,
     "metadata": {},
     "output_type": "execute_result"
    }
   ],
   "source": [
    "df = pd.read_csv(\"Group_5_data_cleaned.csv\")\n",
    "df.head()"
   ]
  },
  {
   "cell_type": "code",
   "execution_count": 3,
   "id": "cc4f916f",
   "metadata": {},
   "outputs": [],
   "source": [
    "df = df.drop(['Unnamed: 0'],axis=1)"
   ]
  },
  {
   "cell_type": "code",
   "execution_count": 4,
   "id": "47bbb6da",
   "metadata": {},
   "outputs": [
    {
     "data": {
      "text/plain": [
       "Index(['Rented Bike Count', 'Hour', 'Temperature(C)', 'Humidity(%)',\n",
       "       'Wind speed (m/s)', 'Visibility (10m)', 'Solar Radiation (MJ/m2)',\n",
       "       'Rainfall(mm)', 'Snowfall (cm)', 'is_Winter', 'is_Spring', 'is_Summer',\n",
       "       'is_Autumn', 'is_Holiday', 'is_Functioning_day', 'Month', 'Day',\n",
       "       'int_date'],\n",
       "      dtype='object')"
      ]
     },
     "execution_count": 4,
     "metadata": {},
     "output_type": "execute_result"
    }
   ],
   "source": [
    "df.columns"
   ]
  },
  {
   "cell_type": "code",
   "execution_count": 5,
   "id": "f782ba51",
   "metadata": {},
   "outputs": [],
   "source": [
    "X = df.drop('Rented Bike Count',axis=1)\n",
    "y = df['Rented Bike Count']"
   ]
  },
  {
   "cell_type": "markdown",
   "id": "8ccdccdc",
   "metadata": {},
   "source": [
    "# Bi-directional elimination as a wrapper method. "
   ]
  },
  {
   "cell_type": "code",
   "execution_count": 6,
   "id": "1aa8fcf0",
   "metadata": {},
   "outputs": [],
   "source": [
    "from mlxtend.feature_selection import SequentialFeatureSelector as SFS\n",
    "from sklearn.linear_model import LinearRegression"
   ]
  },
  {
   "cell_type": "markdown",
   "id": "7b9b1036",
   "metadata": {},
   "source": [
    "# Using build-in fuction in python"
   ]
  },
  {
   "cell_type": "markdown",
   "id": "e160a27c",
   "metadata": {},
   "source": [
    "# No of features =8 and LinearRegression ML algorithm"
   ]
  },
  {
   "cell_type": "code",
   "execution_count": 7,
   "id": "f1c35f76",
   "metadata": {},
   "outputs": [
    {
     "data": {
      "text/plain": [
       "('Hour',\n",
       " 'Temperature(C)',\n",
       " 'Humidity(%)',\n",
       " 'Solar Radiation (MJ/m2)',\n",
       " 'Rainfall(mm)',\n",
       " 'is_Winter',\n",
       " 'is_Autumn',\n",
       " 'is_Functioning_day')"
      ]
     },
     "execution_count": 7,
     "metadata": {},
     "output_type": "execute_result"
    }
   ],
   "source": [
    "sffs = SFS(LinearRegression(),\n",
    "         k_features=8,\n",
    "         forward=True,\n",
    "         floating=True,\n",
    "         cv=0)\n",
    "sffs.fit(X, y)\n",
    "sffs.k_feature_names_"
   ]
  },
  {
   "cell_type": "code",
   "execution_count": 8,
   "id": "498bfe5e",
   "metadata": {},
   "outputs": [],
   "source": [
    "X=df[['Hour','Temperature(C)','Humidity(%)','Solar Radiation (MJ/m2)','Rainfall(mm)','is_Winter','is_Autumn','is_Functioning_day']]"
   ]
  },
  {
   "cell_type": "code",
   "execution_count": 9,
   "id": "1a6df5e5",
   "metadata": {},
   "outputs": [
    {
     "data": {
      "text/html": [
       "<div>\n",
       "<style scoped>\n",
       "    .dataframe tbody tr th:only-of-type {\n",
       "        vertical-align: middle;\n",
       "    }\n",
       "\n",
       "    .dataframe tbody tr th {\n",
       "        vertical-align: top;\n",
       "    }\n",
       "\n",
       "    .dataframe thead th {\n",
       "        text-align: right;\n",
       "    }\n",
       "</style>\n",
       "<table border=\"1\" class=\"dataframe\">\n",
       "  <thead>\n",
       "    <tr style=\"text-align: right;\">\n",
       "      <th></th>\n",
       "      <th>Hour</th>\n",
       "      <th>Temperature(C)</th>\n",
       "      <th>Humidity(%)</th>\n",
       "      <th>Solar Radiation (MJ/m2)</th>\n",
       "      <th>Rainfall(mm)</th>\n",
       "      <th>is_Winter</th>\n",
       "      <th>is_Autumn</th>\n",
       "      <th>is_Functioning_day</th>\n",
       "    </tr>\n",
       "  </thead>\n",
       "  <tbody>\n",
       "    <tr>\n",
       "      <th>0</th>\n",
       "      <td>0</td>\n",
       "      <td>-5.2</td>\n",
       "      <td>37</td>\n",
       "      <td>0.0</td>\n",
       "      <td>0.0</td>\n",
       "      <td>True</td>\n",
       "      <td>False</td>\n",
       "      <td>True</td>\n",
       "    </tr>\n",
       "    <tr>\n",
       "      <th>1</th>\n",
       "      <td>1</td>\n",
       "      <td>-5.5</td>\n",
       "      <td>38</td>\n",
       "      <td>0.0</td>\n",
       "      <td>0.0</td>\n",
       "      <td>True</td>\n",
       "      <td>False</td>\n",
       "      <td>True</td>\n",
       "    </tr>\n",
       "    <tr>\n",
       "      <th>2</th>\n",
       "      <td>2</td>\n",
       "      <td>-6.0</td>\n",
       "      <td>39</td>\n",
       "      <td>0.0</td>\n",
       "      <td>0.0</td>\n",
       "      <td>True</td>\n",
       "      <td>False</td>\n",
       "      <td>True</td>\n",
       "    </tr>\n",
       "    <tr>\n",
       "      <th>3</th>\n",
       "      <td>3</td>\n",
       "      <td>-6.2</td>\n",
       "      <td>40</td>\n",
       "      <td>0.0</td>\n",
       "      <td>0.0</td>\n",
       "      <td>True</td>\n",
       "      <td>False</td>\n",
       "      <td>True</td>\n",
       "    </tr>\n",
       "    <tr>\n",
       "      <th>4</th>\n",
       "      <td>4</td>\n",
       "      <td>-6.0</td>\n",
       "      <td>36</td>\n",
       "      <td>0.0</td>\n",
       "      <td>0.0</td>\n",
       "      <td>True</td>\n",
       "      <td>False</td>\n",
       "      <td>True</td>\n",
       "    </tr>\n",
       "  </tbody>\n",
       "</table>\n",
       "</div>"
      ],
      "text/plain": [
       "   Hour  Temperature(C)  Humidity(%)  Solar Radiation (MJ/m2)  Rainfall(mm)  \\\n",
       "0     0            -5.2           37                      0.0           0.0   \n",
       "1     1            -5.5           38                      0.0           0.0   \n",
       "2     2            -6.0           39                      0.0           0.0   \n",
       "3     3            -6.2           40                      0.0           0.0   \n",
       "4     4            -6.0           36                      0.0           0.0   \n",
       "\n",
       "   is_Winter  is_Autumn  is_Functioning_day  \n",
       "0       True      False                True  \n",
       "1       True      False                True  \n",
       "2       True      False                True  \n",
       "3       True      False                True  \n",
       "4       True      False                True  "
      ]
     },
     "execution_count": 9,
     "metadata": {},
     "output_type": "execute_result"
    }
   ],
   "source": [
    "y = df['Rented Bike Count']\n",
    "X.head()"
   ]
  },
  {
   "cell_type": "code",
   "execution_count": 10,
   "id": "815b9755",
   "metadata": {},
   "outputs": [],
   "source": [
    "#Min Max scaling \n",
    "from sklearn.preprocessing import MinMaxScaler\n",
    "from sklearn.preprocessing import StandardScaler, MinMaxScaler, RobustScaler \n",
    "from sklearn.metrics import r2_score\n",
    "\n",
    "scaler = MinMaxScaler()\n",
    "model=scaler.fit(X)\n",
    "scaled_X=model.transform(X)\n",
    "\n",
    "y = y.values.reshape(-1, 1)\n",
    "model1=scaler.fit(y)\n",
    "scaled_y=model1.transform(y)"
   ]
  },
  {
   "cell_type": "code",
   "execution_count": 11,
   "id": "a05287ba",
   "metadata": {},
   "outputs": [
    {
     "name": "stdout",
     "output_type": "stream",
     "text": [
      "(7008, 8)\n",
      "(7008, 1)\n",
      "(876, 8)\n",
      "(876, 1)\n",
      "(876, 8)\n",
      "(876, 1)\n"
     ]
    },
    {
     "data": {
      "text/plain": [
       "(None, None)"
      ]
     },
     "execution_count": 11,
     "metadata": {},
     "output_type": "execute_result"
    }
   ],
   "source": [
    "#splitting data into train,validation and test datasets\n",
    "from sklearn.model_selection import train_test_split\n",
    "from sklearn import metrics\n",
    "X_train, X_rem, y_train, y_rem = train_test_split(scaled_X,scaled_y, train_size=0.80,random_state=42)\n",
    "test_size = 0.5\n",
    "X_valid, X_test, y_valid, y_test = train_test_split(X_rem,y_rem, test_size=0.5,random_state=42)\n",
    "print(X_train.shape), print(y_train.shape)\n",
    "print(X_valid.shape), print(y_valid.shape)\n",
    "print(X_test.shape), print(y_test.shape)"
   ]
  },
  {
   "cell_type": "markdown",
   "id": "1603443a",
   "metadata": {},
   "source": [
    "# PART-2 BEST MODEL - RANDOM FOREST"
   ]
  },
  {
   "cell_type": "code",
   "execution_count": 12,
   "id": "2477e324",
   "metadata": {},
   "outputs": [
    {
     "name": "stdout",
     "output_type": "stream",
     "text": [
      "MSE: 0.0038286137197577133\n"
     ]
    },
    {
     "data": {
      "text/plain": [
       "0.8728534523460072"
      ]
     },
     "execution_count": 12,
     "metadata": {},
     "output_type": "execute_result"
    }
   ],
   "source": [
    "from sklearn.ensemble import RandomForestRegressor\n",
    "from sklearn.metrics import mean_squared_error\n",
    "best_model_feature8 = RandomForestRegressor(n_estimators= 300, max_features= 'log2', max_depth= 22,bootstrap=True)\n",
    "best_model_feature8.fit(X_train,y_train)\n",
    "y_test_pred = best_model_feature8.predict(X_test)\n",
    "mse = mean_squared_error(y_test_pred, y_test)\n",
    "print(\"MSE:\", mse)\n",
    "best_model_feature8.score(X_test, y_test)"
   ]
  },
  {
   "cell_type": "code",
   "execution_count": 13,
   "id": "cea25931",
   "metadata": {},
   "outputs": [
    {
     "name": "stdout",
     "output_type": "stream",
     "text": [
      "The mean squared error is 0.005191754712149682\n",
      "The mean absolute error is 0.04482832331944566\n",
      "The root mean sqaured error is 0.07205383204347762\n"
     ]
    }
   ],
   "source": [
    "#Error on the validation set\n",
    "#model evaluation on validation dataset\n",
    "y_valid_pred = best_model_feature8.predict(X_valid)\n",
    "MSE = metrics.mean_squared_error(y_valid_pred, y_valid)\n",
    "MAE =  metrics.mean_absolute_error(y_valid_pred, y_valid)\n",
    "RMSE = MSE**0.5\n",
    "print(f\"The mean squared error is {MSE}\")\n",
    "print(f\"The mean absolute error is {MAE}\")\n",
    "print(f\"The root mean sqaured error is {RMSE}\")"
   ]
  },
  {
   "cell_type": "code",
   "execution_count": 14,
   "id": "174b59f3",
   "metadata": {},
   "outputs": [
    {
     "name": "stdout",
     "output_type": "stream",
     "text": [
      "The mean squared error is 0.0038286137197577133\n",
      "The mean absolute error is 0.038613754295022035\n",
      "The root mean sqaured error is 0.06187579267983331\n"
     ]
    }
   ],
   "source": [
    "#Error on the test dataset\n",
    "y_test_pred = best_model_feature8.predict(X_test)\n",
    "MSE = metrics.mean_squared_error(y_test_pred, y_test)\n",
    "MAE =  metrics.mean_absolute_error(y_test_pred, y_test)\n",
    "RMSE = MSE**0.5\n",
    "print(f\"The mean squared error is {MSE}\")\n",
    "print(f\"The mean absolute error is {MAE}\")\n",
    "print(f\"The root mean sqaured error is {RMSE}\")"
   ]
  },
  {
   "cell_type": "code",
   "execution_count": 15,
   "id": "91d66d7f",
   "metadata": {},
   "outputs": [
    {
     "name": "stdout",
     "output_type": "stream",
     "text": [
      "R^2 is 0.8728534523460072\n",
      "RMSE is: 0.06187579267983331\n"
     ]
    },
    {
     "data": {
      "image/png": "[encoded data removed]",
      "text/plain": [
       "<Figure size 640x480 with 1 Axes>"
      ]
     },
     "metadata": {},
     "output_type": "display_data"
    }
   ],
   "source": [
    "plt.scatter(y_test_pred,y_test,color='b')\n",
    "plt.xlabel('Predicted')\n",
    "plt.ylabel('Actual')\n",
    "print(f'R^2 is {best_model_feature8.score(X_test,y_test)}\\nRMSE is: {metrics.mean_squared_error(y_test_pred,y_test,squared=False)}')"
   ]
  },
  {
   "cell_type": "markdown",
   "id": "e73301f5",
   "metadata": {},
   "source": [
    "# PART-3 BEST MODEL - DEEP LEARNING"
   ]
  },
  {
   "cell_type": "code",
   "execution_count": 16,
   "id": "321388cd",
   "metadata": {},
   "outputs": [],
   "source": [
    "from keras.models import Sequential\n",
    "from keras.layers import Dense\n",
    "X_train, X_test, y_train, y_test = train_test_split(scaled_X,scaled_y, test_size = 0.2, random_state = 1111)"
   ]
  },
  {
   "cell_type": "code",
   "execution_count": 17,
   "id": "e452eada",
   "metadata": {},
   "outputs": [
    {
     "name": "stdout",
     "output_type": "stream",
     "text": [
      "Epoch 1/100\n",
      "176/176 [==============================] - 1s 1ms/step - loss: 0.0169 - mae: 0.0902 - mse: 0.0169 - val_loss: 0.0166 - val_mae: 0.0827 - val_mse: 0.0166\n",
      "Epoch 2/100\n",
      "176/176 [==============================] - 0s 1ms/step - loss: 0.0122 - mae: 0.0754 - mse: 0.0122 - val_loss: 0.0287 - val_mae: 0.1217 - val_mse: 0.0287\n",
      "Epoch 3/100\n",
      "176/176 [==============================] - 0s 1ms/step - loss: 0.0103 - mae: 0.0683 - mse: 0.0103 - val_loss: 0.0084 - val_mae: 0.0593 - val_mse: 0.0084\n",
      "Epoch 4/100\n",
      "176/176 [==============================] - 0s 1ms/step - loss: 0.0091 - mae: 0.0640 - mse: 0.0091 - val_loss: 0.0069 - val_mae: 0.0558 - val_mse: 0.0069\n",
      "Epoch 5/100\n",
      "176/176 [==============================] - 0s 1ms/step - loss: 0.0082 - mae: 0.0601 - mse: 0.0082 - val_loss: 0.0095 - val_mae: 0.0672 - val_mse: 0.0095\n",
      "Epoch 6/100\n",
      "176/176 [==============================] - 0s 1ms/step - loss: 0.0078 - mae: 0.0584 - mse: 0.0078 - val_loss: 0.0067 - val_mae: 0.0543 - val_mse: 0.0067\n",
      "Epoch 7/100\n",
      "176/176 [==============================] - 0s 1ms/step - loss: 0.0074 - mae: 0.0569 - mse: 0.0074 - val_loss: 0.0071 - val_mae: 0.0573 - val_mse: 0.0071\n",
      "Epoch 8/100\n",
      "176/176 [==============================] - 0s 1ms/step - loss: 0.0072 - mae: 0.0563 - mse: 0.0072 - val_loss: 0.0071 - val_mae: 0.0586 - val_mse: 0.0071\n",
      "Epoch 9/100\n",
      "176/176 [==============================] - 0s 1ms/step - loss: 0.0068 - mae: 0.0547 - mse: 0.0068 - val_loss: 0.0057 - val_mae: 0.0503 - val_mse: 0.0057\n",
      "Epoch 10/100\n",
      "176/176 [==============================] - 0s 1ms/step - loss: 0.0067 - mae: 0.0539 - mse: 0.0067 - val_loss: 0.0084 - val_mae: 0.0627 - val_mse: 0.0084\n",
      "Epoch 11/100\n",
      "176/176 [==============================] - 0s 1ms/step - loss: 0.0066 - mae: 0.0541 - mse: 0.0066 - val_loss: 0.0081 - val_mae: 0.0617 - val_mse: 0.0081\n",
      "Epoch 12/100\n",
      "176/176 [==============================] - 0s 1ms/step - loss: 0.0066 - mae: 0.0531 - mse: 0.0066 - val_loss: 0.0059 - val_mae: 0.0528 - val_mse: 0.0059\n",
      "Epoch 13/100\n",
      "176/176 [==============================] - 0s 1ms/step - loss: 0.0065 - mae: 0.0529 - mse: 0.0065 - val_loss: 0.0067 - val_mae: 0.0566 - val_mse: 0.0067\n",
      "Epoch 14/100\n",
      "176/176 [==============================] - 0s 1ms/step - loss: 0.0064 - mae: 0.0521 - mse: 0.0064 - val_loss: 0.0051 - val_mae: 0.0470 - val_mse: 0.0051\n",
      "Epoch 15/100\n",
      "176/176 [==============================] - 0s 1ms/step - loss: 0.0062 - mae: 0.0520 - mse: 0.0062 - val_loss: 0.0100 - val_mae: 0.0671 - val_mse: 0.0100\n",
      "Epoch 16/100\n",
      "176/176 [==============================] - 0s 993us/step - loss: 0.0062 - mae: 0.0519 - mse: 0.0062 - val_loss: 0.0066 - val_mae: 0.0512 - val_mse: 0.0066\n",
      "Epoch 17/100\n",
      "176/176 [==============================] - 0s 989us/step - loss: 0.0061 - mae: 0.0515 - mse: 0.0061 - val_loss: 0.0054 - val_mae: 0.0479 - val_mse: 0.0054\n",
      "Epoch 18/100\n",
      "176/176 [==============================] - 0s 1ms/step - loss: 0.0060 - mae: 0.0509 - mse: 0.0060 - val_loss: 0.0054 - val_mae: 0.0499 - val_mse: 0.0054\n",
      "Epoch 19/100\n",
      "176/176 [==============================] - 0s 1ms/step - loss: 0.0059 - mae: 0.0508 - mse: 0.0059 - val_loss: 0.0088 - val_mae: 0.0662 - val_mse: 0.0088\n",
      "Epoch 20/100\n",
      "176/176 [==============================] - 0s 1ms/step - loss: 0.0059 - mae: 0.0505 - mse: 0.0059 - val_loss: 0.0055 - val_mae: 0.0531 - val_mse: 0.0055\n",
      "Epoch 21/100\n",
      "176/176 [==============================] - 0s 1ms/step - loss: 0.0058 - mae: 0.0501 - mse: 0.0058 - val_loss: 0.0058 - val_mae: 0.0529 - val_mse: 0.0058\n",
      "Epoch 22/100\n",
      "176/176 [==============================] - 0s 1ms/step - loss: 0.0057 - mae: 0.0496 - mse: 0.0057 - val_loss: 0.0053 - val_mae: 0.0490 - val_mse: 0.0053\n",
      "Epoch 23/100\n",
      "176/176 [==============================] - 0s 1ms/step - loss: 0.0058 - mae: 0.0498 - mse: 0.0058 - val_loss: 0.0054 - val_mae: 0.0484 - val_mse: 0.0054\n",
      "Epoch 24/100\n",
      "176/176 [==============================] - 0s 988us/step - loss: 0.0057 - mae: 0.0497 - mse: 0.0057 - val_loss: 0.0066 - val_mae: 0.0572 - val_mse: 0.0066\n",
      "Epoch 25/100\n",
      "176/176 [==============================] - 0s 990us/step - loss: 0.0057 - mae: 0.0495 - mse: 0.0057 - val_loss: 0.0094 - val_mae: 0.0657 - val_mse: 0.0094\n",
      "Epoch 26/100\n",
      "176/176 [==============================] - 0s 1ms/step - loss: 0.0056 - mae: 0.0491 - mse: 0.0056 - val_loss: 0.0049 - val_mae: 0.0468 - val_mse: 0.0049\n",
      "Epoch 27/100\n",
      "176/176 [==============================] - 0s 997us/step - loss: 0.0055 - mae: 0.0485 - mse: 0.0055 - val_loss: 0.0068 - val_mae: 0.0552 - val_mse: 0.0068\n",
      "Epoch 28/100\n",
      "176/176 [==============================] - 0s 1ms/step - loss: 0.0055 - mae: 0.0486 - mse: 0.0055 - val_loss: 0.0062 - val_mae: 0.0505 - val_mse: 0.0062\n",
      "Epoch 29/100\n",
      "176/176 [==============================] - 0s 994us/step - loss: 0.0055 - mae: 0.0483 - mse: 0.0055 - val_loss: 0.0054 - val_mae: 0.0463 - val_mse: 0.0054\n",
      "Epoch 30/100\n",
      "176/176 [==============================] - 0s 1ms/step - loss: 0.0054 - mae: 0.0480 - mse: 0.0054 - val_loss: 0.0049 - val_mae: 0.0443 - val_mse: 0.0049\n",
      "Epoch 31/100\n",
      "176/176 [==============================] - 0s 1ms/step - loss: 0.0055 - mae: 0.0481 - mse: 0.0055 - val_loss: 0.0051 - val_mae: 0.0493 - val_mse: 0.0051\n",
      "Epoch 32/100\n",
      "176/176 [==============================] - 0s 1ms/step - loss: 0.0053 - mae: 0.0474 - mse: 0.0053 - val_loss: 0.0054 - val_mae: 0.0519 - val_mse: 0.0054\n",
      "Epoch 33/100\n",
      "176/176 [==============================] - 0s 1ms/step - loss: 0.0053 - mae: 0.0475 - mse: 0.0053 - val_loss: 0.0053 - val_mae: 0.0487 - val_mse: 0.0053\n",
      "Epoch 34/100\n",
      "176/176 [==============================] - 0s 1ms/step - loss: 0.0052 - mae: 0.0474 - mse: 0.0052 - val_loss: 0.0053 - val_mae: 0.0506 - val_mse: 0.0053\n",
      "Epoch 35/100\n",
      "176/176 [==============================] - 0s 1ms/step - loss: 0.0051 - mae: 0.0471 - mse: 0.0051 - val_loss: 0.0058 - val_mae: 0.0501 - val_mse: 0.0058\n",
      "Epoch 36/100\n",
      "176/176 [==============================] - 0s 1ms/step - loss: 0.0051 - mae: 0.0467 - mse: 0.0051 - val_loss: 0.0058 - val_mae: 0.0502 - val_mse: 0.0058\n",
      "Epoch 37/100\n",
      "176/176 [==============================] - 0s 1ms/step - loss: 0.0051 - mae: 0.0466 - mse: 0.0051 - val_loss: 0.0058 - val_mae: 0.0495 - val_mse: 0.0058\n",
      "Epoch 38/100\n",
      "176/176 [==============================] - 0s 1ms/step - loss: 0.0051 - mae: 0.0467 - mse: 0.0051 - val_loss: 0.0063 - val_mae: 0.0519 - val_mse: 0.0063\n",
      "Epoch 39/100\n",
      "176/176 [==============================] - 0s 1ms/step - loss: 0.0052 - mae: 0.0471 - mse: 0.0052 - val_loss: 0.0052 - val_mae: 0.0487 - val_mse: 0.0052\n",
      "Epoch 40/100\n",
      "176/176 [==============================] - 0s 1ms/step - loss: 0.0051 - mae: 0.0470 - mse: 0.0051 - val_loss: 0.0071 - val_mae: 0.0581 - val_mse: 0.0071\n",
      "Epoch 41/100\n",
      "176/176 [==============================] - 0s 996us/step - loss: 0.0051 - mae: 0.0466 - mse: 0.0051 - val_loss: 0.0059 - val_mae: 0.0535 - val_mse: 0.0059\n",
      "Epoch 42/100\n",
      "176/176 [==============================] - 0s 976us/step - loss: 0.0050 - mae: 0.0466 - mse: 0.0050 - val_loss: 0.0056 - val_mae: 0.0502 - val_mse: 0.0056\n",
      "Epoch 43/100\n",
      "176/176 [==============================] - 0s 996us/step - loss: 0.0049 - mae: 0.0453 - mse: 0.0049 - val_loss: 0.0058 - val_mae: 0.0495 - val_mse: 0.0058\n",
      "Epoch 44/100\n",
      "176/176 [==============================] - 0s 987us/step - loss: 0.0048 - mae: 0.0456 - mse: 0.0048 - val_loss: 0.0068 - val_mae: 0.0524 - val_mse: 0.0068\n",
      "Epoch 45/100\n",
      "176/176 [==============================] - 0s 1ms/step - loss: 0.0050 - mae: 0.0457 - mse: 0.0050 - val_loss: 0.0072 - val_mae: 0.0606 - val_mse: 0.0072\n",
      "Epoch 46/100\n",
      "176/176 [==============================] - 0s 1ms/step - loss: 0.0049 - mae: 0.0453 - mse: 0.0049 - val_loss: 0.0049 - val_mae: 0.0448 - val_mse: 0.0049\n",
      "Epoch 47/100\n",
      "176/176 [==============================] - 0s 1ms/step - loss: 0.0049 - mae: 0.0456 - mse: 0.0049 - val_loss: 0.0050 - val_mae: 0.0457 - val_mse: 0.0050\n",
      "Epoch 48/100\n",
      "176/176 [==============================] - 0s 1ms/step - loss: 0.0048 - mae: 0.0447 - mse: 0.0048 - val_loss: 0.0054 - val_mae: 0.0531 - val_mse: 0.0054\n",
      "Epoch 49/100\n",
      "176/176 [==============================] - 0s 1ms/step - loss: 0.0049 - mae: 0.0454 - mse: 0.0049 - val_loss: 0.0045 - val_mae: 0.0434 - val_mse: 0.0045\n",
      "Epoch 50/100\n"
     ]
    },
    {
     "name": "stdout",
     "output_type": "stream",
     "text": [
      "176/176 [==============================] - 0s 1ms/step - loss: 0.0049 - mae: 0.0452 - mse: 0.0049 - val_loss: 0.0057 - val_mae: 0.0519 - val_mse: 0.0057\n",
      "Epoch 51/100\n",
      "176/176 [==============================] - 0s 1ms/step - loss: 0.0048 - mae: 0.0451 - mse: 0.0048 - val_loss: 0.0056 - val_mae: 0.0497 - val_mse: 0.0056\n",
      "Epoch 52/100\n",
      "176/176 [==============================] - 0s 1ms/step - loss: 0.0048 - mae: 0.0449 - mse: 0.0048 - val_loss: 0.0081 - val_mae: 0.0561 - val_mse: 0.0081\n",
      "Epoch 53/100\n",
      "176/176 [==============================] - 0s 1ms/step - loss: 0.0048 - mae: 0.0449 - mse: 0.0048 - val_loss: 0.0069 - val_mae: 0.0549 - val_mse: 0.0069\n",
      "Epoch 54/100\n",
      "176/176 [==============================] - 0s 1ms/step - loss: 0.0048 - mae: 0.0448 - mse: 0.0048 - val_loss: 0.0061 - val_mae: 0.0521 - val_mse: 0.0061\n",
      "Epoch 55/100\n",
      "176/176 [==============================] - 0s 1ms/step - loss: 0.0048 - mae: 0.0448 - mse: 0.0048 - val_loss: 0.0054 - val_mae: 0.0478 - val_mse: 0.0054\n",
      "Epoch 56/100\n",
      "176/176 [==============================] - 0s 1ms/step - loss: 0.0047 - mae: 0.0445 - mse: 0.0047 - val_loss: 0.0059 - val_mae: 0.0508 - val_mse: 0.0059\n",
      "Epoch 57/100\n",
      "176/176 [==============================] - 0s 1ms/step - loss: 0.0047 - mae: 0.0443 - mse: 0.0047 - val_loss: 0.0050 - val_mae: 0.0435 - val_mse: 0.0050\n",
      "Epoch 58/100\n",
      "176/176 [==============================] - 0s 1ms/step - loss: 0.0047 - mae: 0.0444 - mse: 0.0047 - val_loss: 0.0071 - val_mae: 0.0570 - val_mse: 0.0071\n",
      "Epoch 59/100\n",
      "176/176 [==============================] - 0s 1ms/step - loss: 0.0046 - mae: 0.0442 - mse: 0.0046 - val_loss: 0.0052 - val_mae: 0.0440 - val_mse: 0.0052\n",
      "Epoch 60/100\n",
      "176/176 [==============================] - 0s 1ms/step - loss: 0.0047 - mae: 0.0438 - mse: 0.0047 - val_loss: 0.0063 - val_mae: 0.0524 - val_mse: 0.0063\n",
      "Epoch 61/100\n",
      "176/176 [==============================] - 0s 1ms/step - loss: 0.0047 - mae: 0.0450 - mse: 0.0047 - val_loss: 0.0056 - val_mae: 0.0503 - val_mse: 0.0056\n",
      "Epoch 62/100\n",
      "176/176 [==============================] - 0s 1ms/step - loss: 0.0045 - mae: 0.0439 - mse: 0.0045 - val_loss: 0.0067 - val_mae: 0.0484 - val_mse: 0.0067\n",
      "Epoch 63/100\n",
      "176/176 [==============================] - 0s 1ms/step - loss: 0.0046 - mae: 0.0443 - mse: 0.0046 - val_loss: 0.0049 - val_mae: 0.0471 - val_mse: 0.0049\n",
      "Epoch 64/100\n",
      "176/176 [==============================] - 0s 1ms/step - loss: 0.0046 - mae: 0.0438 - mse: 0.0046 - val_loss: 0.0077 - val_mae: 0.0598 - val_mse: 0.0077\n",
      "Epoch 65/100\n",
      "176/176 [==============================] - 0s 1ms/step - loss: 0.0045 - mae: 0.0435 - mse: 0.0045 - val_loss: 0.0058 - val_mae: 0.0523 - val_mse: 0.0058\n",
      "Epoch 66/100\n",
      "176/176 [==============================] - 0s 1ms/step - loss: 0.0044 - mae: 0.0436 - mse: 0.0044 - val_loss: 0.0054 - val_mae: 0.0445 - val_mse: 0.0054\n",
      "Epoch 67/100\n",
      "176/176 [==============================] - 0s 1ms/step - loss: 0.0044 - mae: 0.0429 - mse: 0.0044 - val_loss: 0.0046 - val_mae: 0.0435 - val_mse: 0.0046\n",
      "Epoch 68/100\n",
      "176/176 [==============================] - 0s 1ms/step - loss: 0.0044 - mae: 0.0431 - mse: 0.0044 - val_loss: 0.0075 - val_mae: 0.0588 - val_mse: 0.0075\n",
      "Epoch 69/100\n",
      "176/176 [==============================] - 0s 2ms/step - loss: 0.0044 - mae: 0.0431 - mse: 0.0044 - val_loss: 0.0046 - val_mae: 0.0436 - val_mse: 0.0046\n",
      "Epoch 70/100\n",
      "176/176 [==============================] - 0s 2ms/step - loss: 0.0043 - mae: 0.0427 - mse: 0.0043 - val_loss: 0.0050 - val_mae: 0.0453 - val_mse: 0.0050\n",
      "Epoch 71/100\n",
      "176/176 [==============================] - 0s 1ms/step - loss: 0.0044 - mae: 0.0429 - mse: 0.0044 - val_loss: 0.0051 - val_mae: 0.0464 - val_mse: 0.0051\n",
      "Epoch 72/100\n",
      "176/176 [==============================] - 0s 1ms/step - loss: 0.0045 - mae: 0.0431 - mse: 0.0045 - val_loss: 0.0049 - val_mae: 0.0454 - val_mse: 0.0049\n",
      "Epoch 73/100\n",
      "176/176 [==============================] - 0s 1ms/step - loss: 0.0045 - mae: 0.0433 - mse: 0.0045 - val_loss: 0.0051 - val_mae: 0.0469 - val_mse: 0.0051\n",
      "Epoch 74/100\n",
      "176/176 [==============================] - 0s 2ms/step - loss: 0.0044 - mae: 0.0428 - mse: 0.0044 - val_loss: 0.0051 - val_mae: 0.0455 - val_mse: 0.0051\n",
      "Epoch 75/100\n",
      "176/176 [==============================] - 0s 1ms/step - loss: 0.0043 - mae: 0.0426 - mse: 0.0043 - val_loss: 0.0050 - val_mae: 0.0474 - val_mse: 0.0050\n",
      "Epoch 76/100\n",
      "176/176 [==============================] - 0s 2ms/step - loss: 0.0043 - mae: 0.0427 - mse: 0.0043 - val_loss: 0.0052 - val_mae: 0.0460 - val_mse: 0.0052\n",
      "Epoch 77/100\n",
      "176/176 [==============================] - 0s 1ms/step - loss: 0.0043 - mae: 0.0423 - mse: 0.0043 - val_loss: 0.0055 - val_mae: 0.0455 - val_mse: 0.0055\n",
      "Epoch 78/100\n",
      "176/176 [==============================] - 0s 1ms/step - loss: 0.0043 - mae: 0.0424 - mse: 0.0043 - val_loss: 0.0050 - val_mae: 0.0463 - val_mse: 0.0050\n",
      "Epoch 79/100\n",
      "176/176 [==============================] - 0s 1ms/step - loss: 0.0043 - mae: 0.0423 - mse: 0.0043 - val_loss: 0.0050 - val_mae: 0.0447 - val_mse: 0.0050\n",
      "Epoch 80/100\n",
      "176/176 [==============================] - 0s 1ms/step - loss: 0.0042 - mae: 0.0417 - mse: 0.0042 - val_loss: 0.0049 - val_mae: 0.0469 - val_mse: 0.0049\n",
      "Epoch 81/100\n",
      "176/176 [==============================] - 0s 2ms/step - loss: 0.0043 - mae: 0.0422 - mse: 0.0043 - val_loss: 0.0050 - val_mae: 0.0463 - val_mse: 0.0050\n",
      "Epoch 82/100\n",
      "176/176 [==============================] - 0s 1ms/step - loss: 0.0042 - mae: 0.0420 - mse: 0.0042 - val_loss: 0.0056 - val_mae: 0.0493 - val_mse: 0.0056\n",
      "Epoch 83/100\n",
      "176/176 [==============================] - 0s 1ms/step - loss: 0.0042 - mae: 0.0420 - mse: 0.0042 - val_loss: 0.0054 - val_mae: 0.0451 - val_mse: 0.0054\n",
      "Epoch 84/100\n",
      "176/176 [==============================] - 0s 1ms/step - loss: 0.0042 - mae: 0.0416 - mse: 0.0042 - val_loss: 0.0047 - val_mae: 0.0443 - val_mse: 0.0047\n",
      "Epoch 85/100\n",
      "176/176 [==============================] - 0s 1ms/step - loss: 0.0042 - mae: 0.0419 - mse: 0.0042 - val_loss: 0.0047 - val_mae: 0.0443 - val_mse: 0.0047\n",
      "Epoch 86/100\n",
      "176/176 [==============================] - 0s 1ms/step - loss: 0.0042 - mae: 0.0418 - mse: 0.0042 - val_loss: 0.0048 - val_mae: 0.0445 - val_mse: 0.0048\n",
      "Epoch 87/100\n",
      "176/176 [==============================] - 0s 1ms/step - loss: 0.0042 - mae: 0.0417 - mse: 0.0042 - val_loss: 0.0060 - val_mae: 0.0499 - val_mse: 0.0060\n",
      "Epoch 88/100\n",
      "176/176 [==============================] - 0s 1ms/step - loss: 0.0041 - mae: 0.0415 - mse: 0.0041 - val_loss: 0.0050 - val_mae: 0.0466 - val_mse: 0.0050\n",
      "Epoch 89/100\n",
      "176/176 [==============================] - 0s 1ms/step - loss: 0.0042 - mae: 0.0418 - mse: 0.0042 - val_loss: 0.0048 - val_mae: 0.0440 - val_mse: 0.0048\n",
      "Epoch 90/100\n",
      "176/176 [==============================] - 0s 1ms/step - loss: 0.0042 - mae: 0.0414 - mse: 0.0042 - val_loss: 0.0049 - val_mae: 0.0463 - val_mse: 0.0049\n",
      "Epoch 91/100\n",
      "176/176 [==============================] - 0s 1ms/step - loss: 0.0041 - mae: 0.0413 - mse: 0.0041 - val_loss: 0.0047 - val_mae: 0.0442 - val_mse: 0.0047\n",
      "Epoch 92/100\n",
      "176/176 [==============================] - 0s 1ms/step - loss: 0.0041 - mae: 0.0411 - mse: 0.0041 - val_loss: 0.0050 - val_mae: 0.0463 - val_mse: 0.0050\n",
      "Epoch 93/100\n",
      "176/176 [==============================] - 0s 2ms/step - loss: 0.0041 - mae: 0.0412 - mse: 0.0041 - val_loss: 0.0060 - val_mae: 0.0498 - val_mse: 0.0060\n",
      "Epoch 94/100\n",
      "176/176 [==============================] - 0s 1ms/step - loss: 0.0042 - mae: 0.0419 - mse: 0.0042 - val_loss: 0.0063 - val_mae: 0.0525 - val_mse: 0.0063\n",
      "Epoch 95/100\n",
      "176/176 [==============================] - 0s 1ms/step - loss: 0.0041 - mae: 0.0413 - mse: 0.0041 - val_loss: 0.0051 - val_mae: 0.0441 - val_mse: 0.0051\n",
      "Epoch 96/100\n",
      "176/176 [==============================] - 0s 1ms/step - loss: 0.0041 - mae: 0.0411 - mse: 0.0041 - val_loss: 0.0049 - val_mae: 0.0441 - val_mse: 0.0049\n",
      "Epoch 97/100\n",
      "176/176 [==============================] - 0s 2ms/step - loss: 0.0042 - mae: 0.0414 - mse: 0.0042 - val_loss: 0.0049 - val_mae: 0.0439 - val_mse: 0.0049\n",
      "Epoch 98/100\n",
      "176/176 [==============================] - 0s 1ms/step - loss: 0.0041 - mae: 0.0409 - mse: 0.0041 - val_loss: 0.0053 - val_mae: 0.0475 - val_mse: 0.0053\n",
      "Epoch 99/100\n"
     ]
    },
    {
     "name": "stdout",
     "output_type": "stream",
     "text": [
      "176/176 [==============================] - 0s 1ms/step - loss: 0.0040 - mae: 0.0405 - mse: 0.0040 - val_loss: 0.0047 - val_mae: 0.0434 - val_mse: 0.0047\n",
      "Epoch 100/100\n",
      "176/176 [==============================] - 0s 1ms/step - loss: 0.0040 - mae: 0.0410 - mse: 0.0040 - val_loss: 0.0046 - val_mae: 0.0439 - val_mse: 0.0046\n"
     ]
    }
   ],
   "source": [
    "# We decalred a function for creating a model.\n",
    "from tensorflow.keras.layers import Activation, Dense, BatchNormalization, Dropout\n",
    "from tensorflow.keras import optimizers\n",
    "def build_model3_five_hidden_layers():\n",
    "    \n",
    "    model = Sequential()\n",
    "\n",
    "    model.add(Dense(128, input_shape = (X_train.shape[1],)))    \n",
    "    \n",
    "    model.add(Dense(128,Activation('relu')))                         \n",
    "    \n",
    "    model.add(Dense(128, Activation('relu')))                         \n",
    "    \n",
    "    \n",
    "    model.add(Dense(128, Activation('relu')))                         \n",
    "    \n",
    "    \n",
    "    model.add(Dense(128, Activation('relu')))                         \n",
    "    \n",
    "    \n",
    "    model.add(Dense(128, Activation('relu')))                         \n",
    "\n",
    "    \n",
    "    model.add(Dense(1))                        \n",
    "    learning_rate = 0.001\n",
    "    optimizer = optimizers.RMSprop(learning_rate)\n",
    "    model.compile(loss='mse',\n",
    "                optimizer=optimizer,\n",
    "                metrics=['mae', 'mse']) \n",
    "    \n",
    "    return model\n",
    "\n",
    "model3 = build_model3_five_hidden_layers()\n",
    "\n",
    "history = model3.fit(X_train, y_train, validation_split=0.2, epochs =100)"
   ]
  },
  {
   "cell_type": "code",
   "execution_count": 18,
   "id": "b21e5835",
   "metadata": {},
   "outputs": [
    {
     "name": "stdout",
     "output_type": "stream",
     "text": [
      "55/55 [==============================] - 0s 596us/step\n",
      "The mean squared error is 0.004882149189268884\n",
      "The mean absolute error is 0.04324177684073472\n",
      "The root mean sqaured error is 0.06987237787043521\n"
     ]
    }
   ],
   "source": [
    "y_test_pred = model3.predict(X_test)\n",
    "MSE = metrics.mean_squared_error(y_test_pred, y_test)\n",
    "MAE =  metrics.mean_absolute_error(y_test_pred, y_test)\n",
    "RMSE = MSE**0.5\n",
    "print(f\"The mean squared error is {MSE}\")\n",
    "print(f\"The mean absolute error is {MAE}\")\n",
    "print(f\"The root mean sqaured error is {RMSE}\")"
   ]
  },
  {
   "cell_type": "code",
   "execution_count": 19,
   "id": "1db0ebb9",
   "metadata": {},
   "outputs": [
    {
     "name": "stdout",
     "output_type": "stream",
     "text": [
      "219/219 [==============================] - 0s 632us/step\n"
     ]
    },
    {
     "data": {
      "image/png": "[encoded data removed]",
      "text/plain": [
       "<Figure size 640x480 with 1 Axes>"
      ]
     },
     "metadata": {},
     "output_type": "display_data"
    }
   ],
   "source": [
    "train_predictions = model3.predict(X_train)\n",
    "\n",
    "a = plt.axes(aspect='equal')\n",
    "plt.scatter(y_train, train_predictions)\n",
    "plt.xlabel('True Values')\n",
    "plt.ylabel('Predictions')\n",
    "lims = [0, 1]\n",
    "plt.xlim(lims)\n",
    "plt.ylim(lims)\n",
    "_ = plt.plot(lims, lims)"
   ]
  },
  {
   "cell_type": "markdown",
   "id": "e203fca8",
   "metadata": {},
   "source": [
    "# No of features = 6 and RandomForest ML algorithm"
   ]
  },
  {
   "cell_type": "code",
   "execution_count": 20,
   "id": "34fb8ca2",
   "metadata": {},
   "outputs": [
    {
     "data": {
      "text/plain": [
       "('Hour',\n",
       " 'Temperature(C)',\n",
       " 'Humidity(%)',\n",
       " 'Rainfall(mm)',\n",
       " 'is_Autumn',\n",
       " 'is_Functioning_day')"
      ]
     },
     "execution_count": 20,
     "metadata": {},
     "output_type": "execute_result"
    }
   ],
   "source": [
    "sffs = SFS(RandomForestRegressor(),\n",
    "         k_features=6,\n",
    "         forward=True,\n",
    "         floating=True,\n",
    "         cv=0)\n",
    "sffs.fit(X, y)\n",
    "sffs.k_feature_names_"
   ]
  },
  {
   "cell_type": "code",
   "execution_count": 21,
   "id": "d9cb3180",
   "metadata": {},
   "outputs": [],
   "source": [
    "X=df[['Hour','Temperature(C)','Humidity(%)','Solar Radiation (MJ/m2)','Rainfall(mm)','is_Functioning_day']]"
   ]
  },
  {
   "cell_type": "code",
   "execution_count": 22,
   "id": "85c619c9",
   "metadata": {},
   "outputs": [
    {
     "data": {
      "text/html": [
       "<div>\n",
       "<style scoped>\n",
       "    .dataframe tbody tr th:only-of-type {\n",
       "        vertical-align: middle;\n",
       "    }\n",
       "\n",
       "    .dataframe tbody tr th {\n",
       "        vertical-align: top;\n",
       "    }\n",
       "\n",
       "    .dataframe thead th {\n",
       "        text-align: right;\n",
       "    }\n",
       "</style>\n",
       "<table border=\"1\" class=\"dataframe\">\n",
       "  <thead>\n",
       "    <tr style=\"text-align: right;\">\n",
       "      <th></th>\n",
       "      <th>Hour</th>\n",
       "      <th>Temperature(C)</th>\n",
       "      <th>Humidity(%)</th>\n",
       "      <th>Solar Radiation (MJ/m2)</th>\n",
       "      <th>Rainfall(mm)</th>\n",
       "      <th>is_Functioning_day</th>\n",
       "    </tr>\n",
       "  </thead>\n",
       "  <tbody>\n",
       "    <tr>\n",
       "      <th>0</th>\n",
       "      <td>0</td>\n",
       "      <td>-5.2</td>\n",
       "      <td>37</td>\n",
       "      <td>0.0</td>\n",
       "      <td>0.0</td>\n",
       "      <td>True</td>\n",
       "    </tr>\n",
       "    <tr>\n",
       "      <th>1</th>\n",
       "      <td>1</td>\n",
       "      <td>-5.5</td>\n",
       "      <td>38</td>\n",
       "      <td>0.0</td>\n",
       "      <td>0.0</td>\n",
       "      <td>True</td>\n",
       "    </tr>\n",
       "    <tr>\n",
       "      <th>2</th>\n",
       "      <td>2</td>\n",
       "      <td>-6.0</td>\n",
       "      <td>39</td>\n",
       "      <td>0.0</td>\n",
       "      <td>0.0</td>\n",
       "      <td>True</td>\n",
       "    </tr>\n",
       "    <tr>\n",
       "      <th>3</th>\n",
       "      <td>3</td>\n",
       "      <td>-6.2</td>\n",
       "      <td>40</td>\n",
       "      <td>0.0</td>\n",
       "      <td>0.0</td>\n",
       "      <td>True</td>\n",
       "    </tr>\n",
       "    <tr>\n",
       "      <th>4</th>\n",
       "      <td>4</td>\n",
       "      <td>-6.0</td>\n",
       "      <td>36</td>\n",
       "      <td>0.0</td>\n",
       "      <td>0.0</td>\n",
       "      <td>True</td>\n",
       "    </tr>\n",
       "  </tbody>\n",
       "</table>\n",
       "</div>"
      ],
      "text/plain": [
       "   Hour  Temperature(C)  Humidity(%)  Solar Radiation (MJ/m2)  Rainfall(mm)  \\\n",
       "0     0            -5.2           37                      0.0           0.0   \n",
       "1     1            -5.5           38                      0.0           0.0   \n",
       "2     2            -6.0           39                      0.0           0.0   \n",
       "3     3            -6.2           40                      0.0           0.0   \n",
       "4     4            -6.0           36                      0.0           0.0   \n",
       "\n",
       "   is_Functioning_day  \n",
       "0                True  \n",
       "1                True  \n",
       "2                True  \n",
       "3                True  \n",
       "4                True  "
      ]
     },
     "execution_count": 22,
     "metadata": {},
     "output_type": "execute_result"
    }
   ],
   "source": [
    "y = df['Rented Bike Count']\n",
    "X.head()"
   ]
  },
  {
   "cell_type": "code",
   "execution_count": 23,
   "id": "6b2705c2",
   "metadata": {},
   "outputs": [],
   "source": [
    "#Min Max scaling \n",
    "from sklearn.preprocessing import MinMaxScaler\n",
    "from sklearn.preprocessing import StandardScaler, MinMaxScaler, RobustScaler \n",
    "from sklearn.metrics import r2_score\n",
    "\n",
    "scaler = MinMaxScaler()\n",
    "model=scaler.fit(X)\n",
    "scaled_X=model.transform(X)\n",
    "\n",
    "y = y.values.reshape(-1, 1)\n",
    "model1=scaler.fit(y)\n",
    "scaled_y=model1.transform(y)"
   ]
  },
  {
   "cell_type": "code",
   "execution_count": 24,
   "id": "03cb2e82",
   "metadata": {},
   "outputs": [
    {
     "name": "stdout",
     "output_type": "stream",
     "text": [
      "(7008, 6)\n",
      "(7008, 1)\n",
      "(876, 6)\n",
      "(876, 1)\n",
      "(876, 6)\n",
      "(876, 1)\n"
     ]
    },
    {
     "data": {
      "text/plain": [
       "(None, None)"
      ]
     },
     "execution_count": 24,
     "metadata": {},
     "output_type": "execute_result"
    }
   ],
   "source": [
    "#splitting data into train,validation and test datasets\n",
    "from sklearn.model_selection import train_test_split\n",
    "from sklearn import metrics\n",
    "X_train, X_rem, y_train, y_rem = train_test_split(scaled_X,scaled_y, train_size=0.80,random_state=42)\n",
    "test_size = 0.5\n",
    "X_valid, X_test, y_valid, y_test = train_test_split(X_rem,y_rem, test_size=0.5,random_state=42)\n",
    "print(X_train.shape), print(y_train.shape)\n",
    "print(X_valid.shape), print(y_valid.shape)\n",
    "print(X_test.shape), print(y_test.shape)"
   ]
  },
  {
   "cell_type": "markdown",
   "id": "2e247f94",
   "metadata": {},
   "source": [
    "# PART-2 BEST MODEL - RANDOM FOREST"
   ]
  },
  {
   "cell_type": "code",
   "execution_count": 25,
   "id": "b6ac0ba5",
   "metadata": {},
   "outputs": [
    {
     "name": "stdout",
     "output_type": "stream",
     "text": [
      "MSE: 0.0043232263200587845\n"
     ]
    },
    {
     "data": {
      "text/plain": [
       "0.8564275893162876"
      ]
     },
     "execution_count": 25,
     "metadata": {},
     "output_type": "execute_result"
    }
   ],
   "source": [
    "best_model_feature6 = RandomForestRegressor(n_estimators= 300, max_features= 'log2', max_depth= 22,bootstrap=True)\n",
    "best_model_feature6.fit(X_train,y_train)\n",
    "y_test_pred = best_model_feature6.predict(X_test)\n",
    "mse = mean_squared_error(y_test_pred, y_test)\n",
    "print(\"MSE:\", mse)\n",
    "best_model_feature6.score(X_test, y_test)"
   ]
  },
  {
   "cell_type": "code",
   "execution_count": 26,
   "id": "f7f20e04",
   "metadata": {},
   "outputs": [
    {
     "name": "stdout",
     "output_type": "stream",
     "text": [
      "The mean squared error is 0.0043232263200587845\n",
      "The mean absolute error is 0.0417747560091272\n",
      "The root mean sqaured error is 0.0657512457681129\n"
     ]
    }
   ],
   "source": [
    "#Error on the test dataset\n",
    "y_test_pred = best_model_feature6.predict(X_test)\n",
    "MSE = metrics.mean_squared_error(y_test_pred, y_test)\n",
    "MAE =  metrics.mean_absolute_error(y_test_pred, y_test)\n",
    "RMSE = MSE**0.5\n",
    "print(f\"The mean squared error is {MSE}\")\n",
    "print(f\"The mean absolute error is {MAE}\")\n",
    "print(f\"The root mean sqaured error is {RMSE}\")"
   ]
  },
  {
   "cell_type": "code",
   "execution_count": 27,
   "id": "5eb2d1c1",
   "metadata": {},
   "outputs": [
    {
     "name": "stdout",
     "output_type": "stream",
     "text": [
      "R^2 is 0.8564275893162876\n",
      "RMSE is: 0.0657512457681129\n"
     ]
    },
    {
     "data": {
      "image/png": "[encoded data removed]",
      "text/plain": [
       "<Figure size 640x480 with 1 Axes>"
      ]
     },
     "metadata": {},
     "output_type": "display_data"
    }
   ],
   "source": [
    "plt.scatter(y_test_pred,y_test,color='b')\n",
    "plt.xlabel('Predicted')\n",
    "plt.ylabel('Actual')\n",
    "print(f'R^2 is {best_model_feature6.score(X_test,y_test)}\\nRMSE is: {metrics.mean_squared_error(y_test_pred,y_test,squared=False)}')"
   ]
  },
  {
   "cell_type": "markdown",
   "id": "9a1ef59a",
   "metadata": {},
   "source": [
    "# PART-3 BEST MODEL - DEEP LEARNING"
   ]
  },
  {
   "cell_type": "code",
   "execution_count": 28,
   "id": "d6196da6",
   "metadata": {},
   "outputs": [],
   "source": [
    "X_train, X_test, y_train, y_test = train_test_split(scaled_X,scaled_y, test_size = 0.2, random_state = 1111)"
   ]
  },
  {
   "cell_type": "code",
   "execution_count": 29,
   "id": "0c6b86ea",
   "metadata": {},
   "outputs": [
    {
     "name": "stdout",
     "output_type": "stream",
     "text": [
      "Epoch 1/100\n",
      "176/176 [==============================] - 1s 1ms/step - loss: 0.0179 - mae: 0.0942 - mse: 0.0179 - val_loss: 0.0122 - val_mae: 0.0761 - val_mse: 0.0122\n",
      "Epoch 2/100\n",
      "176/176 [==============================] - 0s 1ms/step - loss: 0.0119 - mae: 0.0742 - mse: 0.0119 - val_loss: 0.0122 - val_mae: 0.0747 - val_mse: 0.0122\n",
      "Epoch 3/100\n",
      "176/176 [==============================] - 0s 1ms/step - loss: 0.0103 - mae: 0.0683 - mse: 0.0103 - val_loss: 0.0093 - val_mae: 0.0634 - val_mse: 0.0093\n",
      "Epoch 4/100\n",
      "176/176 [==============================] - 0s 1ms/step - loss: 0.0091 - mae: 0.0643 - mse: 0.0091 - val_loss: 0.0093 - val_mae: 0.0680 - val_mse: 0.0093\n",
      "Epoch 5/100\n",
      "176/176 [==============================] - 0s 999us/step - loss: 0.0086 - mae: 0.0626 - mse: 0.0086 - val_loss: 0.0077 - val_mae: 0.0601 - val_mse: 0.0077\n",
      "Epoch 6/100\n",
      "176/176 [==============================] - 0s 1ms/step - loss: 0.0080 - mae: 0.0600 - mse: 0.0080 - val_loss: 0.0067 - val_mae: 0.0551 - val_mse: 0.0067\n",
      "Epoch 7/100\n",
      "176/176 [==============================] - 0s 1ms/step - loss: 0.0078 - mae: 0.0588 - mse: 0.0078 - val_loss: 0.0067 - val_mae: 0.0566 - val_mse: 0.0067\n",
      "Epoch 8/100\n",
      "176/176 [==============================] - 0s 1ms/step - loss: 0.0078 - mae: 0.0588 - mse: 0.0078 - val_loss: 0.0098 - val_mae: 0.0727 - val_mse: 0.0098\n",
      "Epoch 9/100\n",
      "176/176 [==============================] - 0s 1ms/step - loss: 0.0074 - mae: 0.0577 - mse: 0.0074 - val_loss: 0.0115 - val_mae: 0.0734 - val_mse: 0.0115\n",
      "Epoch 10/100\n",
      "176/176 [==============================] - 0s 1ms/step - loss: 0.0073 - mae: 0.0575 - mse: 0.0073 - val_loss: 0.0100 - val_mae: 0.0703 - val_mse: 0.0100\n",
      "Epoch 11/100\n",
      "176/176 [==============================] - 0s 1ms/step - loss: 0.0070 - mae: 0.0559 - mse: 0.0070 - val_loss: 0.0077 - val_mae: 0.0605 - val_mse: 0.0077\n",
      "Epoch 12/100\n",
      "176/176 [==============================] - 0s 1ms/step - loss: 0.0070 - mae: 0.0558 - mse: 0.0070 - val_loss: 0.0081 - val_mae: 0.0606 - val_mse: 0.0081\n",
      "Epoch 13/100\n",
      "176/176 [==============================] - 0s 997us/step - loss: 0.0070 - mae: 0.0557 - mse: 0.0070 - val_loss: 0.0072 - val_mae: 0.0602 - val_mse: 0.0072\n",
      "Epoch 14/100\n",
      "176/176 [==============================] - 0s 1ms/step - loss: 0.0069 - mae: 0.0557 - mse: 0.0069 - val_loss: 0.0061 - val_mae: 0.0530 - val_mse: 0.0061\n",
      "Epoch 15/100\n",
      "176/176 [==============================] - 0s 995us/step - loss: 0.0067 - mae: 0.0544 - mse: 0.0067 - val_loss: 0.0087 - val_mae: 0.0614 - val_mse: 0.0087\n",
      "Epoch 16/100\n",
      "176/176 [==============================] - 0s 994us/step - loss: 0.0067 - mae: 0.0547 - mse: 0.0067 - val_loss: 0.0078 - val_mae: 0.0569 - val_mse: 0.0078\n",
      "Epoch 17/100\n",
      "176/176 [==============================] - 0s 999us/step - loss: 0.0066 - mae: 0.0548 - mse: 0.0066 - val_loss: 0.0061 - val_mae: 0.0559 - val_mse: 0.0061\n",
      "Epoch 18/100\n",
      "176/176 [==============================] - 0s 1ms/step - loss: 0.0065 - mae: 0.0535 - mse: 0.0065 - val_loss: 0.0066 - val_mae: 0.0551 - val_mse: 0.0066\n",
      "Epoch 19/100\n",
      "176/176 [==============================] - 0s 998us/step - loss: 0.0063 - mae: 0.0534 - mse: 0.0063 - val_loss: 0.0088 - val_mae: 0.0654 - val_mse: 0.0088\n",
      "Epoch 20/100\n",
      "176/176 [==============================] - 0s 1ms/step - loss: 0.0064 - mae: 0.0532 - mse: 0.0064 - val_loss: 0.0056 - val_mae: 0.0508 - val_mse: 0.0056\n",
      "Epoch 21/100\n",
      "176/176 [==============================] - 0s 1ms/step - loss: 0.0064 - mae: 0.0526 - mse: 0.0064 - val_loss: 0.0075 - val_mae: 0.0595 - val_mse: 0.0075\n",
      "Epoch 22/100\n",
      "176/176 [==============================] - 0s 996us/step - loss: 0.0063 - mae: 0.0526 - mse: 0.0063 - val_loss: 0.0074 - val_mae: 0.0576 - val_mse: 0.0074\n",
      "Epoch 23/100\n",
      "176/176 [==============================] - 0s 1ms/step - loss: 0.0063 - mae: 0.0530 - mse: 0.0063 - val_loss: 0.0073 - val_mae: 0.0565 - val_mse: 0.0073\n",
      "Epoch 24/100\n",
      "176/176 [==============================] - 0s 1ms/step - loss: 0.0062 - mae: 0.0526 - mse: 0.0062 - val_loss: 0.0053 - val_mae: 0.0483 - val_mse: 0.0053\n",
      "Epoch 25/100\n",
      "176/176 [==============================] - 0s 1ms/step - loss: 0.0063 - mae: 0.0527 - mse: 0.0063 - val_loss: 0.0110 - val_mae: 0.0760 - val_mse: 0.0110\n",
      "Epoch 26/100\n",
      "176/176 [==============================] - 0s 1ms/step - loss: 0.0062 - mae: 0.0523 - mse: 0.0062 - val_loss: 0.0067 - val_mae: 0.0574 - val_mse: 0.0067\n",
      "Epoch 27/100\n",
      "176/176 [==============================] - 0s 994us/step - loss: 0.0061 - mae: 0.0520 - mse: 0.0061 - val_loss: 0.0053 - val_mae: 0.0505 - val_mse: 0.0053\n",
      "Epoch 28/100\n",
      "176/176 [==============================] - 0s 1ms/step - loss: 0.0060 - mae: 0.0515 - mse: 0.0060 - val_loss: 0.0058 - val_mae: 0.0532 - val_mse: 0.0058\n",
      "Epoch 29/100\n",
      "176/176 [==============================] - 0s 996us/step - loss: 0.0060 - mae: 0.0512 - mse: 0.0060 - val_loss: 0.0076 - val_mae: 0.0571 - val_mse: 0.0076\n",
      "Epoch 30/100\n",
      "176/176 [==============================] - 0s 997us/step - loss: 0.0059 - mae: 0.0509 - mse: 0.0059 - val_loss: 0.0053 - val_mae: 0.0492 - val_mse: 0.0053\n",
      "Epoch 31/100\n",
      "176/176 [==============================] - 0s 994us/step - loss: 0.0060 - mae: 0.0513 - mse: 0.0060 - val_loss: 0.0049 - val_mae: 0.0462 - val_mse: 0.0049\n",
      "Epoch 32/100\n",
      "176/176 [==============================] - 0s 999us/step - loss: 0.0058 - mae: 0.0505 - mse: 0.0058 - val_loss: 0.0056 - val_mae: 0.0520 - val_mse: 0.0056\n",
      "Epoch 33/100\n",
      "176/176 [==============================] - 0s 1ms/step - loss: 0.0058 - mae: 0.0503 - mse: 0.0058 - val_loss: 0.0054 - val_mae: 0.0496 - val_mse: 0.0054\n",
      "Epoch 34/100\n",
      "176/176 [==============================] - 0s 993us/step - loss: 0.0058 - mae: 0.0502 - mse: 0.0058 - val_loss: 0.0089 - val_mae: 0.0673 - val_mse: 0.0089\n",
      "Epoch 35/100\n",
      "176/176 [==============================] - 0s 1ms/step - loss: 0.0058 - mae: 0.0500 - mse: 0.0058 - val_loss: 0.0053 - val_mae: 0.0490 - val_mse: 0.0053\n",
      "Epoch 36/100\n",
      "176/176 [==============================] - 0s 1ms/step - loss: 0.0058 - mae: 0.0503 - mse: 0.0058 - val_loss: 0.0064 - val_mae: 0.0531 - val_mse: 0.0064\n",
      "Epoch 37/100\n",
      "176/176 [==============================] - 0s 1ms/step - loss: 0.0058 - mae: 0.0500 - mse: 0.0058 - val_loss: 0.0063 - val_mae: 0.0518 - val_mse: 0.0063\n",
      "Epoch 38/100\n",
      "176/176 [==============================] - 0s 1ms/step - loss: 0.0057 - mae: 0.0499 - mse: 0.0057 - val_loss: 0.0061 - val_mae: 0.0523 - val_mse: 0.0061\n",
      "Epoch 39/100\n",
      "176/176 [==============================] - 0s 1ms/step - loss: 0.0057 - mae: 0.0504 - mse: 0.0057 - val_loss: 0.0056 - val_mae: 0.0506 - val_mse: 0.0056\n",
      "Epoch 40/100\n",
      "176/176 [==============================] - 0s 1ms/step - loss: 0.0057 - mae: 0.0501 - mse: 0.0057 - val_loss: 0.0052 - val_mae: 0.0480 - val_mse: 0.0052\n",
      "Epoch 41/100\n",
      "176/176 [==============================] - 0s 993us/step - loss: 0.0057 - mae: 0.0498 - mse: 0.0057 - val_loss: 0.0058 - val_mae: 0.0529 - val_mse: 0.0058\n",
      "Epoch 42/100\n",
      "176/176 [==============================] - 0s 1ms/step - loss: 0.0056 - mae: 0.0495 - mse: 0.0056 - val_loss: 0.0068 - val_mae: 0.0599 - val_mse: 0.0068\n",
      "Epoch 43/100\n",
      "176/176 [==============================] - 0s 1ms/step - loss: 0.0058 - mae: 0.0504 - mse: 0.0058 - val_loss: 0.0062 - val_mae: 0.0529 - val_mse: 0.0062\n",
      "Epoch 44/100\n",
      "176/176 [==============================] - 0s 998us/step - loss: 0.0055 - mae: 0.0487 - mse: 0.0055 - val_loss: 0.0058 - val_mae: 0.0529 - val_mse: 0.0058\n",
      "Epoch 45/100\n",
      "176/176 [==============================] - 0s 1ms/step - loss: 0.0057 - mae: 0.0496 - mse: 0.0057 - val_loss: 0.0066 - val_mae: 0.0542 - val_mse: 0.0066\n",
      "Epoch 46/100\n",
      "176/176 [==============================] - 0s 1ms/step - loss: 0.0055 - mae: 0.0491 - mse: 0.0055 - val_loss: 0.0074 - val_mae: 0.0567 - val_mse: 0.0074\n",
      "Epoch 47/100\n",
      "176/176 [==============================] - 0s 1ms/step - loss: 0.0055 - mae: 0.0491 - mse: 0.0055 - val_loss: 0.0059 - val_mae: 0.0517 - val_mse: 0.0059\n",
      "Epoch 48/100\n",
      "176/176 [==============================] - 0s 993us/step - loss: 0.0055 - mae: 0.0492 - mse: 0.0055 - val_loss: 0.0057 - val_mae: 0.0516 - val_mse: 0.0057\n",
      "Epoch 49/100\n",
      "176/176 [==============================] - 0s 1ms/step - loss: 0.0055 - mae: 0.0491 - mse: 0.0055 - val_loss: 0.0065 - val_mae: 0.0531 - val_mse: 0.0065\n",
      "Epoch 50/100\n"
     ]
    },
    {
     "name": "stdout",
     "output_type": "stream",
     "text": [
      "176/176 [==============================] - 0s 993us/step - loss: 0.0055 - mae: 0.0486 - mse: 0.0055 - val_loss: 0.0066 - val_mae: 0.0548 - val_mse: 0.0066\n",
      "Epoch 51/100\n",
      "176/176 [==============================] - 0s 1ms/step - loss: 0.0054 - mae: 0.0484 - mse: 0.0054 - val_loss: 0.0054 - val_mae: 0.0470 - val_mse: 0.0054\n",
      "Epoch 52/100\n",
      "176/176 [==============================] - 0s 996us/step - loss: 0.0054 - mae: 0.0484 - mse: 0.0054 - val_loss: 0.0056 - val_mae: 0.0494 - val_mse: 0.0056\n",
      "Epoch 53/100\n",
      "176/176 [==============================] - 0s 1ms/step - loss: 0.0054 - mae: 0.0488 - mse: 0.0054 - val_loss: 0.0060 - val_mae: 0.0501 - val_mse: 0.0060\n",
      "Epoch 54/100\n",
      "176/176 [==============================] - 0s 993us/step - loss: 0.0054 - mae: 0.0485 - mse: 0.0054 - val_loss: 0.0061 - val_mae: 0.0515 - val_mse: 0.0061\n",
      "Epoch 55/100\n",
      "176/176 [==============================] - 0s 1ms/step - loss: 0.0054 - mae: 0.0483 - mse: 0.0054 - val_loss: 0.0059 - val_mae: 0.0513 - val_mse: 0.0059\n",
      "Epoch 56/100\n",
      "176/176 [==============================] - 0s 1ms/step - loss: 0.0053 - mae: 0.0481 - mse: 0.0053 - val_loss: 0.0053 - val_mae: 0.0471 - val_mse: 0.0053\n",
      "Epoch 57/100\n",
      "176/176 [==============================] - 0s 1000us/step - loss: 0.0053 - mae: 0.0483 - mse: 0.0053 - val_loss: 0.0061 - val_mae: 0.0540 - val_mse: 0.0061\n",
      "Epoch 58/100\n",
      "176/176 [==============================] - 0s 996us/step - loss: 0.0052 - mae: 0.0476 - mse: 0.0052 - val_loss: 0.0072 - val_mae: 0.0579 - val_mse: 0.0072\n",
      "Epoch 59/100\n",
      "176/176 [==============================] - 0s 1ms/step - loss: 0.0053 - mae: 0.0479 - mse: 0.0053 - val_loss: 0.0050 - val_mae: 0.0476 - val_mse: 0.0050\n",
      "Epoch 60/100\n",
      "176/176 [==============================] - 0s 1ms/step - loss: 0.0053 - mae: 0.0478 - mse: 0.0053 - val_loss: 0.0061 - val_mae: 0.0502 - val_mse: 0.0061\n",
      "Epoch 61/100\n",
      "176/176 [==============================] - 0s 1ms/step - loss: 0.0052 - mae: 0.0480 - mse: 0.0052 - val_loss: 0.0056 - val_mae: 0.0513 - val_mse: 0.0056\n",
      "Epoch 62/100\n",
      "176/176 [==============================] - 0s 999us/step - loss: 0.0051 - mae: 0.0477 - mse: 0.0051 - val_loss: 0.0101 - val_mae: 0.0684 - val_mse: 0.0101\n",
      "Epoch 63/100\n",
      "176/176 [==============================] - 0s 997us/step - loss: 0.0053 - mae: 0.0479 - mse: 0.0053 - val_loss: 0.0055 - val_mae: 0.0480 - val_mse: 0.0055\n",
      "Epoch 64/100\n",
      "176/176 [==============================] - 0s 1ms/step - loss: 0.0052 - mae: 0.0472 - mse: 0.0052 - val_loss: 0.0054 - val_mae: 0.0512 - val_mse: 0.0054\n",
      "Epoch 65/100\n",
      "176/176 [==============================] - 0s 997us/step - loss: 0.0052 - mae: 0.0475 - mse: 0.0052 - val_loss: 0.0054 - val_mae: 0.0486 - val_mse: 0.0054\n",
      "Epoch 66/100\n",
      "176/176 [==============================] - 0s 996us/step - loss: 0.0051 - mae: 0.0473 - mse: 0.0051 - val_loss: 0.0059 - val_mae: 0.0531 - val_mse: 0.0059\n",
      "Epoch 67/100\n",
      "176/176 [==============================] - 0s 998us/step - loss: 0.0052 - mae: 0.0476 - mse: 0.0052 - val_loss: 0.0057 - val_mae: 0.0493 - val_mse: 0.0057\n",
      "Epoch 68/100\n",
      "176/176 [==============================] - 0s 996us/step - loss: 0.0051 - mae: 0.0469 - mse: 0.0051 - val_loss: 0.0055 - val_mae: 0.0500 - val_mse: 0.0055\n",
      "Epoch 69/100\n",
      "176/176 [==============================] - 0s 1ms/step - loss: 0.0052 - mae: 0.0474 - mse: 0.0052 - val_loss: 0.0055 - val_mae: 0.0495 - val_mse: 0.0055\n",
      "Epoch 70/100\n",
      "176/176 [==============================] - 0s 1ms/step - loss: 0.0052 - mae: 0.0471 - mse: 0.0052 - val_loss: 0.0059 - val_mae: 0.0525 - val_mse: 0.0059\n",
      "Epoch 71/100\n",
      "176/176 [==============================] - 0s 995us/step - loss: 0.0053 - mae: 0.0473 - mse: 0.0053 - val_loss: 0.0053 - val_mae: 0.0489 - val_mse: 0.0053\n",
      "Epoch 72/100\n",
      "176/176 [==============================] - 0s 1ms/step - loss: 0.0050 - mae: 0.0470 - mse: 0.0050 - val_loss: 0.0057 - val_mae: 0.0490 - val_mse: 0.0057\n",
      "Epoch 73/100\n",
      "176/176 [==============================] - 0s 1ms/step - loss: 0.0051 - mae: 0.0472 - mse: 0.0051 - val_loss: 0.0058 - val_mae: 0.0526 - val_mse: 0.0058\n",
      "Epoch 74/100\n",
      "176/176 [==============================] - 0s 995us/step - loss: 0.0051 - mae: 0.0472 - mse: 0.0051 - val_loss: 0.0056 - val_mae: 0.0510 - val_mse: 0.0056\n",
      "Epoch 75/100\n",
      "176/176 [==============================] - 0s 993us/step - loss: 0.0051 - mae: 0.0468 - mse: 0.0051 - val_loss: 0.0053 - val_mae: 0.0495 - val_mse: 0.0053\n",
      "Epoch 76/100\n",
      "176/176 [==============================] - 0s 994us/step - loss: 0.0050 - mae: 0.0462 - mse: 0.0050 - val_loss: 0.0054 - val_mae: 0.0494 - val_mse: 0.0054\n",
      "Epoch 77/100\n",
      "176/176 [==============================] - 0s 1ms/step - loss: 0.0049 - mae: 0.0461 - mse: 0.0049 - val_loss: 0.0060 - val_mae: 0.0522 - val_mse: 0.0060\n",
      "Epoch 78/100\n",
      "176/176 [==============================] - 0s 996us/step - loss: 0.0049 - mae: 0.0459 - mse: 0.0049 - val_loss: 0.0051 - val_mae: 0.0469 - val_mse: 0.0051\n",
      "Epoch 79/100\n",
      "176/176 [==============================] - 0s 994us/step - loss: 0.0050 - mae: 0.0465 - mse: 0.0050 - val_loss: 0.0054 - val_mae: 0.0479 - val_mse: 0.0054\n",
      "Epoch 80/100\n",
      "176/176 [==============================] - 0s 1ms/step - loss: 0.0048 - mae: 0.0454 - mse: 0.0048 - val_loss: 0.0062 - val_mae: 0.0538 - val_mse: 0.0062\n",
      "Epoch 81/100\n",
      "176/176 [==============================] - 0s 1ms/step - loss: 0.0049 - mae: 0.0460 - mse: 0.0049 - val_loss: 0.0061 - val_mae: 0.0535 - val_mse: 0.0061\n",
      "Epoch 82/100\n",
      "176/176 [==============================] - 0s 997us/step - loss: 0.0050 - mae: 0.0466 - mse: 0.0050 - val_loss: 0.0053 - val_mae: 0.0501 - val_mse: 0.0053\n",
      "Epoch 83/100\n",
      "176/176 [==============================] - 0s 993us/step - loss: 0.0049 - mae: 0.0458 - mse: 0.0049 - val_loss: 0.0060 - val_mae: 0.0531 - val_mse: 0.0060\n",
      "Epoch 84/100\n",
      "176/176 [==============================] - 0s 996us/step - loss: 0.0049 - mae: 0.0460 - mse: 0.0049 - val_loss: 0.0056 - val_mae: 0.0515 - val_mse: 0.0056\n",
      "Epoch 85/100\n",
      "176/176 [==============================] - 0s 993us/step - loss: 0.0049 - mae: 0.0456 - mse: 0.0049 - val_loss: 0.0062 - val_mae: 0.0526 - val_mse: 0.0062\n",
      "Epoch 86/100\n",
      "176/176 [==============================] - 0s 993us/step - loss: 0.0049 - mae: 0.0463 - mse: 0.0049 - val_loss: 0.0055 - val_mae: 0.0521 - val_mse: 0.0055\n",
      "Epoch 87/100\n",
      "176/176 [==============================] - 0s 993us/step - loss: 0.0050 - mae: 0.0461 - mse: 0.0050 - val_loss: 0.0063 - val_mae: 0.0539 - val_mse: 0.0063\n",
      "Epoch 88/100\n",
      "176/176 [==============================] - 0s 993us/step - loss: 0.0050 - mae: 0.0461 - mse: 0.0050 - val_loss: 0.0063 - val_mae: 0.0534 - val_mse: 0.0063\n",
      "Epoch 89/100\n",
      "176/176 [==============================] - 0s 993us/step - loss: 0.0048 - mae: 0.0454 - mse: 0.0048 - val_loss: 0.0058 - val_mae: 0.0530 - val_mse: 0.0058\n",
      "Epoch 90/100\n",
      "176/176 [==============================] - 0s 994us/step - loss: 0.0049 - mae: 0.0454 - mse: 0.0049 - val_loss: 0.0056 - val_mae: 0.0507 - val_mse: 0.0056\n",
      "Epoch 91/100\n",
      "176/176 [==============================] - 0s 992us/step - loss: 0.0047 - mae: 0.0455 - mse: 0.0047 - val_loss: 0.0057 - val_mae: 0.0500 - val_mse: 0.0057\n",
      "Epoch 92/100\n",
      "176/176 [==============================] - 0s 994us/step - loss: 0.0048 - mae: 0.0456 - mse: 0.0048 - val_loss: 0.0053 - val_mae: 0.0496 - val_mse: 0.0053\n",
      "Epoch 93/100\n",
      "176/176 [==============================] - 0s 993us/step - loss: 0.0048 - mae: 0.0452 - mse: 0.0048 - val_loss: 0.0069 - val_mae: 0.0601 - val_mse: 0.0069\n",
      "Epoch 94/100\n",
      "176/176 [==============================] - 0s 996us/step - loss: 0.0048 - mae: 0.0455 - mse: 0.0048 - val_loss: 0.0060 - val_mae: 0.0503 - val_mse: 0.0060\n",
      "Epoch 95/100\n",
      "176/176 [==============================] - 0s 994us/step - loss: 0.0048 - mae: 0.0451 - mse: 0.0048 - val_loss: 0.0083 - val_mae: 0.0588 - val_mse: 0.0083\n",
      "Epoch 96/100\n",
      "176/176 [==============================] - 0s 993us/step - loss: 0.0046 - mae: 0.0448 - mse: 0.0046 - val_loss: 0.0061 - val_mae: 0.0519 - val_mse: 0.0061\n",
      "Epoch 97/100\n",
      "176/176 [==============================] - 0s 1ms/step - loss: 0.0048 - mae: 0.0454 - mse: 0.0048 - val_loss: 0.0053 - val_mae: 0.0467 - val_mse: 0.0053\n",
      "Epoch 98/100\n",
      "176/176 [==============================] - 0s 1ms/step - loss: 0.0046 - mae: 0.0447 - mse: 0.0046 - val_loss: 0.0059 - val_mae: 0.0538 - val_mse: 0.0059\n",
      "Epoch 99/100\n"
     ]
    },
    {
     "name": "stdout",
     "output_type": "stream",
     "text": [
      "176/176 [==============================] - 0s 1ms/step - loss: 0.0046 - mae: 0.0446 - mse: 0.0046 - val_loss: 0.0056 - val_mae: 0.0499 - val_mse: 0.0056\n",
      "Epoch 100/100\n",
      "176/176 [==============================] - 0s 1ms/step - loss: 0.0047 - mae: 0.0455 - mse: 0.0047 - val_loss: 0.0059 - val_mae: 0.0514 - val_mse: 0.0059\n"
     ]
    }
   ],
   "source": [
    "def build_model3_five_hidden_layers():\n",
    "    \n",
    "    model = Sequential()\n",
    "\n",
    "    model.add(Dense(128, input_shape = (X_train.shape[1],)))    \n",
    "    \n",
    "    model.add(Dense(128,Activation('relu')))                         \n",
    "    \n",
    "    model.add(Dense(128, Activation('relu')))                         \n",
    "    \n",
    "    \n",
    "    model.add(Dense(128, Activation('relu')))                         \n",
    "    \n",
    "    \n",
    "    model.add(Dense(128, Activation('relu')))                         \n",
    "    \n",
    "    \n",
    "    model.add(Dense(128, Activation('relu')))                         \n",
    "\n",
    "    \n",
    "    model.add(Dense(1))                        \n",
    "    learning_rate = 0.001\n",
    "    optimizer = optimizers.RMSprop(learning_rate)\n",
    "    model.compile(loss='mse',\n",
    "                optimizer=optimizer,\n",
    "                metrics=['mae', 'mse']) \n",
    "    \n",
    "    return model\n",
    "\n",
    "model3 = build_model3_five_hidden_layers()\n",
    "\n",
    "history = model3.fit(X_train, y_train, validation_split=0.2, epochs =100)"
   ]
  },
  {
   "cell_type": "code",
   "execution_count": 30,
   "id": "a1c71642",
   "metadata": {},
   "outputs": [
    {
     "name": "stdout",
     "output_type": "stream",
     "text": [
      "55/55 [==============================] - 0s 469us/step\n",
      "The mean squared error is 0.005891546532542553\n",
      "The mean absolute error is 0.05040650052803591\n",
      "The root mean sqaured error is 0.07675641036775073\n"
     ]
    }
   ],
   "source": [
    "y_test_pred = model3.predict(X_test)\n",
    "MSE = metrics.mean_squared_error(y_test_pred, y_test)\n",
    "MAE =  metrics.mean_absolute_error(y_test_pred, y_test)\n",
    "RMSE = MSE**0.5\n",
    "print(f\"The mean squared error is {MSE}\")\n",
    "print(f\"The mean absolute error is {MAE}\")\n",
    "print(f\"The root mean sqaured error is {RMSE}\")"
   ]
  },
  {
   "cell_type": "code",
   "execution_count": 31,
   "id": "67962e13",
   "metadata": {},
   "outputs": [
    {
     "name": "stdout",
     "output_type": "stream",
     "text": [
      "219/219 [==============================] - 0s 472us/step\n"
     ]
    },
    {
     "data": {
      "image/png": "[encoded data removed]",
      "text/plain": [
       "<Figure size 640x480 with 1 Axes>"
      ]
     },
     "metadata": {},
     "output_type": "display_data"
    }
   ],
   "source": [
    "train_predictions = model3.predict(X_train)\n",
    "\n",
    "a = plt.axes(aspect='equal')\n",
    "plt.scatter(y_train, train_predictions)\n",
    "plt.xlabel('True Values')\n",
    "plt.ylabel('Predictions')\n",
    "lims = [0, 1]\n",
    "plt.xlim(lims)\n",
    "plt.ylim(lims)\n",
    "_ = plt.plot(lims, lims)"
   ]
  },
  {
   "cell_type": "code",
   "execution_count": null,
   "id": "63ace5b7",
   "metadata": {},
   "outputs": [],
   "source": []
  }
 ],
 "metadata": {
  "kernelspec": {
   "display_name": "Python 3 (ipykernel)",
   "language": "python",
   "name": "python3"
  },
  "language_info": {
   "codemirror_mode": {
    "name": "ipython",
    "version": 3
   },
   "file_extension": ".py",
   "mimetype": "text/x-python",
   "name": "python",
   "nbconvert_exporter": "python",
   "pygments_lexer": "ipython3",
   "version": "3.9.13"
  }
 },
 "nbformat": 4,
 "nbformat_minor": 5
}
