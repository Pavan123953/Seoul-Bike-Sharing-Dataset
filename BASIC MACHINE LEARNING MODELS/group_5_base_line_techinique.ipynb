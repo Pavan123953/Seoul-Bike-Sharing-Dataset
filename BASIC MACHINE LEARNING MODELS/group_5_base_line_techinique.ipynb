{
 "cells": [
  {
   "cell_type": "code",
   "execution_count": 1,
   "id": "d2410514",
   "metadata": {},
   "outputs": [],
   "source": [
    "import pandas as pd\n",
    "import numpy as np\n",
    "import matplotlib.pyplot as plt\n",
    "import warnings\n",
    "warnings.filterwarnings('ignore')"
   ]
  },
  {
   "cell_type": "code",
   "execution_count": 2,
   "id": "2f6ffa0a",
   "metadata": {},
   "outputs": [],
   "source": [
    "from sklearn.model_selection import train_test_split\n",
    "from sklearn import metrics"
   ]
  },
  {
   "cell_type": "code",
   "execution_count": 3,
   "id": "30a976f7",
   "metadata": {},
   "outputs": [],
   "source": [
    "from sklearn.metrics import r2_score\n",
    "from sklearn.metrics import mean_squared_error\n",
    "from sklearn.metrics import mean_absolute_error"
   ]
  },
  {
   "cell_type": "code",
   "execution_count": 4,
   "id": "271e6d06",
   "metadata": {},
   "outputs": [
    {
     "data": {
      "text/html": [
       "<div>\n",
       "<style scoped>\n",
       "    .dataframe tbody tr th:only-of-type {\n",
       "        vertical-align: middle;\n",
       "    }\n",
       "\n",
       "    .dataframe tbody tr th {\n",
       "        vertical-align: top;\n",
       "    }\n",
       "\n",
       "    .dataframe thead th {\n",
       "        text-align: right;\n",
       "    }\n",
       "</style>\n",
       "<table border=\"1\" class=\"dataframe\">\n",
       "  <thead>\n",
       "    <tr style=\"text-align: right;\">\n",
       "      <th></th>\n",
       "      <th>Unnamed: 0</th>\n",
       "      <th>Rented Bike Count</th>\n",
       "      <th>Hour</th>\n",
       "      <th>Temperature(C)</th>\n",
       "      <th>Humidity(%)</th>\n",
       "      <th>Wind speed (m/s)</th>\n",
       "      <th>Visibility (10m)</th>\n",
       "      <th>Solar Radiation (MJ/m2)</th>\n",
       "      <th>Rainfall(mm)</th>\n",
       "      <th>Snowfall (cm)</th>\n",
       "      <th>is_Winter</th>\n",
       "      <th>is_Spring</th>\n",
       "      <th>is_Summer</th>\n",
       "      <th>is_Autumn</th>\n",
       "      <th>is_Holiday</th>\n",
       "      <th>is_Functioning_day</th>\n",
       "      <th>Month</th>\n",
       "      <th>Day</th>\n",
       "      <th>int_date</th>\n",
       "    </tr>\n",
       "  </thead>\n",
       "  <tbody>\n",
       "    <tr>\n",
       "      <th>0</th>\n",
       "      <td>0</td>\n",
       "      <td>254</td>\n",
       "      <td>0</td>\n",
       "      <td>-5.2</td>\n",
       "      <td>37</td>\n",
       "      <td>2.2</td>\n",
       "      <td>2000</td>\n",
       "      <td>0.0</td>\n",
       "      <td>0.0</td>\n",
       "      <td>0.0</td>\n",
       "      <td>True</td>\n",
       "      <td>False</td>\n",
       "      <td>False</td>\n",
       "      <td>False</td>\n",
       "      <td>False</td>\n",
       "      <td>True</td>\n",
       "      <td>12.0</td>\n",
       "      <td>0</td>\n",
       "      <td>43068.0</td>\n",
       "    </tr>\n",
       "    <tr>\n",
       "      <th>1</th>\n",
       "      <td>1</td>\n",
       "      <td>204</td>\n",
       "      <td>1</td>\n",
       "      <td>-5.5</td>\n",
       "      <td>38</td>\n",
       "      <td>0.8</td>\n",
       "      <td>2000</td>\n",
       "      <td>0.0</td>\n",
       "      <td>0.0</td>\n",
       "      <td>0.0</td>\n",
       "      <td>True</td>\n",
       "      <td>False</td>\n",
       "      <td>False</td>\n",
       "      <td>False</td>\n",
       "      <td>False</td>\n",
       "      <td>True</td>\n",
       "      <td>12.0</td>\n",
       "      <td>0</td>\n",
       "      <td>43068.0</td>\n",
       "    </tr>\n",
       "    <tr>\n",
       "      <th>2</th>\n",
       "      <td>2</td>\n",
       "      <td>173</td>\n",
       "      <td>2</td>\n",
       "      <td>-6.0</td>\n",
       "      <td>39</td>\n",
       "      <td>1.0</td>\n",
       "      <td>2000</td>\n",
       "      <td>0.0</td>\n",
       "      <td>0.0</td>\n",
       "      <td>0.0</td>\n",
       "      <td>True</td>\n",
       "      <td>False</td>\n",
       "      <td>False</td>\n",
       "      <td>False</td>\n",
       "      <td>False</td>\n",
       "      <td>True</td>\n",
       "      <td>12.0</td>\n",
       "      <td>0</td>\n",
       "      <td>43068.0</td>\n",
       "    </tr>\n",
       "    <tr>\n",
       "      <th>3</th>\n",
       "      <td>3</td>\n",
       "      <td>107</td>\n",
       "      <td>3</td>\n",
       "      <td>-6.2</td>\n",
       "      <td>40</td>\n",
       "      <td>0.9</td>\n",
       "      <td>2000</td>\n",
       "      <td>0.0</td>\n",
       "      <td>0.0</td>\n",
       "      <td>0.0</td>\n",
       "      <td>True</td>\n",
       "      <td>False</td>\n",
       "      <td>False</td>\n",
       "      <td>False</td>\n",
       "      <td>False</td>\n",
       "      <td>True</td>\n",
       "      <td>12.0</td>\n",
       "      <td>0</td>\n",
       "      <td>43068.0</td>\n",
       "    </tr>\n",
       "    <tr>\n",
       "      <th>4</th>\n",
       "      <td>4</td>\n",
       "      <td>78</td>\n",
       "      <td>4</td>\n",
       "      <td>-6.0</td>\n",
       "      <td>36</td>\n",
       "      <td>2.3</td>\n",
       "      <td>2000</td>\n",
       "      <td>0.0</td>\n",
       "      <td>0.0</td>\n",
       "      <td>0.0</td>\n",
       "      <td>True</td>\n",
       "      <td>False</td>\n",
       "      <td>False</td>\n",
       "      <td>False</td>\n",
       "      <td>False</td>\n",
       "      <td>True</td>\n",
       "      <td>12.0</td>\n",
       "      <td>0</td>\n",
       "      <td>43068.0</td>\n",
       "    </tr>\n",
       "  </tbody>\n",
       "</table>\n",
       "</div>"
      ],
      "text/plain": [
       "   Unnamed: 0  Rented Bike Count  Hour  Temperature(C)  Humidity(%)  \\\n",
       "0           0                254     0            -5.2           37   \n",
       "1           1                204     1            -5.5           38   \n",
       "2           2                173     2            -6.0           39   \n",
       "3           3                107     3            -6.2           40   \n",
       "4           4                 78     4            -6.0           36   \n",
       "\n",
       "   Wind speed (m/s)  Visibility (10m)  Solar Radiation (MJ/m2)  Rainfall(mm)  \\\n",
       "0               2.2              2000                      0.0           0.0   \n",
       "1               0.8              2000                      0.0           0.0   \n",
       "2               1.0              2000                      0.0           0.0   \n",
       "3               0.9              2000                      0.0           0.0   \n",
       "4               2.3              2000                      0.0           0.0   \n",
       "\n",
       "   Snowfall (cm)  is_Winter  is_Spring  is_Summer  is_Autumn  is_Holiday  \\\n",
       "0            0.0       True      False      False      False       False   \n",
       "1            0.0       True      False      False      False       False   \n",
       "2            0.0       True      False      False      False       False   \n",
       "3            0.0       True      False      False      False       False   \n",
       "4            0.0       True      False      False      False       False   \n",
       "\n",
       "   is_Functioning_day  Month  Day  int_date  \n",
       "0                True   12.0    0   43068.0  \n",
       "1                True   12.0    0   43068.0  \n",
       "2                True   12.0    0   43068.0  \n",
       "3                True   12.0    0   43068.0  \n",
       "4                True   12.0    0   43068.0  "
      ]
     },
     "execution_count": 4,
     "metadata": {},
     "output_type": "execute_result"
    }
   ],
   "source": [
    "df = pd.read_csv(\"Group_5_data_cleaned.csv\")\n",
    "df.head()"
   ]
  },
  {
   "cell_type": "code",
   "execution_count": 5,
   "id": "829a5cbf",
   "metadata": {},
   "outputs": [],
   "source": [
    "df = df.drop(['Unnamed: 0'],axis=1)"
   ]
  },
  {
   "cell_type": "code",
   "execution_count": 6,
   "id": "7275e555",
   "metadata": {},
   "outputs": [],
   "source": [
    "X = df.drop('Rented Bike Count',axis=1)\n",
    "y = df['Rented Bike Count']"
   ]
  },
  {
   "cell_type": "code",
   "execution_count": 7,
   "id": "c9241948",
   "metadata": {},
   "outputs": [],
   "source": [
    "from sklearn.preprocessing import StandardScaler, MinMaxScaler, RobustScaler \n",
    "\n",
    "from sklearn import preprocessing\n",
    "scaler = preprocessing.StandardScaler()\n",
    "model=scaler.fit(X)\n",
    "scaled_X=model.transform(X)\n",
    "\n",
    "y = y.values.reshape(-1, 1)\n",
    "model1=scaler.fit(y)\n",
    "scaled_y=model1.transform(y)"
   ]
  },
  {
   "cell_type": "code",
   "execution_count": 8,
   "id": "b05a347d",
   "metadata": {},
   "outputs": [],
   "source": [
    "X_train_scaled,X_test_scaled,y_train_scaled,y_test_scaled = train_test_split(scaled_X, scaled_y, test_size = 0.3, random_state=42)"
   ]
  },
  {
   "cell_type": "code",
   "execution_count": 9,
   "id": "94210eb9",
   "metadata": {},
   "outputs": [
    {
     "name": "stdout",
     "output_type": "stream",
     "text": [
      "(6132, 17)\n",
      "(6132, 1)\n",
      "(2628, 17)\n",
      "(2628, 1)\n"
     ]
    }
   ],
   "source": [
    "print(X_train_scaled.shape)\n",
    "print(y_train_scaled.shape)\n",
    "print(X_test_scaled.shape)\n",
    "print(y_test_scaled.shape)"
   ]
  },
  {
   "cell_type": "markdown",
   "id": "9d288bc2",
   "metadata": {},
   "source": [
    "# For regression problem the mean serves as good baseline"
   ]
  },
  {
   "cell_type": "code",
   "execution_count": 10,
   "id": "96693009",
   "metadata": {},
   "outputs": [],
   "source": [
    "y_pred=y_train_scaled.mean()"
   ]
  },
  {
   "cell_type": "code",
   "execution_count": 11,
   "id": "83268398",
   "metadata": {},
   "outputs": [
    {
     "data": {
      "text/plain": [
       "0.003152090835502763"
      ]
     },
     "execution_count": 11,
     "metadata": {},
     "output_type": "execute_result"
    }
   ],
   "source": [
    "y_pred"
   ]
  },
  {
   "cell_type": "code",
   "execution_count": 12,
   "id": "a73e5880",
   "metadata": {},
   "outputs": [],
   "source": [
    "y_pred2=[y_pred]*len(y_train_scaled)"
   ]
  },
  {
   "cell_type": "code",
   "execution_count": 13,
   "id": "7cfb6cc7",
   "metadata": {},
   "outputs": [
    {
     "data": {
      "text/plain": [
       "0.8083502899902116"
      ]
     },
     "execution_count": 13,
     "metadata": {},
     "output_type": "execute_result"
    }
   ],
   "source": [
    "#error for training data baseline guess\n",
    "#to calculate mean absolute error\n",
    "\n",
    "mae=mean_absolute_error(y_train_scaled,y_pred2)\n",
    "mae"
   ]
  },
  {
   "cell_type": "code",
   "execution_count": 14,
   "id": "1d0b39d2",
   "metadata": {},
   "outputs": [
    {
     "data": {
      "text/plain": [
       "1.006338294841343"
      ]
     },
     "execution_count": 14,
     "metadata": {},
     "output_type": "execute_result"
    }
   ],
   "source": [
    "#to calculate mean squared error\n",
    "\n",
    "mse=mean_squared_error(y_train_scaled,y_pred2)\n",
    "mse"
   ]
  },
  {
   "cell_type": "markdown",
   "id": "0456d8bd",
   "metadata": {},
   "source": [
    "# Prediction for y_test_scaled"
   ]
  },
  {
   "cell_type": "code",
   "execution_count": 15,
   "id": "0ffc48e5",
   "metadata": {},
   "outputs": [
    {
     "name": "stdout",
     "output_type": "stream",
     "text": [
      "Mean absolute error : 0.8038544185364271\n",
      "Mean squared error : 0.9852437642923174\n"
     ]
    }
   ],
   "source": [
    "y_pred3=[y_pred]*len(y_test_scaled)\n",
    "\n",
    "#to calculate mean absolute error\n",
    "\n",
    "mae=mean_absolute_error(y_test_scaled,y_pred3)\n",
    "print(\"Mean absolute error :\",mae)\n",
    "\n",
    "#to calculate mean squared error\n",
    "\n",
    "mse=mean_squared_error(y_test_scaled,y_pred3)\n",
    "print(\"Mean squared error :\",mse)"
   ]
  },
  {
   "cell_type": "code",
   "execution_count": null,
   "id": "bea601ad",
   "metadata": {},
   "outputs": [],
   "source": []
  },
  {
   "cell_type": "code",
   "execution_count": null,
   "id": "667ea14d",
   "metadata": {},
   "outputs": [],
   "source": []
  }
 ],
 "metadata": {
  "kernelspec": {
   "display_name": "Python 3 (ipykernel)",
   "language": "python",
   "name": "python3"
  },
  "language_info": {
   "codemirror_mode": {
    "name": "ipython",
    "version": 3
   },
   "file_extension": ".py",
   "mimetype": "text/x-python",
   "name": "python",
   "nbconvert_exporter": "python",
   "pygments_lexer": "ipython3",
   "version": "3.9.13"
  }
 },
 "nbformat": 4,
 "nbformat_minor": 5
}
