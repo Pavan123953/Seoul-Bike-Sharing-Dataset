{
 "cells": [
  {
   "cell_type": "code",
   "execution_count": 1,
   "id": "9e773b83",
   "metadata": {},
   "outputs": [],
   "source": [
    "import pandas as pd\n",
    "import numpy as np\n",
    "import matplotlib.pyplot as plt\n",
    "import seaborn as sns\n",
    "import pickle\n",
    "import warnings\n",
    "warnings.filterwarnings('ignore')"
   ]
  },
  {
   "cell_type": "code",
   "execution_count": 2,
   "id": "ca82cd16",
   "metadata": {},
   "outputs": [],
   "source": [
    "from sklearn.neighbors import KNeighborsRegressor\n",
    "from sklearn.model_selection import train_test_split\n",
    "from sklearn import metrics"
   ]
  },
  {
   "cell_type": "code",
   "execution_count": 3,
   "id": "28f4454d",
   "metadata": {},
   "outputs": [
    {
     "data": {
      "text/html": [
       "<div>\n",
       "<style scoped>\n",
       "    .dataframe tbody tr th:only-of-type {\n",
       "        vertical-align: middle;\n",
       "    }\n",
       "\n",
       "    .dataframe tbody tr th {\n",
       "        vertical-align: top;\n",
       "    }\n",
       "\n",
       "    .dataframe thead th {\n",
       "        text-align: right;\n",
       "    }\n",
       "</style>\n",
       "<table border=\"1\" class=\"dataframe\">\n",
       "  <thead>\n",
       "    <tr style=\"text-align: right;\">\n",
       "      <th></th>\n",
       "      <th>Unnamed: 0</th>\n",
       "      <th>Rented Bike Count</th>\n",
       "      <th>Hour</th>\n",
       "      <th>Temperature(C)</th>\n",
       "      <th>Humidity(%)</th>\n",
       "      <th>Wind speed (m/s)</th>\n",
       "      <th>Visibility (10m)</th>\n",
       "      <th>Solar Radiation (MJ/m2)</th>\n",
       "      <th>Rainfall(mm)</th>\n",
       "      <th>Snowfall (cm)</th>\n",
       "      <th>is_Winter</th>\n",
       "      <th>is_Spring</th>\n",
       "      <th>is_Summer</th>\n",
       "      <th>is_Autumn</th>\n",
       "      <th>is_Holiday</th>\n",
       "      <th>is_Functioning_day</th>\n",
       "      <th>Month</th>\n",
       "      <th>Day</th>\n",
       "      <th>int_date</th>\n",
       "    </tr>\n",
       "  </thead>\n",
       "  <tbody>\n",
       "    <tr>\n",
       "      <th>0</th>\n",
       "      <td>0</td>\n",
       "      <td>254</td>\n",
       "      <td>0</td>\n",
       "      <td>-5.2</td>\n",
       "      <td>37</td>\n",
       "      <td>2.2</td>\n",
       "      <td>2000</td>\n",
       "      <td>0.0</td>\n",
       "      <td>0.0</td>\n",
       "      <td>0.0</td>\n",
       "      <td>True</td>\n",
       "      <td>False</td>\n",
       "      <td>False</td>\n",
       "      <td>False</td>\n",
       "      <td>False</td>\n",
       "      <td>True</td>\n",
       "      <td>12.0</td>\n",
       "      <td>0</td>\n",
       "      <td>43068.0</td>\n",
       "    </tr>\n",
       "    <tr>\n",
       "      <th>1</th>\n",
       "      <td>1</td>\n",
       "      <td>204</td>\n",
       "      <td>1</td>\n",
       "      <td>-5.5</td>\n",
       "      <td>38</td>\n",
       "      <td>0.8</td>\n",
       "      <td>2000</td>\n",
       "      <td>0.0</td>\n",
       "      <td>0.0</td>\n",
       "      <td>0.0</td>\n",
       "      <td>True</td>\n",
       "      <td>False</td>\n",
       "      <td>False</td>\n",
       "      <td>False</td>\n",
       "      <td>False</td>\n",
       "      <td>True</td>\n",
       "      <td>12.0</td>\n",
       "      <td>0</td>\n",
       "      <td>43068.0</td>\n",
       "    </tr>\n",
       "    <tr>\n",
       "      <th>2</th>\n",
       "      <td>2</td>\n",
       "      <td>173</td>\n",
       "      <td>2</td>\n",
       "      <td>-6.0</td>\n",
       "      <td>39</td>\n",
       "      <td>1.0</td>\n",
       "      <td>2000</td>\n",
       "      <td>0.0</td>\n",
       "      <td>0.0</td>\n",
       "      <td>0.0</td>\n",
       "      <td>True</td>\n",
       "      <td>False</td>\n",
       "      <td>False</td>\n",
       "      <td>False</td>\n",
       "      <td>False</td>\n",
       "      <td>True</td>\n",
       "      <td>12.0</td>\n",
       "      <td>0</td>\n",
       "      <td>43068.0</td>\n",
       "    </tr>\n",
       "    <tr>\n",
       "      <th>3</th>\n",
       "      <td>3</td>\n",
       "      <td>107</td>\n",
       "      <td>3</td>\n",
       "      <td>-6.2</td>\n",
       "      <td>40</td>\n",
       "      <td>0.9</td>\n",
       "      <td>2000</td>\n",
       "      <td>0.0</td>\n",
       "      <td>0.0</td>\n",
       "      <td>0.0</td>\n",
       "      <td>True</td>\n",
       "      <td>False</td>\n",
       "      <td>False</td>\n",
       "      <td>False</td>\n",
       "      <td>False</td>\n",
       "      <td>True</td>\n",
       "      <td>12.0</td>\n",
       "      <td>0</td>\n",
       "      <td>43068.0</td>\n",
       "    </tr>\n",
       "    <tr>\n",
       "      <th>4</th>\n",
       "      <td>4</td>\n",
       "      <td>78</td>\n",
       "      <td>4</td>\n",
       "      <td>-6.0</td>\n",
       "      <td>36</td>\n",
       "      <td>2.3</td>\n",
       "      <td>2000</td>\n",
       "      <td>0.0</td>\n",
       "      <td>0.0</td>\n",
       "      <td>0.0</td>\n",
       "      <td>True</td>\n",
       "      <td>False</td>\n",
       "      <td>False</td>\n",
       "      <td>False</td>\n",
       "      <td>False</td>\n",
       "      <td>True</td>\n",
       "      <td>12.0</td>\n",
       "      <td>0</td>\n",
       "      <td>43068.0</td>\n",
       "    </tr>\n",
       "  </tbody>\n",
       "</table>\n",
       "</div>"
      ],
      "text/plain": [
       "   Unnamed: 0  Rented Bike Count  Hour  Temperature(C)  Humidity(%)  \\\n",
       "0           0                254     0            -5.2           37   \n",
       "1           1                204     1            -5.5           38   \n",
       "2           2                173     2            -6.0           39   \n",
       "3           3                107     3            -6.2           40   \n",
       "4           4                 78     4            -6.0           36   \n",
       "\n",
       "   Wind speed (m/s)  Visibility (10m)  Solar Radiation (MJ/m2)  Rainfall(mm)  \\\n",
       "0               2.2              2000                      0.0           0.0   \n",
       "1               0.8              2000                      0.0           0.0   \n",
       "2               1.0              2000                      0.0           0.0   \n",
       "3               0.9              2000                      0.0           0.0   \n",
       "4               2.3              2000                      0.0           0.0   \n",
       "\n",
       "   Snowfall (cm)  is_Winter  is_Spring  is_Summer  is_Autumn  is_Holiday  \\\n",
       "0            0.0       True      False      False      False       False   \n",
       "1            0.0       True      False      False      False       False   \n",
       "2            0.0       True      False      False      False       False   \n",
       "3            0.0       True      False      False      False       False   \n",
       "4            0.0       True      False      False      False       False   \n",
       "\n",
       "   is_Functioning_day  Month  Day  int_date  \n",
       "0                True   12.0    0   43068.0  \n",
       "1                True   12.0    0   43068.0  \n",
       "2                True   12.0    0   43068.0  \n",
       "3                True   12.0    0   43068.0  \n",
       "4                True   12.0    0   43068.0  "
      ]
     },
     "execution_count": 3,
     "metadata": {},
     "output_type": "execute_result"
    }
   ],
   "source": [
    "df = pd.read_csv(\"Group_5_data_cleaned.csv\")\n",
    "df.head()"
   ]
  },
  {
   "cell_type": "code",
   "execution_count": 4,
   "id": "c229ea81",
   "metadata": {},
   "outputs": [],
   "source": [
    "df = df.drop(['Unnamed: 0'],axis=1)"
   ]
  },
  {
   "cell_type": "code",
   "execution_count": 5,
   "id": "3ece36a9",
   "metadata": {},
   "outputs": [],
   "source": [
    "X = df.drop('Rented Bike Count',axis=1)\n",
    "y = df['Rented Bike Count']"
   ]
  },
  {
   "cell_type": "code",
   "execution_count": 6,
   "id": "5c3b76b1",
   "metadata": {},
   "outputs": [],
   "source": [
    "#Min Max scaling \n",
    "from sklearn.preprocessing import MinMaxScaler\n",
    "from sklearn.preprocessing import StandardScaler, MinMaxScaler, RobustScaler \n",
    "from sklearn.metrics import r2_score\n",
    "\n",
    "scaler = MinMaxScaler()\n",
    "model=scaler.fit(X)\n",
    "scaled_X=model.transform(X)\n",
    "\n",
    "y = y.values.reshape(-1, 1)\n",
    "model1=scaler.fit(y)\n",
    "scaled_y=model1.transform(y)"
   ]
  },
  {
   "cell_type": "code",
   "execution_count": 7,
   "id": "d46b2fb9",
   "metadata": {},
   "outputs": [],
   "source": [
    "#splitting data into train,validation and test datasets\n",
    "X_train, X_rem, y_train, y_rem = train_test_split(scaled_X,scaled_y, train_size=0.80,random_state=42)"
   ]
  },
  {
   "cell_type": "code",
   "execution_count": 8,
   "id": "3ae9234f",
   "metadata": {},
   "outputs": [],
   "source": [
    "test_size = 0.5\n",
    "X_valid, X_test, y_valid, y_test = train_test_split(X_rem,y_rem, test_size=0.5,random_state=42)"
   ]
  },
  {
   "cell_type": "code",
   "execution_count": 9,
   "id": "d894388d",
   "metadata": {},
   "outputs": [
    {
     "name": "stdout",
     "output_type": "stream",
     "text": [
      "(7008, 17)\n",
      "(7008, 1)\n",
      "(876, 17)\n",
      "(876, 1)\n",
      "(876, 17)\n",
      "(876, 1)\n"
     ]
    },
    {
     "data": {
      "text/plain": [
       "(None, None)"
      ]
     },
     "execution_count": 9,
     "metadata": {},
     "output_type": "execute_result"
    }
   ],
   "source": [
    "# shapes of train,validation and  test split\n",
    "print(X_train.shape), print(y_train.shape)\n",
    "print(X_valid.shape), print(y_valid.shape)\n",
    "print(X_test.shape), print(y_test.shape)"
   ]
  },
  {
   "cell_type": "code",
   "execution_count": 10,
   "id": "fe658d3c",
   "metadata": {},
   "outputs": [
    {
     "data": {
      "text/plain": [
       "KNeighborsRegressor(n_neighbors=7)"
      ]
     },
     "execution_count": 10,
     "metadata": {},
     "output_type": "execute_result"
    }
   ],
   "source": [
    "kneighbor_regression = KNeighborsRegressor(n_neighbors=7)\n",
    "kneighbor_regression.fit(X_train, y_train)"
   ]
  },
  {
   "cell_type": "code",
   "execution_count": 11,
   "id": "750d1dbf",
   "metadata": {},
   "outputs": [],
   "source": [
    "y_pred_test = kneighbor_regression.predict(X_test)"
   ]
  },
  {
   "cell_type": "code",
   "execution_count": 12,
   "id": "b633c687",
   "metadata": {},
   "outputs": [
    {
     "name": "stdout",
     "output_type": "stream",
     "text": [
      "MSE: 0.005507682254778643\n"
     ]
    }
   ],
   "source": [
    "from sklearn.metrics import mean_squared_error\n",
    "mse = mean_squared_error(y_pred_test, y_test)\n",
    "print(\"MSE:\", mse)"
   ]
  },
  {
   "cell_type": "code",
   "execution_count": 13,
   "id": "f1fd6cde",
   "metadata": {},
   "outputs": [
    {
     "data": {
      "text/plain": [
       "0.817092337976948"
      ]
     },
     "execution_count": 13,
     "metadata": {},
     "output_type": "execute_result"
    }
   ],
   "source": [
    "kneighbor_regression.score(X_test, y_test)"
   ]
  },
  {
   "cell_type": "code",
   "execution_count": 14,
   "id": "62b8d9e7",
   "metadata": {},
   "outputs": [
    {
     "name": "stdout",
     "output_type": "stream",
     "text": [
      "The mean squared error is 0.003874529568317226\n",
      "The mean absolute error is 0.03940773571050683\n",
      "The root mean sqaured error is 0.06224571927704929\n"
     ]
    }
   ],
   "source": [
    "y_train_pred = kneighbor_regression.predict(X_train)\n",
    "MSE = metrics.mean_squared_error(y_train_pred, y_train)\n",
    "MAE =  metrics.mean_absolute_error(y_train_pred, y_train)\n",
    "RMSE = MSE**0.5\n",
    "print(f\"The mean squared error is {MSE}\")\n",
    "print(f\"The mean absolute error is {MAE}\")\n",
    "print(f\"The root mean sqaured error is {RMSE}\")"
   ]
  },
  {
   "cell_type": "code",
   "execution_count": 15,
   "id": "78aeb2b5",
   "metadata": {},
   "outputs": [
    {
     "name": "stdout",
     "output_type": "stream",
     "text": [
      "The mean squared error is 0.006463276424127586\n",
      "The mean absolute error is 0.05023862905101638\n",
      "The root mean sqaured error is 0.08039450493738727\n"
     ]
    }
   ],
   "source": [
    "y_valid_pred = kneighbor_regression.predict(X_valid)\n",
    "MSE = metrics.mean_squared_error(y_valid_pred, y_valid)\n",
    "MAE =  metrics.mean_absolute_error(y_valid_pred, y_valid)\n",
    "RMSE = MSE**0.5\n",
    "print(f\"The mean squared error is {MSE}\")\n",
    "print(f\"The mean absolute error is {MAE}\")\n",
    "print(f\"The root mean sqaured error is {RMSE}\")"
   ]
  },
  {
   "cell_type": "code",
   "execution_count": 16,
   "id": "d5f841cb",
   "metadata": {},
   "outputs": [
    {
     "data": {
      "image/png": "[encoded data removed]",
      "text/plain": [
       "<Figure size 800x600 with 1 Axes>"
      ]
     },
     "metadata": {},
     "output_type": "display_data"
    }
   ],
   "source": [
    "k_values = []\n",
    "mse_error = []\n",
    "\n",
    "for k in range(1, 50, 2):\n",
    "    model = KNeighborsRegressor(n_neighbors = k)\n",
    "    model.fit(X_train, y_train)\n",
    "    y_valid_pred = model.predict(X_valid)\n",
    "    mse_error.append(metrics.mean_squared_error(y_valid_pred, y_valid))\n",
    "    k_values.append(k)\n",
    "\n",
    "\n",
    "plt.figure(figsize = (8, 6))\n",
    "\n",
    "plt.plot(k_values, mse_error, marker = \"o\")\n",
    "plt.title(\"mean squared error on the Validation Data\")\n",
    "plt.xlabel(\"k\")\n",
    "plt.ylabel(\"MSE\")\n",
    "plt.xticks(k_values)\n",
    "plt.grid();"
   ]
  },
  {
   "cell_type": "markdown",
   "id": "55e4d296",
   "metadata": {},
   "source": [
    "# We got least MSE at k=5"
   ]
  },
  {
   "cell_type": "code",
   "execution_count": 17,
   "id": "730df638",
   "metadata": {},
   "outputs": [
    {
     "name": "stdout",
     "output_type": "stream",
     "text": [
      "The mean squared error is 0.005507682254778643\n",
      "The mean absolute error is 0.047969969996411906\n",
      "The root mean sqaured error is 0.07421376054869235\n"
     ]
    }
   ],
   "source": [
    "y_test_pred = kneighbor_regression.predict(X_test)\n",
    "MSE = metrics.mean_squared_error(y_test_pred, y_test)\n",
    "MAE =  metrics.mean_absolute_error(y_test_pred, y_test)\n",
    "RMSE = MSE**0.5\n",
    "print(f\"The mean squared error is {MSE}\")\n",
    "print(f\"The mean absolute error is {MAE}\")\n",
    "print(f\"The root mean sqaured error is {RMSE}\")"
   ]
  },
  {
   "cell_type": "code",
   "execution_count": 18,
   "id": "037951e6",
   "metadata": {},
   "outputs": [
    {
     "name": "stdout",
     "output_type": "stream",
     "text": [
      "R^2 is 0.817092337976948\n",
      "RMSE is: 0.07421376054869235\n"
     ]
    },
    {
     "data": {
      "image/png": "[encoded data removed]",
      "text/plain": [
       "<Figure size 640x480 with 1 Axes>"
      ]
     },
     "metadata": {},
     "output_type": "display_data"
    }
   ],
   "source": [
    "plt.scatter(y_test_pred,y_test,color='b')\n",
    "plt.xlabel('Predicted')\n",
    "plt.ylabel('Actual')\n",
    "print(f'R^2 is {kneighbor_regression.score(X_test,y_test)}\\nRMSE is: {metrics.mean_squared_error(y_test_pred,y_test,squared=False)}')"
   ]
  },
  {
   "cell_type": "code",
   "execution_count": 19,
   "id": "4a68b466",
   "metadata": {},
   "outputs": [
    {
     "data": {
      "image/png": "[encoded data removed]",
      "text/plain": [
       "<Figure size 640x480 with 1 Axes>"
      ]
     },
     "metadata": {},
     "output_type": "display_data"
    }
   ],
   "source": [
    "plt.plot(X_test[:,0], y_test, 'o', label=\"data\", markersize=2)\n",
    "plt.plot(X_test[:,0], y_test_pred, 's', label=\"prediction\", markersize=2)\n",
    "plt.legend(loc='best');"
   ]
  },
  {
   "cell_type": "markdown",
   "id": "44722b30",
   "metadata": {},
   "source": [
    "# Finding best parameters using randomized search"
   ]
  },
  {
   "cell_type": "code",
   "execution_count": 20,
   "id": "15e54022",
   "metadata": {},
   "outputs": [],
   "source": [
    "from sklearn.model_selection import cross_val_score, GridSearchCV, RandomizedSearchCV"
   ]
  },
  {
   "cell_type": "code",
   "execution_count": 21,
   "id": "12e1a44f",
   "metadata": {},
   "outputs": [
    {
     "data": {
      "text/plain": [
       "array([0.7960432 , 0.80970432, 0.81559943, 0.8090781 , 0.802529  ])"
      ]
     },
     "execution_count": 21,
     "metadata": {},
     "output_type": "execute_result"
    }
   ],
   "source": [
    "cv_scores = cross_val_score(KNeighborsRegressor(n_neighbors=10), \n",
    "                            X_train, \n",
    "                            y_train, \n",
    "                            cv=5, # no shuffle, stratified for classifiers, default value 5\n",
    "                            #cv=KFold(n_splits=5, shuffle=True), \n",
    "                            #cv=StratifiedKFold(n_splits=5, shuffle=True),\n",
    "                            #cv=RepeatedKFold(n_splits=5, n_repeats=3),\n",
    "                            )\n",
    "\n",
    "cv_scores"
   ]
  },
  {
   "cell_type": "code",
   "execution_count": 22,
   "id": "2a126393",
   "metadata": {},
   "outputs": [
    {
     "data": {
      "text/plain": [
       "0.8405423653491066"
      ]
     },
     "execution_count": 22,
     "metadata": {},
     "output_type": "execute_result"
    }
   ],
   "source": [
    "rs = RandomizedSearchCV(estimator = KNeighborsRegressor(),\n",
    "                        param_distributions = {\"n_neighbors\": range(1,25),\n",
    "                                               \"weights\": ['uniform', 'distance'],\n",
    "                                               \"p\": [1,2]},\n",
    "                        cv=5,\n",
    "                        n_iter=10)\n",
    "\n",
    "rs.fit(X_train, y_train)\n",
    "\n",
    "rs.best_score_"
   ]
  },
  {
   "cell_type": "code",
   "execution_count": 23,
   "id": "69f0325f",
   "metadata": {},
   "outputs": [
    {
     "data": {
      "text/plain": [
       "{'weights': 'uniform', 'p': 1, 'n_neighbors': 2}"
      ]
     },
     "execution_count": 23,
     "metadata": {},
     "output_type": "execute_result"
    }
   ],
   "source": [
    "rs.best_params_"
   ]
  },
  {
   "cell_type": "code",
   "execution_count": 24,
   "id": "ccef026b",
   "metadata": {},
   "outputs": [],
   "source": [
    "best_rs = KNeighborsRegressor(weights= 'distance', p= 1, n_neighbors= 5)\n",
    "best_rs.fit(X_train,y_train)\n",
    "filename = 'knnregressor.pkl'\n",
    "pickle.dump(best_rs, open(filename, 'wb'))"
   ]
  },
  {
   "cell_type": "code",
   "execution_count": 25,
   "id": "9eb959ee",
   "metadata": {},
   "outputs": [
    {
     "name": "stdout",
     "output_type": "stream",
     "text": [
      "The mean squared error is 0.0049692085498304036\n",
      "The mean absolute error is 0.0423351692258498\n",
      "The root mean sqaured error is 0.07049261344162525\n"
     ]
    }
   ],
   "source": [
    "#rs best model on validation set \n",
    "y_valid_pred =  best_rs.predict(X_valid)\n",
    "MSE = metrics.mean_squared_error(y_valid_pred, y_valid)\n",
    "MAE =  metrics.mean_absolute_error(y_valid_pred, y_valid)\n",
    "RMSE = MSE**0.5\n",
    "print(f\"The mean squared error is {MSE}\")\n",
    "print(f\"The mean absolute error is {MAE}\")\n",
    "print(f\"The root mean sqaured error is {RMSE}\")"
   ]
  },
  {
   "cell_type": "code",
   "execution_count": 26,
   "id": "aeefff22",
   "metadata": {},
   "outputs": [
    {
     "name": "stdout",
     "output_type": "stream",
     "text": [
      "The mean squared error is 0.004170228416998338\n",
      "The mean absolute error is 0.040040763229760315\n",
      "The root mean sqaured error is 0.06457730574279434\n"
     ]
    }
   ],
   "source": [
    "#best model on the test data set\n",
    "y_test_pred = best_rs.predict(X_test)\n",
    "MSE = metrics.mean_squared_error(y_test_pred, y_test)\n",
    "MAE =  metrics.mean_absolute_error(y_test_pred, y_test)\n",
    "RMSE = MSE**0.5\n",
    "print(f\"The mean squared error is {MSE}\")\n",
    "print(f\"The mean absolute error is {MAE}\")\n",
    "print(f\"The root mean sqaured error is {RMSE}\")"
   ]
  },
  {
   "cell_type": "code",
   "execution_count": null,
   "id": "36919686",
   "metadata": {},
   "outputs": [],
   "source": []
  },
  {
   "cell_type": "code",
   "execution_count": null,
   "id": "802f1104",
   "metadata": {},
   "outputs": [],
   "source": []
  }
 ],
 "metadata": {
  "kernelspec": {
   "display_name": "Python 3 (ipykernel)",
   "language": "python",
   "name": "python3"
  },
  "language_info": {
   "codemirror_mode": {
    "name": "ipython",
    "version": 3
   },
   "file_extension": ".py",
   "mimetype": "text/x-python",
   "name": "python",
   "nbconvert_exporter": "python",
   "pygments_lexer": "ipython3",
   "version": "3.9.13"
  }
 },
 "nbformat": 4,
 "nbformat_minor": 5
}
