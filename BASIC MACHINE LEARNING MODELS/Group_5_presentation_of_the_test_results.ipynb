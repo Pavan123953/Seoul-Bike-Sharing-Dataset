{
 "cells": [
  {
   "cell_type": "code",
   "execution_count": 1,
   "id": "dd04f26c",
   "metadata": {},
   "outputs": [],
   "source": [
    "import pandas as pd\n",
    "import numpy as np\n",
    "import matplotlib.pyplot as plt\n",
    "import seaborn as sns\n",
    "import pickle\n",
    "import warnings\n",
    "warnings.filterwarnings('ignore')"
   ]
  },
  {
   "cell_type": "code",
   "execution_count": 2,
   "id": "de2371ba",
   "metadata": {},
   "outputs": [],
   "source": [
    "from sklearn.model_selection import train_test_split\n",
    "from sklearn import metrics"
   ]
  },
  {
   "cell_type": "code",
   "execution_count": 3,
   "id": "23dfa258",
   "metadata": {},
   "outputs": [],
   "source": [
    "from sklearn.metrics import r2_score\n",
    "from sklearn.metrics import mean_squared_error\n",
    "from sklearn.metrics import mean_absolute_error"
   ]
  },
  {
   "cell_type": "markdown",
   "id": "8e35a896",
   "metadata": {},
   "source": [
    "# Load the Linear Regression model"
   ]
  },
  {
   "cell_type": "code",
   "execution_count": 4,
   "id": "62088bec",
   "metadata": {},
   "outputs": [],
   "source": [
    "linear=pickle.load(open('Linearregression.pkl', 'rb'))"
   ]
  },
  {
   "cell_type": "markdown",
   "id": "ab0ada9e",
   "metadata": {},
   "source": [
    "# Load the knn model"
   ]
  },
  {
   "cell_type": "code",
   "execution_count": 5,
   "id": "d15ae3fc",
   "metadata": {},
   "outputs": [],
   "source": [
    "knn = pickle.load(open('knnregressor.pkl', 'rb'))"
   ]
  },
  {
   "cell_type": "markdown",
   "id": "045c62b0",
   "metadata": {},
   "source": [
    "# Load Random forest model"
   ]
  },
  {
   "cell_type": "code",
   "execution_count": 6,
   "id": "8d2b8400",
   "metadata": {},
   "outputs": [],
   "source": [
    "randomforest = pickle.load(open('RandomForestRegressor.pkl', 'rb'))"
   ]
  },
  {
   "cell_type": "markdown",
   "id": "98b45988",
   "metadata": {},
   "source": [
    "# Load Decision Tree model"
   ]
  },
  {
   "cell_type": "code",
   "execution_count": 7,
   "id": "634ef689",
   "metadata": {},
   "outputs": [],
   "source": [
    "decisiontree = pickle.load(open('decisiontreeRegressor.pkl','rb'))"
   ]
  },
  {
   "cell_type": "code",
   "execution_count": 8,
   "id": "1211367c",
   "metadata": {},
   "outputs": [
    {
     "data": {
      "text/html": [
       "<div>\n",
       "<style scoped>\n",
       "    .dataframe tbody tr th:only-of-type {\n",
       "        vertical-align: middle;\n",
       "    }\n",
       "\n",
       "    .dataframe tbody tr th {\n",
       "        vertical-align: top;\n",
       "    }\n",
       "\n",
       "    .dataframe thead th {\n",
       "        text-align: right;\n",
       "    }\n",
       "</style>\n",
       "<table border=\"1\" class=\"dataframe\">\n",
       "  <thead>\n",
       "    <tr style=\"text-align: right;\">\n",
       "      <th></th>\n",
       "      <th>Unnamed: 0</th>\n",
       "      <th>Rented Bike Count</th>\n",
       "      <th>Hour</th>\n",
       "      <th>Temperature(C)</th>\n",
       "      <th>Humidity(%)</th>\n",
       "      <th>Wind speed (m/s)</th>\n",
       "      <th>Visibility (10m)</th>\n",
       "      <th>Solar Radiation (MJ/m2)</th>\n",
       "      <th>Rainfall(mm)</th>\n",
       "      <th>Snowfall (cm)</th>\n",
       "      <th>is_Winter</th>\n",
       "      <th>is_Spring</th>\n",
       "      <th>is_Summer</th>\n",
       "      <th>is_Autumn</th>\n",
       "      <th>is_Holiday</th>\n",
       "      <th>is_Functioning_day</th>\n",
       "      <th>Month</th>\n",
       "      <th>Day</th>\n",
       "      <th>int_date</th>\n",
       "    </tr>\n",
       "  </thead>\n",
       "  <tbody>\n",
       "    <tr>\n",
       "      <th>0</th>\n",
       "      <td>0</td>\n",
       "      <td>254</td>\n",
       "      <td>0</td>\n",
       "      <td>-5.2</td>\n",
       "      <td>37</td>\n",
       "      <td>2.2</td>\n",
       "      <td>2000</td>\n",
       "      <td>0.0</td>\n",
       "      <td>0.0</td>\n",
       "      <td>0.0</td>\n",
       "      <td>True</td>\n",
       "      <td>False</td>\n",
       "      <td>False</td>\n",
       "      <td>False</td>\n",
       "      <td>False</td>\n",
       "      <td>True</td>\n",
       "      <td>12.0</td>\n",
       "      <td>0</td>\n",
       "      <td>43068.0</td>\n",
       "    </tr>\n",
       "    <tr>\n",
       "      <th>1</th>\n",
       "      <td>1</td>\n",
       "      <td>204</td>\n",
       "      <td>1</td>\n",
       "      <td>-5.5</td>\n",
       "      <td>38</td>\n",
       "      <td>0.8</td>\n",
       "      <td>2000</td>\n",
       "      <td>0.0</td>\n",
       "      <td>0.0</td>\n",
       "      <td>0.0</td>\n",
       "      <td>True</td>\n",
       "      <td>False</td>\n",
       "      <td>False</td>\n",
       "      <td>False</td>\n",
       "      <td>False</td>\n",
       "      <td>True</td>\n",
       "      <td>12.0</td>\n",
       "      <td>0</td>\n",
       "      <td>43068.0</td>\n",
       "    </tr>\n",
       "    <tr>\n",
       "      <th>2</th>\n",
       "      <td>2</td>\n",
       "      <td>173</td>\n",
       "      <td>2</td>\n",
       "      <td>-6.0</td>\n",
       "      <td>39</td>\n",
       "      <td>1.0</td>\n",
       "      <td>2000</td>\n",
       "      <td>0.0</td>\n",
       "      <td>0.0</td>\n",
       "      <td>0.0</td>\n",
       "      <td>True</td>\n",
       "      <td>False</td>\n",
       "      <td>False</td>\n",
       "      <td>False</td>\n",
       "      <td>False</td>\n",
       "      <td>True</td>\n",
       "      <td>12.0</td>\n",
       "      <td>0</td>\n",
       "      <td>43068.0</td>\n",
       "    </tr>\n",
       "    <tr>\n",
       "      <th>3</th>\n",
       "      <td>3</td>\n",
       "      <td>107</td>\n",
       "      <td>3</td>\n",
       "      <td>-6.2</td>\n",
       "      <td>40</td>\n",
       "      <td>0.9</td>\n",
       "      <td>2000</td>\n",
       "      <td>0.0</td>\n",
       "      <td>0.0</td>\n",
       "      <td>0.0</td>\n",
       "      <td>True</td>\n",
       "      <td>False</td>\n",
       "      <td>False</td>\n",
       "      <td>False</td>\n",
       "      <td>False</td>\n",
       "      <td>True</td>\n",
       "      <td>12.0</td>\n",
       "      <td>0</td>\n",
       "      <td>43068.0</td>\n",
       "    </tr>\n",
       "    <tr>\n",
       "      <th>4</th>\n",
       "      <td>4</td>\n",
       "      <td>78</td>\n",
       "      <td>4</td>\n",
       "      <td>-6.0</td>\n",
       "      <td>36</td>\n",
       "      <td>2.3</td>\n",
       "      <td>2000</td>\n",
       "      <td>0.0</td>\n",
       "      <td>0.0</td>\n",
       "      <td>0.0</td>\n",
       "      <td>True</td>\n",
       "      <td>False</td>\n",
       "      <td>False</td>\n",
       "      <td>False</td>\n",
       "      <td>False</td>\n",
       "      <td>True</td>\n",
       "      <td>12.0</td>\n",
       "      <td>0</td>\n",
       "      <td>43068.0</td>\n",
       "    </tr>\n",
       "  </tbody>\n",
       "</table>\n",
       "</div>"
      ],
      "text/plain": [
       "   Unnamed: 0  Rented Bike Count  Hour  Temperature(C)  Humidity(%)  \\\n",
       "0           0                254     0            -5.2           37   \n",
       "1           1                204     1            -5.5           38   \n",
       "2           2                173     2            -6.0           39   \n",
       "3           3                107     3            -6.2           40   \n",
       "4           4                 78     4            -6.0           36   \n",
       "\n",
       "   Wind speed (m/s)  Visibility (10m)  Solar Radiation (MJ/m2)  Rainfall(mm)  \\\n",
       "0               2.2              2000                      0.0           0.0   \n",
       "1               0.8              2000                      0.0           0.0   \n",
       "2               1.0              2000                      0.0           0.0   \n",
       "3               0.9              2000                      0.0           0.0   \n",
       "4               2.3              2000                      0.0           0.0   \n",
       "\n",
       "   Snowfall (cm)  is_Winter  is_Spring  is_Summer  is_Autumn  is_Holiday  \\\n",
       "0            0.0       True      False      False      False       False   \n",
       "1            0.0       True      False      False      False       False   \n",
       "2            0.0       True      False      False      False       False   \n",
       "3            0.0       True      False      False      False       False   \n",
       "4            0.0       True      False      False      False       False   \n",
       "\n",
       "   is_Functioning_day  Month  Day  int_date  \n",
       "0                True   12.0    0   43068.0  \n",
       "1                True   12.0    0   43068.0  \n",
       "2                True   12.0    0   43068.0  \n",
       "3                True   12.0    0   43068.0  \n",
       "4                True   12.0    0   43068.0  "
      ]
     },
     "execution_count": 8,
     "metadata": {},
     "output_type": "execute_result"
    }
   ],
   "source": [
    "df = pd.read_csv(\"Group_5_data_cleaned.csv\")\n",
    "df.head()"
   ]
  },
  {
   "cell_type": "code",
   "execution_count": 9,
   "id": "c05b97fe",
   "metadata": {},
   "outputs": [],
   "source": [
    "df = df.drop(['Unnamed: 0'],axis=1)"
   ]
  },
  {
   "cell_type": "code",
   "execution_count": 10,
   "id": "7343106f",
   "metadata": {},
   "outputs": [],
   "source": [
    "X = df.drop('Rented Bike Count',axis=1)\n",
    "y = df['Rented Bike Count']"
   ]
  },
  {
   "cell_type": "code",
   "execution_count": 11,
   "id": "f76405dc",
   "metadata": {},
   "outputs": [],
   "source": [
    "#Min Max scaling \n",
    "from sklearn.preprocessing import MinMaxScaler\n",
    "from sklearn.preprocessing import StandardScaler, MinMaxScaler, RobustScaler \n",
    "from sklearn.metrics import r2_score\n",
    "\n",
    "scaler = MinMaxScaler()\n",
    "model=scaler.fit(X)\n",
    "scaled_X=model.transform(X)\n",
    "\n",
    "y = y.values.reshape(-1, 1)\n",
    "model1=scaler.fit(y)\n",
    "scaled_y=model1.transform(y)"
   ]
  },
  {
   "cell_type": "code",
   "execution_count": 12,
   "id": "a1a62f65",
   "metadata": {},
   "outputs": [],
   "source": [
    "X_train_scaled,X_test_scaled,y_train_scaled,y_test_scaled = train_test_split(scaled_X, scaled_y, test_size = 0.3, random_state=42)"
   ]
  },
  {
   "cell_type": "code",
   "execution_count": 13,
   "id": "b09ce79a",
   "metadata": {},
   "outputs": [
    {
     "name": "stdout",
     "output_type": "stream",
     "text": [
      "(6132, 17)\n",
      "(6132, 1)\n",
      "(2628, 17)\n",
      "(2628, 1)\n"
     ]
    }
   ],
   "source": [
    "print(X_train_scaled.shape)\n",
    "print(y_train_scaled.shape)\n",
    "print(X_test_scaled.shape)\n",
    "print(y_test_scaled.shape)"
   ]
  },
  {
   "cell_type": "code",
   "execution_count": 14,
   "id": "4ae9cf84",
   "metadata": {},
   "outputs": [
    {
     "name": "stdout",
     "output_type": "stream",
     "text": [
      "Model                     MSE       RMSE        MAE    R2_Score\n",
      "-----------------  ----------  ---------  ---------  ----------\n",
      "Linear Regression  0.0148618   0.121909   0.0919881    0.5414\n",
      "KNN                0.00304648  0.0551949  0.0274586    0.905993\n",
      "Random Forest      0.00212708  0.0461202  0.0260161    0.934364\n",
      "Decision Tree      0.00364436  0.0603685  0.0353371    0.887544\n"
     ]
    }
   ],
   "source": [
    "from tabulate import tabulate\n",
    "\n",
    "def metrics(name,x_train,y_test,pred):\n",
    "    MSE=mean_squared_error(y_test,pred)\n",
    "    RMSE=np.sqrt(mean_squared_error(y_test,pred))\n",
    "    MAE = mean_absolute_error(y_test,pred)\n",
    "    R2_Score=r2_score(y_test,pred)\n",
    "    return [name,MSE,RMSE,MAE,R2_Score]\n",
    "\n",
    "\n",
    "header = [\"Model\", \"MSE\",\"RMSE\",\"MAE\",\"R2_Score\"]\n",
    "data=[]\n",
    "data.append(metrics(\"Linear Regression\",X_train_scaled,y_test_scaled,linear.predict(X_test_scaled)))\n",
    "data.append(metrics(\"KNN\",X_train_scaled,y_test_scaled,knn.predict(X_test_scaled)))\n",
    "data.append(metrics(\"Random Forest\",X_train_scaled,y_test_scaled,randomforest.predict(X_test_scaled)))\n",
    "data.append(metrics(\"Decision Tree\",X_train_scaled,y_test_scaled,decisiontree.predict(X_test_scaled)))\n",
    "print(tabulate(data, headers=header))"
   ]
  },
  {
   "cell_type": "markdown",
   "id": "ab8932c6",
   "metadata": {},
   "source": [
    "# Base Line Technique"
   ]
  },
  {
   "cell_type": "code",
   "execution_count": 15,
   "id": "7af58804",
   "metadata": {},
   "outputs": [
    {
     "data": {
      "text/html": [
       "<div>\n",
       "<style scoped>\n",
       "    .dataframe tbody tr th:only-of-type {\n",
       "        vertical-align: middle;\n",
       "    }\n",
       "\n",
       "    .dataframe tbody tr th {\n",
       "        vertical-align: top;\n",
       "    }\n",
       "\n",
       "    .dataframe thead th {\n",
       "        text-align: right;\n",
       "    }\n",
       "</style>\n",
       "<table border=\"1\" class=\"dataframe\">\n",
       "  <thead>\n",
       "    <tr style=\"text-align: right;\">\n",
       "      <th></th>\n",
       "      <th>Unnamed: 0</th>\n",
       "      <th>Rented Bike Count</th>\n",
       "      <th>Hour</th>\n",
       "      <th>Temperature(C)</th>\n",
       "      <th>Humidity(%)</th>\n",
       "      <th>Wind speed (m/s)</th>\n",
       "      <th>Visibility (10m)</th>\n",
       "      <th>Solar Radiation (MJ/m2)</th>\n",
       "      <th>Rainfall(mm)</th>\n",
       "      <th>Snowfall (cm)</th>\n",
       "      <th>is_Winter</th>\n",
       "      <th>is_Spring</th>\n",
       "      <th>is_Summer</th>\n",
       "      <th>is_Autumn</th>\n",
       "      <th>is_Holiday</th>\n",
       "      <th>is_Functioning_day</th>\n",
       "      <th>Month</th>\n",
       "      <th>Day</th>\n",
       "      <th>int_date</th>\n",
       "    </tr>\n",
       "  </thead>\n",
       "  <tbody>\n",
       "    <tr>\n",
       "      <th>0</th>\n",
       "      <td>0</td>\n",
       "      <td>254</td>\n",
       "      <td>0</td>\n",
       "      <td>-5.2</td>\n",
       "      <td>37</td>\n",
       "      <td>2.2</td>\n",
       "      <td>2000</td>\n",
       "      <td>0.0</td>\n",
       "      <td>0.0</td>\n",
       "      <td>0.0</td>\n",
       "      <td>True</td>\n",
       "      <td>False</td>\n",
       "      <td>False</td>\n",
       "      <td>False</td>\n",
       "      <td>False</td>\n",
       "      <td>True</td>\n",
       "      <td>12.0</td>\n",
       "      <td>0</td>\n",
       "      <td>43068.0</td>\n",
       "    </tr>\n",
       "    <tr>\n",
       "      <th>1</th>\n",
       "      <td>1</td>\n",
       "      <td>204</td>\n",
       "      <td>1</td>\n",
       "      <td>-5.5</td>\n",
       "      <td>38</td>\n",
       "      <td>0.8</td>\n",
       "      <td>2000</td>\n",
       "      <td>0.0</td>\n",
       "      <td>0.0</td>\n",
       "      <td>0.0</td>\n",
       "      <td>True</td>\n",
       "      <td>False</td>\n",
       "      <td>False</td>\n",
       "      <td>False</td>\n",
       "      <td>False</td>\n",
       "      <td>True</td>\n",
       "      <td>12.0</td>\n",
       "      <td>0</td>\n",
       "      <td>43068.0</td>\n",
       "    </tr>\n",
       "    <tr>\n",
       "      <th>2</th>\n",
       "      <td>2</td>\n",
       "      <td>173</td>\n",
       "      <td>2</td>\n",
       "      <td>-6.0</td>\n",
       "      <td>39</td>\n",
       "      <td>1.0</td>\n",
       "      <td>2000</td>\n",
       "      <td>0.0</td>\n",
       "      <td>0.0</td>\n",
       "      <td>0.0</td>\n",
       "      <td>True</td>\n",
       "      <td>False</td>\n",
       "      <td>False</td>\n",
       "      <td>False</td>\n",
       "      <td>False</td>\n",
       "      <td>True</td>\n",
       "      <td>12.0</td>\n",
       "      <td>0</td>\n",
       "      <td>43068.0</td>\n",
       "    </tr>\n",
       "    <tr>\n",
       "      <th>3</th>\n",
       "      <td>3</td>\n",
       "      <td>107</td>\n",
       "      <td>3</td>\n",
       "      <td>-6.2</td>\n",
       "      <td>40</td>\n",
       "      <td>0.9</td>\n",
       "      <td>2000</td>\n",
       "      <td>0.0</td>\n",
       "      <td>0.0</td>\n",
       "      <td>0.0</td>\n",
       "      <td>True</td>\n",
       "      <td>False</td>\n",
       "      <td>False</td>\n",
       "      <td>False</td>\n",
       "      <td>False</td>\n",
       "      <td>True</td>\n",
       "      <td>12.0</td>\n",
       "      <td>0</td>\n",
       "      <td>43068.0</td>\n",
       "    </tr>\n",
       "    <tr>\n",
       "      <th>4</th>\n",
       "      <td>4</td>\n",
       "      <td>78</td>\n",
       "      <td>4</td>\n",
       "      <td>-6.0</td>\n",
       "      <td>36</td>\n",
       "      <td>2.3</td>\n",
       "      <td>2000</td>\n",
       "      <td>0.0</td>\n",
       "      <td>0.0</td>\n",
       "      <td>0.0</td>\n",
       "      <td>True</td>\n",
       "      <td>False</td>\n",
       "      <td>False</td>\n",
       "      <td>False</td>\n",
       "      <td>False</td>\n",
       "      <td>True</td>\n",
       "      <td>12.0</td>\n",
       "      <td>0</td>\n",
       "      <td>43068.0</td>\n",
       "    </tr>\n",
       "  </tbody>\n",
       "</table>\n",
       "</div>"
      ],
      "text/plain": [
       "   Unnamed: 0  Rented Bike Count  Hour  Temperature(C)  Humidity(%)  \\\n",
       "0           0                254     0            -5.2           37   \n",
       "1           1                204     1            -5.5           38   \n",
       "2           2                173     2            -6.0           39   \n",
       "3           3                107     3            -6.2           40   \n",
       "4           4                 78     4            -6.0           36   \n",
       "\n",
       "   Wind speed (m/s)  Visibility (10m)  Solar Radiation (MJ/m2)  Rainfall(mm)  \\\n",
       "0               2.2              2000                      0.0           0.0   \n",
       "1               0.8              2000                      0.0           0.0   \n",
       "2               1.0              2000                      0.0           0.0   \n",
       "3               0.9              2000                      0.0           0.0   \n",
       "4               2.3              2000                      0.0           0.0   \n",
       "\n",
       "   Snowfall (cm)  is_Winter  is_Spring  is_Summer  is_Autumn  is_Holiday  \\\n",
       "0            0.0       True      False      False      False       False   \n",
       "1            0.0       True      False      False      False       False   \n",
       "2            0.0       True      False      False      False       False   \n",
       "3            0.0       True      False      False      False       False   \n",
       "4            0.0       True      False      False      False       False   \n",
       "\n",
       "   is_Functioning_day  Month  Day  int_date  \n",
       "0                True   12.0    0   43068.0  \n",
       "1                True   12.0    0   43068.0  \n",
       "2                True   12.0    0   43068.0  \n",
       "3                True   12.0    0   43068.0  \n",
       "4                True   12.0    0   43068.0  "
      ]
     },
     "execution_count": 15,
     "metadata": {},
     "output_type": "execute_result"
    }
   ],
   "source": [
    "df = pd.read_csv(\"Group_5_data_cleaned.csv\")\n",
    "df.head()"
   ]
  },
  {
   "cell_type": "code",
   "execution_count": 16,
   "id": "e7d26d98",
   "metadata": {},
   "outputs": [],
   "source": [
    "df = df.drop(['Unnamed: 0'],axis=1)"
   ]
  },
  {
   "cell_type": "code",
   "execution_count": 17,
   "id": "34d74993",
   "metadata": {},
   "outputs": [],
   "source": [
    "X = df.drop('Rented Bike Count',axis=1)\n",
    "y = df['Rented Bike Count']"
   ]
  },
  {
   "cell_type": "code",
   "execution_count": 18,
   "id": "8249b662",
   "metadata": {},
   "outputs": [],
   "source": [
    "from sklearn.preprocessing import StandardScaler, MinMaxScaler, RobustScaler \n",
    "\n",
    "from sklearn import preprocessing\n",
    "scaler = preprocessing.StandardScaler()\n",
    "model=scaler.fit(X)\n",
    "scaled_X=model.transform(X)\n",
    "\n",
    "y = y.values.reshape(-1, 1)\n",
    "model1=scaler.fit(y)\n",
    "scaled_y=model1.transform(y)"
   ]
  },
  {
   "cell_type": "code",
   "execution_count": 19,
   "id": "7a7c133e",
   "metadata": {},
   "outputs": [],
   "source": [
    "X_train_scaled,X_test_scaled,y_train_scaled,y_test_scaled = train_test_split(scaled_X, scaled_y, test_size = 0.3, random_state=42)"
   ]
  },
  {
   "cell_type": "code",
   "execution_count": 20,
   "id": "9ac679cb",
   "metadata": {},
   "outputs": [
    {
     "name": "stdout",
     "output_type": "stream",
     "text": [
      "(6132, 17)\n",
      "(6132, 1)\n",
      "(2628, 17)\n",
      "(2628, 1)\n"
     ]
    }
   ],
   "source": [
    "print(X_train_scaled.shape)\n",
    "print(y_train_scaled.shape)\n",
    "print(X_test_scaled.shape)\n",
    "print(y_test_scaled.shape)"
   ]
  },
  {
   "cell_type": "markdown",
   "id": "efbd8fb5",
   "metadata": {},
   "source": [
    "# For regression problem the mean serves as good baseline"
   ]
  },
  {
   "cell_type": "code",
   "execution_count": 21,
   "id": "7ea92aee",
   "metadata": {},
   "outputs": [],
   "source": [
    "y_pred=y_train_scaled.mean()"
   ]
  },
  {
   "cell_type": "code",
   "execution_count": 22,
   "id": "34e15fac",
   "metadata": {},
   "outputs": [
    {
     "data": {
      "text/plain": [
       "0.003152090835502763"
      ]
     },
     "execution_count": 22,
     "metadata": {},
     "output_type": "execute_result"
    }
   ],
   "source": [
    "y_pred"
   ]
  },
  {
   "cell_type": "code",
   "execution_count": 23,
   "id": "2ec95353",
   "metadata": {},
   "outputs": [],
   "source": [
    "y_pred2=[y_pred]*len(y_train_scaled)"
   ]
  },
  {
   "cell_type": "code",
   "execution_count": 24,
   "id": "097ddf68",
   "metadata": {},
   "outputs": [
    {
     "data": {
      "text/plain": [
       "0.8083502899902116"
      ]
     },
     "execution_count": 24,
     "metadata": {},
     "output_type": "execute_result"
    }
   ],
   "source": [
    "#error for training data baseline guess\n",
    "#to calculate mean absolute error\n",
    "\n",
    "mae=mean_absolute_error(y_train_scaled,y_pred2)\n",
    "mae"
   ]
  },
  {
   "cell_type": "code",
   "execution_count": 25,
   "id": "bed94265",
   "metadata": {},
   "outputs": [
    {
     "data": {
      "text/plain": [
       "1.006338294841343"
      ]
     },
     "execution_count": 25,
     "metadata": {},
     "output_type": "execute_result"
    }
   ],
   "source": [
    "#to calculate mean squared error\n",
    "\n",
    "mse=mean_squared_error(y_train_scaled,y_pred2)\n",
    "mse"
   ]
  },
  {
   "cell_type": "markdown",
   "id": "a2cd03d7",
   "metadata": {},
   "source": [
    "# Prediction for y_test_scaled"
   ]
  },
  {
   "cell_type": "code",
   "execution_count": 26,
   "id": "1f1f1282",
   "metadata": {},
   "outputs": [
    {
     "name": "stdout",
     "output_type": "stream",
     "text": [
      "Mean absolute error : 0.8038544185364271\n",
      "Mean squared error : 0.9852437642923174\n"
     ]
    }
   ],
   "source": [
    "y_pred_1=[y_pred]*len(y_test_scaled)\n",
    "\n",
    "#to calculate mean absolute error\n",
    "\n",
    "mae=mean_absolute_error(y_test_scaled,y_pred_1)\n",
    "print(\"Mean absolute error :\",mae)\n",
    "\n",
    "#to calculate mean squared error\n",
    "\n",
    "mse=mean_squared_error(y_test_scaled,y_pred_1)\n",
    "print(\"Mean squared error :\",mse)"
   ]
  },
  {
   "cell_type": "code",
   "execution_count": null,
   "id": "161621bc",
   "metadata": {},
   "outputs": [],
   "source": []
  },
  {
   "cell_type": "code",
   "execution_count": null,
   "id": "39719765",
   "metadata": {},
   "outputs": [],
   "source": []
  }
 ],
 "metadata": {
  "kernelspec": {
   "display_name": "Python 3 (ipykernel)",
   "language": "python",
   "name": "python3"
  },
  "language_info": {
   "codemirror_mode": {
    "name": "ipython",
    "version": 3
   },
   "file_extension": ".py",
   "mimetype": "text/x-python",
   "name": "python",
   "nbconvert_exporter": "python",
   "pygments_lexer": "ipython3",
   "version": "3.9.13"
  }
 },
 "nbformat": 4,
 "nbformat_minor": 5
}
