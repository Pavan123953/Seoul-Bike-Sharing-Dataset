{
 "cells": [
  {
   "cell_type": "code",
   "execution_count": 1,
   "id": "784f91f0",
   "metadata": {},
   "outputs": [],
   "source": [
    "import pandas as pd\n",
    "import numpy as np\n",
    "import matplotlib.pyplot as plt\n",
    "import seaborn as sns\n",
    "import pickle\n",
    "import warnings\n",
    "warnings.filterwarnings('ignore')"
   ]
  },
  {
   "cell_type": "code",
   "execution_count": 2,
   "id": "7255cd8e",
   "metadata": {},
   "outputs": [
    {
     "data": {
      "text/html": [
       "<div>\n",
       "<style scoped>\n",
       "    .dataframe tbody tr th:only-of-type {\n",
       "        vertical-align: middle;\n",
       "    }\n",
       "\n",
       "    .dataframe tbody tr th {\n",
       "        vertical-align: top;\n",
       "    }\n",
       "\n",
       "    .dataframe thead th {\n",
       "        text-align: right;\n",
       "    }\n",
       "</style>\n",
       "<table border=\"1\" class=\"dataframe\">\n",
       "  <thead>\n",
       "    <tr style=\"text-align: right;\">\n",
       "      <th></th>\n",
       "      <th>Unnamed: 0</th>\n",
       "      <th>Rented Bike Count</th>\n",
       "      <th>Hour</th>\n",
       "      <th>Temperature(C)</th>\n",
       "      <th>Humidity(%)</th>\n",
       "      <th>Wind speed (m/s)</th>\n",
       "      <th>Visibility (10m)</th>\n",
       "      <th>Solar Radiation (MJ/m2)</th>\n",
       "      <th>Rainfall(mm)</th>\n",
       "      <th>Snowfall (cm)</th>\n",
       "      <th>is_Winter</th>\n",
       "      <th>is_Spring</th>\n",
       "      <th>is_Summer</th>\n",
       "      <th>is_Autumn</th>\n",
       "      <th>is_Holiday</th>\n",
       "      <th>is_Functioning_day</th>\n",
       "      <th>Month</th>\n",
       "      <th>Day</th>\n",
       "      <th>int_date</th>\n",
       "    </tr>\n",
       "  </thead>\n",
       "  <tbody>\n",
       "    <tr>\n",
       "      <th>0</th>\n",
       "      <td>0</td>\n",
       "      <td>254</td>\n",
       "      <td>0</td>\n",
       "      <td>-5.2</td>\n",
       "      <td>37</td>\n",
       "      <td>2.2</td>\n",
       "      <td>2000</td>\n",
       "      <td>0.0</td>\n",
       "      <td>0.0</td>\n",
       "      <td>0.0</td>\n",
       "      <td>True</td>\n",
       "      <td>False</td>\n",
       "      <td>False</td>\n",
       "      <td>False</td>\n",
       "      <td>False</td>\n",
       "      <td>True</td>\n",
       "      <td>12.0</td>\n",
       "      <td>0</td>\n",
       "      <td>43068.0</td>\n",
       "    </tr>\n",
       "    <tr>\n",
       "      <th>1</th>\n",
       "      <td>1</td>\n",
       "      <td>204</td>\n",
       "      <td>1</td>\n",
       "      <td>-5.5</td>\n",
       "      <td>38</td>\n",
       "      <td>0.8</td>\n",
       "      <td>2000</td>\n",
       "      <td>0.0</td>\n",
       "      <td>0.0</td>\n",
       "      <td>0.0</td>\n",
       "      <td>True</td>\n",
       "      <td>False</td>\n",
       "      <td>False</td>\n",
       "      <td>False</td>\n",
       "      <td>False</td>\n",
       "      <td>True</td>\n",
       "      <td>12.0</td>\n",
       "      <td>0</td>\n",
       "      <td>43068.0</td>\n",
       "    </tr>\n",
       "    <tr>\n",
       "      <th>2</th>\n",
       "      <td>2</td>\n",
       "      <td>173</td>\n",
       "      <td>2</td>\n",
       "      <td>-6.0</td>\n",
       "      <td>39</td>\n",
       "      <td>1.0</td>\n",
       "      <td>2000</td>\n",
       "      <td>0.0</td>\n",
       "      <td>0.0</td>\n",
       "      <td>0.0</td>\n",
       "      <td>True</td>\n",
       "      <td>False</td>\n",
       "      <td>False</td>\n",
       "      <td>False</td>\n",
       "      <td>False</td>\n",
       "      <td>True</td>\n",
       "      <td>12.0</td>\n",
       "      <td>0</td>\n",
       "      <td>43068.0</td>\n",
       "    </tr>\n",
       "    <tr>\n",
       "      <th>3</th>\n",
       "      <td>3</td>\n",
       "      <td>107</td>\n",
       "      <td>3</td>\n",
       "      <td>-6.2</td>\n",
       "      <td>40</td>\n",
       "      <td>0.9</td>\n",
       "      <td>2000</td>\n",
       "      <td>0.0</td>\n",
       "      <td>0.0</td>\n",
       "      <td>0.0</td>\n",
       "      <td>True</td>\n",
       "      <td>False</td>\n",
       "      <td>False</td>\n",
       "      <td>False</td>\n",
       "      <td>False</td>\n",
       "      <td>True</td>\n",
       "      <td>12.0</td>\n",
       "      <td>0</td>\n",
       "      <td>43068.0</td>\n",
       "    </tr>\n",
       "    <tr>\n",
       "      <th>4</th>\n",
       "      <td>4</td>\n",
       "      <td>78</td>\n",
       "      <td>4</td>\n",
       "      <td>-6.0</td>\n",
       "      <td>36</td>\n",
       "      <td>2.3</td>\n",
       "      <td>2000</td>\n",
       "      <td>0.0</td>\n",
       "      <td>0.0</td>\n",
       "      <td>0.0</td>\n",
       "      <td>True</td>\n",
       "      <td>False</td>\n",
       "      <td>False</td>\n",
       "      <td>False</td>\n",
       "      <td>False</td>\n",
       "      <td>True</td>\n",
       "      <td>12.0</td>\n",
       "      <td>0</td>\n",
       "      <td>43068.0</td>\n",
       "    </tr>\n",
       "  </tbody>\n",
       "</table>\n",
       "</div>"
      ],
      "text/plain": [
       "   Unnamed: 0  Rented Bike Count  Hour  Temperature(C)  Humidity(%)  \\\n",
       "0           0                254     0            -5.2           37   \n",
       "1           1                204     1            -5.5           38   \n",
       "2           2                173     2            -6.0           39   \n",
       "3           3                107     3            -6.2           40   \n",
       "4           4                 78     4            -6.0           36   \n",
       "\n",
       "   Wind speed (m/s)  Visibility (10m)  Solar Radiation (MJ/m2)  Rainfall(mm)  \\\n",
       "0               2.2              2000                      0.0           0.0   \n",
       "1               0.8              2000                      0.0           0.0   \n",
       "2               1.0              2000                      0.0           0.0   \n",
       "3               0.9              2000                      0.0           0.0   \n",
       "4               2.3              2000                      0.0           0.0   \n",
       "\n",
       "   Snowfall (cm)  is_Winter  is_Spring  is_Summer  is_Autumn  is_Holiday  \\\n",
       "0            0.0       True      False      False      False       False   \n",
       "1            0.0       True      False      False      False       False   \n",
       "2            0.0       True      False      False      False       False   \n",
       "3            0.0       True      False      False      False       False   \n",
       "4            0.0       True      False      False      False       False   \n",
       "\n",
       "   is_Functioning_day  Month  Day  int_date  \n",
       "0                True   12.0    0   43068.0  \n",
       "1                True   12.0    0   43068.0  \n",
       "2                True   12.0    0   43068.0  \n",
       "3                True   12.0    0   43068.0  \n",
       "4                True   12.0    0   43068.0  "
      ]
     },
     "execution_count": 2,
     "metadata": {},
     "output_type": "execute_result"
    }
   ],
   "source": [
    "df = pd.read_csv(\"Group_5_data_cleaned.csv\")\n",
    "df.head()"
   ]
  },
  {
   "cell_type": "code",
   "execution_count": 3,
   "id": "199c132c",
   "metadata": {},
   "outputs": [],
   "source": [
    "df = df.drop(['Unnamed: 0'],axis=1)"
   ]
  },
  {
   "cell_type": "markdown",
   "id": "23a6f24c",
   "metadata": {},
   "source": [
    "# Data training and testing"
   ]
  },
  {
   "cell_type": "code",
   "execution_count": 4,
   "id": "15a91f9e",
   "metadata": {},
   "outputs": [],
   "source": [
    "from sklearn.model_selection import train_test_split\n",
    "from sklearn.linear_model import LinearRegression\n",
    "from sklearn import metrics"
   ]
  },
  {
   "cell_type": "code",
   "execution_count": 5,
   "id": "24a19495",
   "metadata": {},
   "outputs": [],
   "source": [
    "X = df.drop('Rented Bike Count',axis=1)\n",
    "y = df['Rented Bike Count']"
   ]
  },
  {
   "cell_type": "code",
   "execution_count": 6,
   "id": "7c317c2c",
   "metadata": {},
   "outputs": [],
   "source": [
    "#Min Max scaling \n",
    "from sklearn.preprocessing import MinMaxScaler\n",
    "from sklearn.preprocessing import StandardScaler, MinMaxScaler, RobustScaler \n",
    "from sklearn.metrics import r2_score\n",
    "\n",
    "scaler = MinMaxScaler()\n",
    "model=scaler.fit(X)\n",
    "scaled_X=model.transform(X)\n",
    "\n",
    "y = y.values.reshape(-1, 1)\n",
    "model1=scaler.fit(y)\n",
    "scaled_y=model1.transform(y)"
   ]
  },
  {
   "cell_type": "code",
   "execution_count": 7,
   "id": "c51a78fa",
   "metadata": {},
   "outputs": [],
   "source": [
    "#splitting data into train,validation and test datasets\n",
    "X_train, X_rem, y_train, y_rem = train_test_split(scaled_X,scaled_y, train_size=0.80,random_state=42)"
   ]
  },
  {
   "cell_type": "code",
   "execution_count": 8,
   "id": "b0b62d78",
   "metadata": {},
   "outputs": [],
   "source": [
    "test_size = 0.5\n",
    "X_valid, X_test, y_valid, y_test = train_test_split(X_rem,y_rem, test_size=0.5,random_state=42)"
   ]
  },
  {
   "cell_type": "code",
   "execution_count": 9,
   "id": "a29e0f9e",
   "metadata": {},
   "outputs": [
    {
     "name": "stdout",
     "output_type": "stream",
     "text": [
      "(7008, 17)\n",
      "(7008, 1)\n",
      "(876, 17)\n",
      "(876, 1)\n",
      "(876, 17)\n",
      "(876, 1)\n"
     ]
    },
    {
     "data": {
      "text/plain": [
       "(None, None)"
      ]
     },
     "execution_count": 9,
     "metadata": {},
     "output_type": "execute_result"
    }
   ],
   "source": [
    "# shapes of train,validation and  test split\n",
    "print(X_train.shape), print(y_train.shape)\n",
    "print(X_valid.shape), print(y_valid.shape)\n",
    "print(X_test.shape), print(y_test.shape)"
   ]
  },
  {
   "cell_type": "markdown",
   "id": "22274fc0",
   "metadata": {},
   "source": [
    "fit regression model "
   ]
  },
  {
   "cell_type": "code",
   "execution_count": 10,
   "id": "6aa51047",
   "metadata": {},
   "outputs": [],
   "source": [
    "# Train the linear regression model\n",
    "reg = LinearRegression().fit(X_train, y_train)\n",
    "\n",
    "# Predict the solution for the year 2000-2006\n",
    "y_test_pred = reg.predict(X_test)\n"
   ]
  },
  {
   "cell_type": "code",
   "execution_count": 11,
   "id": "fb674760",
   "metadata": {},
   "outputs": [
    {
     "name": "stdout",
     "output_type": "stream",
     "text": [
      "The mean squared error is 0.016729155088559357\n",
      "The mean absolute error is 0.09702490794482914\n",
      "The root mean sqaured error is 0.12934123506662273\n"
     ]
    }
   ],
   "source": [
    "# validating the model on validation set\n",
    "\n",
    "y_valid_pred = reg.predict(X_valid)\n",
    "MSE = metrics.mean_squared_error(y_valid, y_valid_pred)\n",
    "MAE =  metrics.mean_absolute_error(y_valid, y_valid_pred)\n",
    "RMSE = MSE**0.5\n",
    "print(f\"The mean squared error is {MSE}\")\n",
    "print(f\"The mean absolute error is {MAE}\")\n",
    "print(f\"The root mean sqaured error is {RMSE}\")"
   ]
  },
  {
   "cell_type": "markdown",
   "id": "834e3cc6",
   "metadata": {},
   "source": [
    "# SGD Regressor "
   ]
  },
  {
   "cell_type": "code",
   "execution_count": 12,
   "id": "0c62ade0",
   "metadata": {},
   "outputs": [],
   "source": [
    " from sklearn.linear_model import SGDRegressor"
   ]
  },
  {
   "cell_type": "code",
   "execution_count": 13,
   "id": "885360ed",
   "metadata": {},
   "outputs": [
    {
     "data": {
      "text/plain": [
       "SGDRegressor()"
      ]
     },
     "execution_count": 13,
     "metadata": {},
     "output_type": "execute_result"
    }
   ],
   "source": [
    "sgd_reg = SGDRegressor()\n",
    "\n",
    "sgd_reg.fit(X_train, y_train)"
   ]
  },
  {
   "cell_type": "code",
   "execution_count": 14,
   "id": "1442d770",
   "metadata": {},
   "outputs": [
    {
     "name": "stdout",
     "output_type": "stream",
     "text": [
      "The measn squared error is 0.018406619615023347\n",
      "The mean absolute error is 0.10043486979032994\n",
      "The root mean sqaured error is 0.1356709976930344\n"
     ]
    }
   ],
   "source": [
    "# validating  the model on validation set\n",
    "\n",
    "y_valid_pre = sgd_reg.predict(X_valid)\n",
    "MSE = metrics.mean_squared_error(y_valid, y_valid_pre)\n",
    "MAE =  metrics.mean_absolute_error(y_valid, y_valid_pre)\n",
    "RMSE = MSE**0.5\n",
    "print(f\"The measn squared error is {MSE}\")\n",
    "print(f\"The mean absolute error is {MAE}\")\n",
    "print(f\"The root mean sqaured error is {RMSE}\")"
   ]
  },
  {
   "cell_type": "markdown",
   "id": "ff146423",
   "metadata": {},
   "source": [
    "# Linear Regression works better for the model"
   ]
  },
  {
   "cell_type": "code",
   "execution_count": 15,
   "id": "0e2f7f58",
   "metadata": {},
   "outputs": [
    {
     "name": "stdout",
     "output_type": "stream",
     "text": [
      "The mean squared error is 0.013696382522852034\n",
      "The mean absolute error is 0.08901926632358415\n",
      "The root mean squared error is 0.11703154499045133\n"
     ]
    }
   ],
   "source": [
    "# Testing the linear regression model on the test set\n",
    "y_test_pred = reg.predict(X_test)\n",
    "MSE = metrics.mean_squared_error(y_test, y_test_pred)\n",
    "MAE =  metrics.mean_absolute_error(y_test, y_test_pred)\n",
    "RMSE = MSE**0.5\n",
    "print(f\"The mean squared error is {MSE}\")\n",
    "print(f\"The mean absolute error is {MAE}\")\n",
    "print(f\"The root mean squared error is {RMSE}\")"
   ]
  },
  {
   "cell_type": "code",
   "execution_count": 17,
   "id": "9b29bce7",
   "metadata": {},
   "outputs": [
    {
     "name": "stdout",
     "output_type": "stream",
     "text": [
      "R^2 is 0.5451492679602775\n",
      "RMSE is: 0.11703154499045133\n"
     ]
    },
    {
     "data": {
      "image/png": "[encoded data removed]",
      "text/plain": [
       "<Figure size 640x480 with 1 Axes>"
      ]
     },
     "metadata": {},
     "output_type": "display_data"
    }
   ],
   "source": [
    "plt.scatter(y_test_pred,y_test,color='b')\n",
    "plt.xlabel('Predicted')\n",
    "plt.ylabel('Actual')\n",
    "print(f'R^2 is {reg.score(X_test,y_test)}\\nRMSE is: {metrics.mean_squared_error(y_test,y_test_pred,squared=False)}')"
   ]
  },
  {
   "cell_type": "markdown",
   "id": "7935e62d",
   "metadata": {},
   "source": [
    "# Finding best parameters using gridsearch"
   ]
  },
  {
   "cell_type": "code",
   "execution_count": 18,
   "id": "a1513622",
   "metadata": {},
   "outputs": [],
   "source": [
    "from sklearn.model_selection import  GridSearchCV "
   ]
  },
  {
   "cell_type": "code",
   "execution_count": 19,
   "id": "6b3031dd",
   "metadata": {},
   "outputs": [
    {
     "name": "stdout",
     "output_type": "stream",
     "text": [
      "{'copy_X': True, 'fit_intercept': True}\n"
     ]
    }
   ],
   "source": [
    "parameters = {'fit_intercept':[True,False],'copy_X':[True,False]}\n",
    "normal_model = LinearRegression()\n",
    "model = GridSearchCV(normal_model,parameters,scoring='neg_mean_squared_error',n_jobs=-1,cv=3)\n",
    "model.fit(X_train,y_train)\n",
    "print(model.best_params_)\n",
    "#fitting Linear Regression with above parameters"
   ]
  },
  {
   "cell_type": "code",
   "execution_count": 20,
   "id": "3bceaecf",
   "metadata": {},
   "outputs": [],
   "source": [
    "best = LinearRegression(copy_X= True, fit_intercept= True)\n",
    "best.fit(X_train,y_train)\n",
    "filename = 'Linearregression.pkl'\n",
    "pickle.dump(best, open(filename, 'wb'))"
   ]
  },
  {
   "cell_type": "code",
   "execution_count": 21,
   "id": "82c96972",
   "metadata": {},
   "outputs": [
    {
     "name": "stdout",
     "output_type": "stream",
     "text": [
      "The mean squared error is 0.013696382522852034\n",
      "The mean absolute error is 0.08901926632358415\n",
      "The root mean sqaured error is 0.11703154499045133\n"
     ]
    }
   ],
   "source": [
    "#model evalution on test data set\n",
    "y_test_pred = best.predict(X_test)\n",
    "MSE = metrics.mean_squared_error(y_test, y_test_pred)\n",
    "MAE =  metrics.mean_absolute_error(y_test, y_test_pred)\n",
    "RMSE = MSE**0.5\n",
    "print(f\"The mean squared error is {MSE}\")\n",
    "print(f\"The mean absolute error is {MAE}\")\n",
    "print(f\"The root mean sqaured error is {RMSE}\")"
   ]
  },
  {
   "cell_type": "code",
   "execution_count": 22,
   "id": "3a31d397",
   "metadata": {},
   "outputs": [
    {
     "name": "stdout",
     "output_type": "stream",
     "text": [
      " r2 score is 0.5451492679602775\n"
     ]
    }
   ],
   "source": [
    "#Regression score is \n",
    "print(f\" r2 score is {r2_score(y_test,y_test_pred)}\")"
   ]
  },
  {
   "cell_type": "code",
   "execution_count": null,
   "id": "a2d03dc4",
   "metadata": {},
   "outputs": [],
   "source": []
  },
  {
   "cell_type": "code",
   "execution_count": null,
   "id": "b7ecd15d",
   "metadata": {},
   "outputs": [],
   "source": []
  }
 ],
 "metadata": {
  "kernelspec": {
   "display_name": "Python 3 (ipykernel)",
   "language": "python",
   "name": "python3"
  },
  "language_info": {
   "codemirror_mode": {
    "name": "ipython",
    "version": 3
   },
   "file_extension": ".py",
   "mimetype": "text/x-python",
   "name": "python",
   "nbconvert_exporter": "python",
   "pygments_lexer": "ipython3",
   "version": "3.9.13"
  }
 },
 "nbformat": 4,
 "nbformat_minor": 5
}
